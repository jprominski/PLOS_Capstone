{
 "cells": [
  {
   "cell_type": "code",
   "execution_count": 3,
   "metadata": {},
   "outputs": [
    {
     "ename": "ModuleNotFoundError",
     "evalue": "No module named 'plos_regex'",
     "output_type": "error",
     "traceback": [
      "\u001b[0;31m---------------------------------------------------------------------------\u001b[0m",
      "\u001b[0;31mModuleNotFoundError\u001b[0m                       Traceback (most recent call last)",
      "\u001b[0;32m<ipython-input-3-6f01a8c52872>\u001b[0m in \u001b[0;36m<module>\u001b[0;34m()\u001b[0m\n\u001b[1;32m      1\u001b[0m \u001b[0;32mimport\u001b[0m \u001b[0mdatetime\u001b[0m\u001b[0;34m\u001b[0m\u001b[0m\n\u001b[0;32m----> 2\u001b[0;31m \u001b[0;32mfrom\u001b[0m \u001b[0mallofplos\u001b[0m\u001b[0;34m.\u001b[0m\u001b[0mplos_corpus\u001b[0m \u001b[0;32mimport\u001b[0m \u001b[0;34m(\u001b[0m\u001b[0mget_uncorrected_proofs_list\u001b[0m\u001b[0;34m,\u001b[0m \u001b[0mcheck_if_uncorrected_proof\u001b[0m\u001b[0;34m,\u001b[0m \u001b[0mdownload_updated_xml\u001b[0m\u001b[0;34m)\u001b[0m\u001b[0;34m\u001b[0m\u001b[0m\n\u001b[0m\u001b[1;32m      3\u001b[0m \u001b[0;32mfrom\u001b[0m \u001b[0mallofplos\u001b[0m\u001b[0;34m.\u001b[0m\u001b[0mplos_regex\u001b[0m \u001b[0;32mimport\u001b[0m \u001b[0;34m(\u001b[0m\u001b[0mvalidate_doi\u001b[0m\u001b[0;34m,\u001b[0m \u001b[0mshow_invalid_dois\u001b[0m\u001b[0;34m,\u001b[0m \u001b[0mfind_valid_dois\u001b[0m\u001b[0;34m)\u001b[0m\u001b[0;34m\u001b[0m\u001b[0m\n\u001b[1;32m      4\u001b[0m from allofplos.samples.corpus_analysis import (get_random_list_of_dois, check_if_doi_resolves,\n\u001b[1;32m      5\u001b[0m                                      get_all_local_dois, get_all_solr_dois, get_all_plos_dois)\n",
      "\u001b[0;32m/Users/jackprominski/anaconda/lib/python3.6/site-packages/allofplos/plos_corpus.py\u001b[0m in \u001b[0;36m<module>\u001b[0;34m()\u001b[0m\n\u001b[1;32m     34\u001b[0m \u001b[0;32mfrom\u001b[0m \u001b[0mtqdm\u001b[0m \u001b[0;32mimport\u001b[0m \u001b[0mtqdm\u001b[0m\u001b[0;34m\u001b[0m\u001b[0m\n\u001b[1;32m     35\u001b[0m \u001b[0;34m\u001b[0m\u001b[0m\n\u001b[0;32m---> 36\u001b[0;31m \u001b[0;32mfrom\u001b[0m \u001b[0mplos_regex\u001b[0m \u001b[0;32mimport\u001b[0m \u001b[0;34m(\u001b[0m\u001b[0mvalidate_doi\u001b[0m\u001b[0;34m,\u001b[0m \u001b[0mcorpusdir\u001b[0m\u001b[0;34m,\u001b[0m \u001b[0mnewarticledir\u001b[0m\u001b[0;34m)\u001b[0m\u001b[0;34m\u001b[0m\u001b[0m\n\u001b[0m\u001b[1;32m     37\u001b[0m from transformations import (BASE_URL_API, EXT_URL_TMP, INT_URL_TMP, URL_TMP, filename_to_doi,\n\u001b[1;32m     38\u001b[0m                              doi_to_path)\n",
      "\u001b[0;31mModuleNotFoundError\u001b[0m: No module named 'plos_regex'"
     ]
    }
   ],
   "source": [
    "import datetime\n",
    "from allofplos.plos_corpus import (get_uncorrected_proofs_list, check_if_uncorrected_proof, download_updated_xml)\n",
    "from allofplos.plos_regex import (validate_doi, show_invalid_dois, find_valid_dois)\n",
    "from allofplos.samples.corpus_analysis import (get_random_list_of_dois, check_if_doi_resolves,\n",
    "                                     get_all_local_dois, get_all_solr_dois, get_all_plos_dois)\n",
    "from allofplos import Article\n",
    "\n"
   ]
  },
  {
   "cell_type": "code",
   "execution_count": 2,
   "metadata": {},
   "outputs": [
    {
     "ename": "ModuleNotFoundError",
     "evalue": "No module named 'allofplos.article_class'",
     "output_type": "error",
     "traceback": [
      "\u001b[0;31m---------------------------------------------------------------------------\u001b[0m",
      "\u001b[0;31mModuleNotFoundError\u001b[0m                       Traceback (most recent call last)",
      "\u001b[0;32m<ipython-input-2-357edc87a603>\u001b[0m in \u001b[0;36m<module>\u001b[0;34m()\u001b[0m\n\u001b[0;32m----> 1\u001b[0;31m \u001b[0;32mfrom\u001b[0m \u001b[0mallofplos\u001b[0m \u001b[0;32mimport\u001b[0m \u001b[0mArticle\u001b[0m\u001b[0;34m\u001b[0m\u001b[0m\n\u001b[0m",
      "\u001b[0;32m/Users/jackprominski/anaconda/lib/python3.6/site-packages/allofplos/__init__.py\u001b[0m in \u001b[0;36m<module>\u001b[0;34m()\u001b[0m\n\u001b[0;32m----> 1\u001b[0;31m \u001b[0;32mfrom\u001b[0m \u001b[0mallofplos\u001b[0m\u001b[0;34m.\u001b[0m\u001b[0marticle_class\u001b[0m \u001b[0;32mimport\u001b[0m \u001b[0mArticle\u001b[0m\u001b[0;34m\u001b[0m\u001b[0m\n\u001b[0m",
      "\u001b[0;31mModuleNotFoundError\u001b[0m: No module named 'allofplos.article_class'"
     ]
    }
   ],
   "source": [
    "from allofplos import Article"
   ]
  },
  {
   "cell_type": "code",
   "execution_count": 1,
   "metadata": {},
   "outputs": [],
   "source": [
    "from allofplos import Article"
   ]
  },
  {
   "cell_type": "code",
   "execution_count": 5,
   "metadata": {},
   "outputs": [
    {
     "data": {
      "text/plain": [
       "'Physician assessments of drug seeking behavior: A mixed methods study'"
      ]
     },
     "execution_count": 5,
     "metadata": {},
     "output_type": "execute_result"
    }
   ],
   "source": [
    "article = Article('10.1371/journal.pone.0178690')\n",
    "article.title"
   ]
  },
  {
   "cell_type": "code",
   "execution_count": null,
   "metadata": {
    "collapsed": true
   },
   "outputs": [],
   "source": []
  }
 ],
 "metadata": {
  "kernelspec": {
   "display_name": "Python 3",
   "language": "python",
   "name": "python3"
  },
  "language_info": {
   "codemirror_mode": {
    "name": "ipython",
    "version": 3
   },
   "file_extension": ".py",
   "mimetype": "text/x-python",
   "name": "python",
   "nbconvert_exporter": "python",
   "pygments_lexer": "ipython3",
   "version": "3.6.1"
  }
 },
 "nbformat": 4,
 "nbformat_minor": 2
}
