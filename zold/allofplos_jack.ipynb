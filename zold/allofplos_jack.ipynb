{
 "cells": [
  {
   "cell_type": "code",
   "execution_count": 23,
   "metadata": {
    "ExecuteTime": {
     "end_time": "2018-01-30T05:18:58.775283Z",
     "start_time": "2018-01-30T05:18:57.691373Z"
    },
    "collapsed": true
   },
   "outputs": [],
   "source": [
    "from allofplos import Article, Corpus\n",
    "from tqdm import tqdm_notebook as tqdm\n",
    "import pandas as pd"
   ]
  },
  {
   "cell_type": "code",
   "execution_count": 4,
   "metadata": {
    "ExecuteTime": {
     "end_time": "2018-01-30T04:54:32.379971Z",
     "start_time": "2018-01-30T04:54:30.838964Z"
    },
    "collapsed": true
   },
   "outputs": [],
   "source": [
    "# Get all corpus dois (initialize corpus object)\n",
    "corpus = Corpus()\n",
    "dois = corpus.dois"
   ]
  },
  {
   "cell_type": "code",
   "execution_count": 5,
   "metadata": {
    "ExecuteTime": {
     "end_time": "2018-01-30T04:54:36.501283Z",
     "start_time": "2018-01-30T04:54:35.149506Z"
    }
   },
   "outputs": [
    {
     "name": "stdout",
     "output_type": "stream",
     "text": [
      "['10.1371/journal.pone.0149122', '10.1371/journal.pone.0098378', '10.1371/journal.pone.0186273', '10.1371/journal.pone.0011422', '10.1371/journal.pone.0162752']\n"
     ]
    }
   ],
   "source": [
    "# Get random 5 dois\n",
    "random_dois = corpus.random_dois(5)\n",
    "print(random_dois)"
   ]
  },
  {
   "cell_type": "code",
   "execution_count": 6,
   "metadata": {
    "ExecuteTime": {
     "end_time": "2018-01-30T04:54:39.257832Z",
     "start_time": "2018-01-30T04:54:39.253989Z"
    },
    "collapsed": true
   },
   "outputs": [],
   "source": [
    "# Initialize first Article object so can loop through; also set text viewer\n",
    "article = Article(dois[0])\n",
    "article.text_viewer = 'subl'"
   ]
  },
  {
   "cell_type": "code",
   "execution_count": 20,
   "metadata": {
    "ExecuteTime": {
     "end_time": "2018-01-30T05:17:57.052453Z",
     "start_time": "2018-01-30T04:59:31.090622Z"
    }
   },
   "outputs": [
    {
     "data": {
      "application/vnd.jupyter.widget-view+json": {
       "model_id": "578959a4b0e64d4abf65f47960ca57e4"
      }
     },
     "metadata": {},
     "output_type": "display_data"
    },
    {
     "name": "stdout",
     "output_type": "stream",
     "text": [
      "No abstract found for research article 10.1371/journal.pone.0173427\n",
      "No abstract found for research article 10.1371/journal.pone.0160248\n",
      "No abstract found for research article 10.1371/journal.pone.0174259\n",
      "No abstract found for research article 10.1371/journal.pone.0163841\n",
      "No abstract found for research article 10.1371/journal.pone.0184204\n",
      "No abstract found for research article 10.1371/journal.pone.0150341\n",
      "\n"
     ]
    }
   ],
   "source": [
    "out_doi = []\n",
    "out_abs = []\n",
    "\n",
    "for doi in tqdm(dois):\n",
    "    article.doi = doi\n",
    "    if article.abstract != '':\n",
    "        out_doi.append(article.doi)\n",
    "        out_abs.append(article.abstract)\n",
    "    else:\n",
    "        continue"
   ]
  },
  {
   "cell_type": "code",
   "execution_count": 27,
   "metadata": {
    "ExecuteTime": {
     "end_time": "2018-01-30T05:21:45.613982Z",
     "start_time": "2018-01-30T05:21:45.572019Z"
    },
    "collapsed": true
   },
   "outputs": [],
   "source": [
    "df = pd.DataFrame({'doi':out_doi,'abstract':out_abs})"
   ]
  },
  {
   "cell_type": "code",
   "execution_count": 30,
   "metadata": {
    "ExecuteTime": {
     "end_time": "2018-01-30T05:22:23.084374Z",
     "start_time": "2018-01-30T05:22:23.064053Z"
    },
    "collapsed": true
   },
   "outputs": [],
   "source": [
    "df = df.set_index('doi')"
   ]
  },
  {
   "cell_type": "code",
   "execution_count": 31,
   "metadata": {
    "ExecuteTime": {
     "end_time": "2018-01-30T05:22:33.784872Z",
     "start_time": "2018-01-30T05:22:33.774863Z"
    }
   },
   "outputs": [
    {
     "data": {
      "text/html": [
       "<div>\n",
       "<style>\n",
       "    .dataframe thead tr:only-child th {\n",
       "        text-align: right;\n",
       "    }\n",
       "\n",
       "    .dataframe thead th {\n",
       "        text-align: left;\n",
       "    }\n",
       "\n",
       "    .dataframe tbody tr th {\n",
       "        vertical-align: top;\n",
       "    }\n",
       "</style>\n",
       "<table border=\"1\" class=\"dataframe\">\n",
       "  <thead>\n",
       "    <tr style=\"text-align: right;\">\n",
       "      <th></th>\n",
       "      <th>abstract</th>\n",
       "    </tr>\n",
       "    <tr>\n",
       "      <th>doi</th>\n",
       "      <th></th>\n",
       "    </tr>\n",
       "  </thead>\n",
       "  <tbody>\n",
       "    <tr>\n",
       "      <th>10.1371/journal.pone.0080347</th>\n",
       "      <td>Recent excavations in Level 4 at BK (Bed II, O...</td>\n",
       "    </tr>\n",
       "    <tr>\n",
       "      <th>10.1371/journal.pone.0025089</th>\n",
       "      <td>The adhesin NadA favors cell adhesion/invasion...</td>\n",
       "    </tr>\n",
       "    <tr>\n",
       "      <th>10.1371/journal.pone.0054670</th>\n",
       "      <td>Transcriptional gene silencing (TGS)–a phenome...</td>\n",
       "    </tr>\n",
       "    <tr>\n",
       "      <th>10.1371/journal.pone.0098508</th>\n",
       "      <td>Objective\\nExisting evidence is limited on wha...</td>\n",
       "    </tr>\n",
       "    <tr>\n",
       "      <th>10.1371/journal.pone.0150364</th>\n",
       "      <td>Ubiquitination is a relevant cell regulatory m...</td>\n",
       "    </tr>\n",
       "  </tbody>\n",
       "</table>\n",
       "</div>"
      ],
      "text/plain": [
       "                                                                       abstract\n",
       "doi                                                                            \n",
       "10.1371/journal.pone.0080347  Recent excavations in Level 4 at BK (Bed II, O...\n",
       "10.1371/journal.pone.0025089  The adhesin NadA favors cell adhesion/invasion...\n",
       "10.1371/journal.pone.0054670  Transcriptional gene silencing (TGS)–a phenome...\n",
       "10.1371/journal.pone.0098508  Objective\\nExisting evidence is limited on wha...\n",
       "10.1371/journal.pone.0150364  Ubiquitination is a relevant cell regulatory m..."
      ]
     },
     "execution_count": 31,
     "metadata": {},
     "output_type": "execute_result"
    }
   ],
   "source": [
    "df.head()"
   ]
  },
  {
   "cell_type": "code",
   "execution_count": 32,
   "metadata": {
    "ExecuteTime": {
     "end_time": "2018-01-30T05:23:04.797268Z",
     "start_time": "2018-01-30T05:22:56.721891Z"
    },
    "collapsed": true
   },
   "outputs": [],
   "source": [
    "df.to_csv('all_abstracts.csv')"
   ]
  }
 ],
 "metadata": {
  "kernelspec": {
   "display_name": "Python 3",
   "language": "python",
   "name": "python3"
  },
  "language_info": {
   "codemirror_mode": {
    "name": "ipython",
    "version": 3
   },
   "file_extension": ".py",
   "mimetype": "text/x-python",
   "name": "python",
   "nbconvert_exporter": "python",
   "pygments_lexer": "ipython3",
   "version": "3.6.1"
  },
  "toc": {
   "nav_menu": {},
   "number_sections": true,
   "sideBar": true,
   "skip_h1_title": false,
   "toc_cell": false,
   "toc_position": {},
   "toc_section_display": "block",
   "toc_window_display": false
  },
  "varInspector": {
   "cols": {
    "lenName": 16,
    "lenType": 16,
    "lenVar": 40
   },
   "kernels_config": {
    "python": {
     "delete_cmd_postfix": "",
     "delete_cmd_prefix": "del ",
     "library": "var_list.py",
     "varRefreshCmd": "print(var_dic_list())"
    },
    "r": {
     "delete_cmd_postfix": ") ",
     "delete_cmd_prefix": "rm(",
     "library": "var_list.r",
     "varRefreshCmd": "cat(var_dic_list()) "
    }
   },
   "types_to_exclude": [
    "module",
    "function",
    "builtin_function_or_method",
    "instance",
    "_Feature"
   ],
   "window_display": false
  }
 },
 "nbformat": 4,
 "nbformat_minor": 2
}
