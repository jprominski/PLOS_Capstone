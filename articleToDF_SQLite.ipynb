{
 "cells": [
  {
   "cell_type": "code",
   "execution_count": 3,
   "metadata": {
    "collapsed": true
   },
   "outputs": [],
   "source": [
    "import sqlite3\n",
    "import datetime as datetime\n",
    "conn = sqlite3.connect(\"/plos_data/testDB.db\")"
   ]
  },
  {
   "cell_type": "code",
   "execution_count": 4,
   "metadata": {
    "collapsed": false
   },
   "outputs": [],
   "source": [
    "cur = conn.cursor()"
   ]
  },
  {
   "cell_type": "code",
   "execution_count": 6,
   "metadata": {
    "collapsed": false
   },
   "outputs": [],
   "source": [
    "import os\n",
    "import itertools\n",
    "import numpy as np\n",
    "import pandas as pd\n",
    "import xml.etree.ElementTree as ET\n",
    "from operator import add\n",
    "#path = 'C:/Users/Pragati Shah/subset/'\n",
    "#path1='C:/Users/Pragati Shah/Downloads/sample_10000/sample_10000/'\n",
    "path2='PLOS Journals/PLoS_Pathog'"
   ]
  },
  {
   "cell_type": "code",
   "execution_count": 7,
   "metadata": {
    "collapsed": true
   },
   "outputs": [],
   "source": [
    "#This function takes a directory path, parses all the xml files present in the directory, and returns the key attributes in\n",
    "#the format of a dataframe.\n",
    "import glob\n",
    "def articleToDF(path):\n",
    "    mainDF=pd.DataFrame(columns=[\"doi\",\"pmid\",\"journal\",\"publisher_id\",\"publisher_name\",\"authors\",\"editors\",\"subjects\",\"title\",\"alt_title\",\"date_pub\",\"date_rec\",\"abstract\",\"body\"])\n",
    "    tempDF=pd.DataFrame()\n",
    "    \n",
    "    for fn in glob.iglob(path + '**/*.nxml', recursive=True):\n",
    "        author_surnames=[]\n",
    "        author_names=[]\n",
    "        editor_surnames=[]\n",
    "        editor_names=[]\n",
    "        subjects=[]\n",
    "        title=\" \"\n",
    "        alt_title=\" \"\n",
    "        authors=[]\n",
    "        editors=[]\n",
    "        abstract=\" \"\n",
    "        body=\" \"\n",
    "        journal=\" \"\n",
    "        publisher_id=\" \"\n",
    "        publisher_name=\" \"\n",
    "        rday=0\n",
    "        rmonth=0\n",
    "        ryear=0\n",
    "        pday=0\n",
    "        pmonth=0\n",
    "        pyear=0\n",
    "        tree = ET.parse(fn)  \n",
    "        root = tree.getroot() \n",
    "        for elem in tree.iter(tag='article-id'):\n",
    "            a=str(elem.attrib)\n",
    "            if (a.find('pmid')>-1):        \n",
    "                pmid=elem.text\n",
    "            if (a.find('doi')>-1):        \n",
    "                doi=elem.text\n",
    "        for elem in tree.iter(tag='contrib'):\n",
    "            a=str(elem.attrib)\n",
    "            if (a.find('author')>-1):\n",
    "                for i in elem.iter(tag='surname'):\n",
    "                    if i.text is not None:\n",
    "                    #print (i.tag, i.attrib,i.text)\n",
    "                        author_surnames.append(i.text)\n",
    "                    else:\n",
    "                        author_surnames.append(\"\")\n",
    "                for i in elem.iter(tag='given-names'):\n",
    "                    #print (i.tag, i.attrib,i.text)\n",
    "                    if i.text is not None:\n",
    "                    #print (i.tag, i.attrib,i.text)\n",
    "                        author_names.append(i.text)\n",
    "                    else:\n",
    "                        author_names.append(\"\")\n",
    "            spaces=' '* len(author_names)\n",
    "            authors=list(map(add,list(map(add,author_names,spaces)),author_surnames))\n",
    "            #authors=author_names\n",
    "            if (a.find('editor')>-1):\n",
    "                for i in elem.iter(tag='surname'):\n",
    "                    if i.text is not None:\n",
    "                    #print (i.tag, i.attrib,i.text)\n",
    "                        editor_surnames.append(i.text)\n",
    "                    else:\n",
    "                        editor_surnames.append(\"\")\n",
    "                for i in elem.iter(tag='given-names'):\n",
    "                    #print (i.tag, i.attrib,i.text)\n",
    "                    if i.text is not None:\n",
    "                    #print (i.tag, i.attrib,i.text)\n",
    "                        editor_names.append(i.text)\n",
    "                    else:\n",
    "                        editor_names.append(\"\")\n",
    "\n",
    "            spaces=' '* len(editor_names)\n",
    "            editors=list(map(add,list(map(add, editor_names,spaces)),editor_surnames))\n",
    "            #editors=editor_names       \n",
    "        for a in root.iter('article-meta'):\n",
    "            for elem in a.iter('article-title'):\n",
    "                title=elem.text\n",
    "            for elem in a.iter('alt-title'):\n",
    "                alt_title=elem.text\n",
    "            for elem in a.iter('abstract'):    \n",
    "                b=ET.tostring(elem, method='text', encoding='unicode')\n",
    "                abstract=b\n",
    "         \n",
    "        for subject in root.iter('subject'):\n",
    "            subjects.append(subject.text)\n",
    "            \n",
    "        for a in root.iter('pub-date'):\n",
    "            for elem in a.iter('day'):\n",
    "                pday=elem.text\n",
    "            for elem in a.iter('month'):\n",
    "                pmonth=elem.text\n",
    "            for elem in a.iter('year'):\n",
    "                #print(elem.text)\n",
    "                pyear=elem.text\n",
    "        date_pub=str(pyear)+'-'+str(pmonth)+'-'+str(pday)\n",
    "        #date_pub=datetime.datetime.strptime(str_pdate, \"%Y-%m-%d\")\n",
    "\n",
    "        for a in root.iter('date'):\n",
    "            x=str(a.attrib)\n",
    "            #print(a.find('author'))\n",
    "            if (x.find('received')>-1):\n",
    "                for elem in a.iter(tag='day'):\n",
    "                    rday=elem.text\n",
    "                for elem in a.iter(tag='month'):\n",
    "                    rmonth=elem.text\n",
    "                for elem in a.iter(tag='year'):\n",
    "                    #print(elem.text)\n",
    "                    ryear=elem.text\n",
    "        date_rec=str(ryear)+'-'+str(rmonth)+'-'+str(rday)\n",
    "        #date_rec=datetime.datetime.strptime(str_rdate, \"%Y-%m-%d\")\n",
    "        \n",
    "        for a in root.iter('body'):\n",
    "            b=ET.tostring(a, method='text', encoding='unicode')\n",
    "            body=b\n",
    "        \n",
    "        for elem in tree.iter(tag='journal-title'):\n",
    "            journal=elem.text\n",
    "            \n",
    "        for elem in tree.iter(tag='journal-id'):\n",
    "            a=str(elem.attrib)\n",
    "            if (a.find('publisher-id')>-1):\n",
    "                publisher_id=elem.text\n",
    "             \n",
    "        for elem in tree.iter(tag='journal-meta'):    \n",
    "            for elem1 in elem.iter(tag='publisher-name'):    \n",
    "                publisher_name=elem1.text\n",
    "\n",
    "        mainDF.loc[len(mainDF)]=[doi,pmid,journal,publisher_id,publisher_name,authors,editors,subjects,title,alt_title,date_pub,date_rec,abstract,body]\n",
    "    return(mainDF)\n"
   ]
  },
  {
   "cell_type": "code",
   "execution_count": 78,
   "metadata": {
    "collapsed": false
   },
   "outputs": [
    {
     "data": {
      "text/html": [
       "<div>\n",
       "<table border=\"1\" class=\"dataframe\">\n",
       "  <thead>\n",
       "    <tr style=\"text-align: right;\">\n",
       "      <th></th>\n",
       "      <th>doi</th>\n",
       "      <th>pmid</th>\n",
       "      <th>journal</th>\n",
       "      <th>publisher_id</th>\n",
       "      <th>publisher_name</th>\n",
       "      <th>authors</th>\n",
       "      <th>editors</th>\n",
       "      <th>subjects</th>\n",
       "      <th>title</th>\n",
       "      <th>alt_title</th>\n",
       "      <th>date_pub</th>\n",
       "      <th>date_rec</th>\n",
       "      <th>abstract</th>\n",
       "      <th>body</th>\n",
       "    </tr>\n",
       "  </thead>\n",
       "  <tbody>\n",
       "    <tr>\n",
       "      <th>0</th>\n",
       "      <td>10.1371/journal.ppat.1003942</td>\n",
       "      <td>24586156</td>\n",
       "      <td>PLoS Pathogens</td>\n",
       "      <td>plos</td>\n",
       "      <td>Public Library of Science</td>\n",
       "      <td>[John D. Chan, Prince N. Agbedanu, Mostafa Zam...</td>\n",
       "      <td>[Robert M. Greenberg]</td>\n",
       "      <td>[Research Article, Biology, Biochemistry, Drug...</td>\n",
       "      <td>‘Death and Axes’: Unexpected Ca</td>\n",
       "      <td>Ca</td>\n",
       "      <td>2014-2-20</td>\n",
       "      <td>2013-9-20</td>\n",
       "      <td>Author SummarySchistosomiasis (Bilharzia) is o...</td>\n",
       "      <td>IntroductionOver a third of the world's popula...</td>\n",
       "    </tr>\n",
       "    <tr>\n",
       "      <th>1</th>\n",
       "      <td>10.1371/journal.ppat.1004337</td>\n",
       "      <td>25166308</td>\n",
       "      <td>PLoS Pathogens</td>\n",
       "      <td>plos</td>\n",
       "      <td>Public Library of Science</td>\n",
       "      <td>[Marjon Navis, Karen Tran, Shridhar Bale, Gane...</td>\n",
       "      <td>[Ronald C. Desrosiers]</td>\n",
       "      <td>[Research Article, Biology and Life Sciences, ...</td>\n",
       "      <td>HIV-1 Receptor Binding Site-Directed Antibodie...</td>\n",
       "      <td>Vaccine-Elicited VH1-2 HIV Abs in Macaques</td>\n",
       "      <td>2014-8-28</td>\n",
       "      <td>2014-2-25</td>\n",
       "      <td>Author SummaryThe development of an HIV-1 vacc...</td>\n",
       "      <td>IntroductionThe neutralization resistant prope...</td>\n",
       "    </tr>\n",
       "    <tr>\n",
       "      <th>2</th>\n",
       "      <td>10.1371/journal.ppat.1005729</td>\n",
       "      <td>27348812</td>\n",
       "      <td>PLoS Pathogens</td>\n",
       "      <td>plos</td>\n",
       "      <td>Public Library of Science</td>\n",
       "      <td>[Tiffany A. Russell, David C. Tscharke]</td>\n",
       "      <td>[David A. Leib]</td>\n",
       "      <td>[Research Article, Biology and Life Sciences, ...</td>\n",
       "      <td>Lytic Promoters Express Protein during Herpes ...</td>\n",
       "      <td>Lytic Gene Expression in HSV Latency</td>\n",
       "      <td>2016-6-27</td>\n",
       "      <td>2016-3-21</td>\n",
       "      <td>Author SummaryHerpes simplex virus, which caus...</td>\n",
       "      <td>IntroductionThe herpesviruses are a large fami...</td>\n",
       "    </tr>\n",
       "    <tr>\n",
       "      <th>3</th>\n",
       "      <td>10.1371/journal.ppat.1005413</td>\n",
       "      <td>26840124</td>\n",
       "      <td>PLoS Pathogens</td>\n",
       "      <td>plos</td>\n",
       "      <td>Public Library of Science</td>\n",
       "      <td>[Wei-Yun Wholey, Travis J. Kochan, David N. St...</td>\n",
       "      <td>[Andreas Peschel]</td>\n",
       "      <td>[Research Article, Biology and Life Sciences, ...</td>\n",
       "      <td>Expression of Streptococcus pneumoniae bacteri...</td>\n",
       "      <td>Coordinated Bacteriocin and Competence Express...</td>\n",
       "      <td>2016-2-3</td>\n",
       "      <td>2015-8-25</td>\n",
       "      <td>Author SummaryThe bacterial pathogen, Streptoc...</td>\n",
       "      <td>IntroductionStreptococcus pneumoniae (pneumoco...</td>\n",
       "    </tr>\n",
       "    <tr>\n",
       "      <th>4</th>\n",
       "      <td>10.1371/journal.ppat.1001165</td>\n",
       "      <td>21060817</td>\n",
       "      <td>PLoS Pathogens</td>\n",
       "      <td>plos</td>\n",
       "      <td>Public Library of Science</td>\n",
       "      <td>[Tracey L. Campbell, Erandi K. De Silva, Kelle...</td>\n",
       "      <td>[Joe D. Smith]</td>\n",
       "      <td>[Research Article, Genetics and Genomics/Gene ...</td>\n",
       "      <td>Identification and Genome-Wide Prediction of D...</td>\n",
       "      <td>ApiAP2 Binding Specificities in</td>\n",
       "      <td>2010-10-28</td>\n",
       "      <td>2010-5-5</td>\n",
       "      <td>Author Summary\\nPlasmodium falciparum is the m...</td>\n",
       "      <td>Introduction\\nPlasmodium falciparum is respons...</td>\n",
       "    </tr>\n",
       "  </tbody>\n",
       "</table>\n",
       "</div>"
      ],
      "text/plain": [
       "                            doi      pmid         journal publisher_id  \\\n",
       "0  10.1371/journal.ppat.1003942  24586156  PLoS Pathogens         plos   \n",
       "1  10.1371/journal.ppat.1004337  25166308  PLoS Pathogens         plos   \n",
       "2  10.1371/journal.ppat.1005729  27348812  PLoS Pathogens         plos   \n",
       "3  10.1371/journal.ppat.1005413  26840124  PLoS Pathogens         plos   \n",
       "4  10.1371/journal.ppat.1001165  21060817  PLoS Pathogens         plos   \n",
       "\n",
       "              publisher_name  \\\n",
       "0  Public Library of Science   \n",
       "1  Public Library of Science   \n",
       "2  Public Library of Science   \n",
       "3  Public Library of Science   \n",
       "4  Public Library of Science   \n",
       "\n",
       "                                             authors                 editors  \\\n",
       "0  [John D. Chan, Prince N. Agbedanu, Mostafa Zam...   [Robert M. Greenberg]   \n",
       "1  [Marjon Navis, Karen Tran, Shridhar Bale, Gane...  [Ronald C. Desrosiers]   \n",
       "2            [Tiffany A. Russell, David C. Tscharke]         [David A. Leib]   \n",
       "3  [Wei-Yun Wholey, Travis J. Kochan, David N. St...       [Andreas Peschel]   \n",
       "4  [Tracey L. Campbell, Erandi K. De Silva, Kelle...          [Joe D. Smith]   \n",
       "\n",
       "                                            subjects  \\\n",
       "0  [Research Article, Biology, Biochemistry, Drug...   \n",
       "1  [Research Article, Biology and Life Sciences, ...   \n",
       "2  [Research Article, Biology and Life Sciences, ...   \n",
       "3  [Research Article, Biology and Life Sciences, ...   \n",
       "4  [Research Article, Genetics and Genomics/Gene ...   \n",
       "\n",
       "                                               title  \\\n",
       "0                    ‘Death and Axes’: Unexpected Ca   \n",
       "1  HIV-1 Receptor Binding Site-Directed Antibodie...   \n",
       "2  Lytic Promoters Express Protein during Herpes ...   \n",
       "3  Expression of Streptococcus pneumoniae bacteri...   \n",
       "4  Identification and Genome-Wide Prediction of D...   \n",
       "\n",
       "                                           alt_title    date_pub   date_rec  \\\n",
       "0                                                 Ca   2014-2-20  2013-9-20   \n",
       "1         Vaccine-Elicited VH1-2 HIV Abs in Macaques   2014-8-28  2014-2-25   \n",
       "2               Lytic Gene Expression in HSV Latency   2016-6-27  2016-3-21   \n",
       "3  Coordinated Bacteriocin and Competence Express...    2016-2-3  2015-8-25   \n",
       "4                   ApiAP2 Binding Specificities in   2010-10-28   2010-5-5   \n",
       "\n",
       "                                            abstract  \\\n",
       "0  Author SummarySchistosomiasis (Bilharzia) is o...   \n",
       "1  Author SummaryThe development of an HIV-1 vacc...   \n",
       "2  Author SummaryHerpes simplex virus, which caus...   \n",
       "3  Author SummaryThe bacterial pathogen, Streptoc...   \n",
       "4  Author Summary\\nPlasmodium falciparum is the m...   \n",
       "\n",
       "                                                body  \n",
       "0  IntroductionOver a third of the world's popula...  \n",
       "1  IntroductionThe neutralization resistant prope...  \n",
       "2  IntroductionThe herpesviruses are a large fami...  \n",
       "3  IntroductionStreptococcus pneumoniae (pneumoco...  \n",
       "4  Introduction\\nPlasmodium falciparum is respons...  "
      ]
     },
     "execution_count": 78,
     "metadata": {},
     "output_type": "execute_result"
    }
   ],
   "source": [
    "import time\n",
    "\n",
    "start = time.time()\n",
    "DF1=articleToDF(path2)\n",
    "end = time.time()\n",
    "time1=(end-start)\n",
    "DF1.head()"
   ]
  },
  {
   "cell_type": "code",
   "execution_count": 43,
   "metadata": {
    "collapsed": false
   },
   "outputs": [
    {
     "name": "stdout",
     "output_type": "stream",
     "text": [
      "29.56559729576111\n"
     ]
    }
   ],
   "source": [
    "print(time1)"
   ]
  },
  {
   "cell_type": "code",
   "execution_count": 44,
   "metadata": {
    "collapsed": false
   },
   "outputs": [
    {
     "data": {
      "text/plain": [
       "doi               object\n",
       "pmid              object\n",
       "journal           object\n",
       "publisher_id      object\n",
       "publisher_name    object\n",
       "authors           object\n",
       "editors           object\n",
       "subjects          object\n",
       "title             object\n",
       "alt_title         object\n",
       "date_pub          object\n",
       "date_rec          object\n",
       "abstract          object\n",
       "body              object\n",
       "dtype: object"
      ]
     },
     "execution_count": 44,
     "metadata": {},
     "output_type": "execute_result"
    }
   ],
   "source": [
    "DF1.dtypes"
   ]
  },
  {
   "cell_type": "code",
   "execution_count": 79,
   "metadata": {
    "collapsed": true
   },
   "outputs": [],
   "source": [
    "DF1=DF1.astype('str')"
   ]
  },
  {
   "cell_type": "code",
   "execution_count": 14,
   "metadata": {
    "collapsed": false
   },
   "outputs": [
    {
     "data": {
      "text/plain": [
       "doi               object\n",
       "pmid              object\n",
       "journal           object\n",
       "publisher_id      object\n",
       "publisher_name    object\n",
       "authors           object\n",
       "editors           object\n",
       "subjects          object\n",
       "title             object\n",
       "alt_title         object\n",
       "date_pub          object\n",
       "date_rec          object\n",
       "abstract          object\n",
       "body              object\n",
       "dtype: object"
      ]
     },
     "execution_count": 14,
     "metadata": {},
     "output_type": "execute_result"
    }
   ],
   "source": [
    "DF1.dtypes"
   ]
  },
  {
   "cell_type": "code",
   "execution_count": 80,
   "metadata": {
    "collapsed": false
   },
   "outputs": [
    {
     "data": {
      "text/plain": [
       "6399"
      ]
     },
     "execution_count": 80,
     "metadata": {},
     "output_type": "execute_result"
    }
   ],
   "source": []
  },
  {
   "cell_type": "code",
   "execution_count": 81,
   "metadata": {
    "collapsed": false
   },
   "outputs": [],
   "source": [
    "DF1.to_sql(\"/plos_data/plos_pathog\", conn, if_exists=\"replace\")"
   ]
  },
  {
   "cell_type": "code",
   "execution_count": 7,
   "metadata": {
    "collapsed": false
   },
   "outputs": [
    {
     "ename": "DatabaseError",
     "evalue": "Execution failed on sql 'select * from plos_pathog': no such table: plos_pathog",
     "output_type": "error",
     "traceback": [
      "\u001b[1;31m---------------------------------------------------------------------------\u001b[0m",
      "\u001b[1;31mOperationalError\u001b[0m                          Traceback (most recent call last)",
      "\u001b[1;32m/home/ubuntu/anaconda3/lib/python3.5/site-packages/pandas/io/sql.py\u001b[0m in \u001b[0;36mexecute\u001b[1;34m(self, *args, **kwargs)\u001b[0m\n\u001b[0;32m   1563\u001b[0m             \u001b[1;32melse\u001b[0m\u001b[1;33m:\u001b[0m\u001b[1;33m\u001b[0m\u001b[0m\n\u001b[1;32m-> 1564\u001b[1;33m                 \u001b[0mcur\u001b[0m\u001b[1;33m.\u001b[0m\u001b[0mexecute\u001b[0m\u001b[1;33m(\u001b[0m\u001b[1;33m*\u001b[0m\u001b[0margs\u001b[0m\u001b[1;33m)\u001b[0m\u001b[1;33m\u001b[0m\u001b[0m\n\u001b[0m\u001b[0;32m   1565\u001b[0m             \u001b[1;32mreturn\u001b[0m \u001b[0mcur\u001b[0m\u001b[1;33m\u001b[0m\u001b[0m\n",
      "\u001b[1;31mOperationalError\u001b[0m: no such table: plos_pathog",
      "\nDuring handling of the above exception, another exception occurred:\n",
      "\u001b[1;31mDatabaseError\u001b[0m                             Traceback (most recent call last)",
      "\u001b[1;32m<ipython-input-7-5cb2fa6ff229>\u001b[0m in \u001b[0;36m<module>\u001b[1;34m()\u001b[0m\n\u001b[1;32m----> 1\u001b[1;33m \u001b[0mDF2\u001b[0m\u001b[1;33m=\u001b[0m\u001b[0mpd\u001b[0m\u001b[1;33m.\u001b[0m\u001b[0mread_sql\u001b[0m\u001b[1;33m(\u001b[0m\u001b[1;34m\"select * from plos_pathog\"\u001b[0m\u001b[1;33m,\u001b[0m\u001b[0mconn\u001b[0m\u001b[1;33m)\u001b[0m\u001b[1;33m\u001b[0m\u001b[0m\n\u001b[0m",
      "\u001b[1;32m/home/ubuntu/anaconda3/lib/python3.5/site-packages/pandas/io/sql.py\u001b[0m in \u001b[0;36mread_sql\u001b[1;34m(sql, con, index_col, coerce_float, params, parse_dates, columns, chunksize)\u001b[0m\n\u001b[0;32m    497\u001b[0m             \u001b[0msql\u001b[0m\u001b[1;33m,\u001b[0m \u001b[0mindex_col\u001b[0m\u001b[1;33m=\u001b[0m\u001b[0mindex_col\u001b[0m\u001b[1;33m,\u001b[0m \u001b[0mparams\u001b[0m\u001b[1;33m=\u001b[0m\u001b[0mparams\u001b[0m\u001b[1;33m,\u001b[0m\u001b[1;33m\u001b[0m\u001b[0m\n\u001b[0;32m    498\u001b[0m             \u001b[0mcoerce_float\u001b[0m\u001b[1;33m=\u001b[0m\u001b[0mcoerce_float\u001b[0m\u001b[1;33m,\u001b[0m \u001b[0mparse_dates\u001b[0m\u001b[1;33m=\u001b[0m\u001b[0mparse_dates\u001b[0m\u001b[1;33m,\u001b[0m\u001b[1;33m\u001b[0m\u001b[0m\n\u001b[1;32m--> 499\u001b[1;33m             chunksize=chunksize)\n\u001b[0m\u001b[0;32m    500\u001b[0m \u001b[1;33m\u001b[0m\u001b[0m\n\u001b[0;32m    501\u001b[0m     \u001b[1;32mtry\u001b[0m\u001b[1;33m:\u001b[0m\u001b[1;33m\u001b[0m\u001b[0m\n",
      "\u001b[1;32m/home/ubuntu/anaconda3/lib/python3.5/site-packages/pandas/io/sql.py\u001b[0m in \u001b[0;36mread_query\u001b[1;34m(self, sql, index_col, coerce_float, params, parse_dates, chunksize)\u001b[0m\n\u001b[0;32m   1597\u001b[0m \u001b[1;33m\u001b[0m\u001b[0m\n\u001b[0;32m   1598\u001b[0m         \u001b[0margs\u001b[0m \u001b[1;33m=\u001b[0m \u001b[0m_convert_params\u001b[0m\u001b[1;33m(\u001b[0m\u001b[0msql\u001b[0m\u001b[1;33m,\u001b[0m \u001b[0mparams\u001b[0m\u001b[1;33m)\u001b[0m\u001b[1;33m\u001b[0m\u001b[0m\n\u001b[1;32m-> 1599\u001b[1;33m         \u001b[0mcursor\u001b[0m \u001b[1;33m=\u001b[0m \u001b[0mself\u001b[0m\u001b[1;33m.\u001b[0m\u001b[0mexecute\u001b[0m\u001b[1;33m(\u001b[0m\u001b[1;33m*\u001b[0m\u001b[0margs\u001b[0m\u001b[1;33m)\u001b[0m\u001b[1;33m\u001b[0m\u001b[0m\n\u001b[0m\u001b[0;32m   1600\u001b[0m         \u001b[0mcolumns\u001b[0m \u001b[1;33m=\u001b[0m \u001b[1;33m[\u001b[0m\u001b[0mcol_desc\u001b[0m\u001b[1;33m[\u001b[0m\u001b[1;36m0\u001b[0m\u001b[1;33m]\u001b[0m \u001b[1;32mfor\u001b[0m \u001b[0mcol_desc\u001b[0m \u001b[1;32min\u001b[0m \u001b[0mcursor\u001b[0m\u001b[1;33m.\u001b[0m\u001b[0mdescription\u001b[0m\u001b[1;33m]\u001b[0m\u001b[1;33m\u001b[0m\u001b[0m\n\u001b[0;32m   1601\u001b[0m \u001b[1;33m\u001b[0m\u001b[0m\n",
      "\u001b[1;32m/home/ubuntu/anaconda3/lib/python3.5/site-packages/pandas/io/sql.py\u001b[0m in \u001b[0;36mexecute\u001b[1;34m(self, *args, **kwargs)\u001b[0m\n\u001b[0;32m   1574\u001b[0m             ex = DatabaseError(\n\u001b[0;32m   1575\u001b[0m                 \"Execution failed on sql '%s': %s\" % (args[0], exc))\n\u001b[1;32m-> 1576\u001b[1;33m             \u001b[0mraise_with_traceback\u001b[0m\u001b[1;33m(\u001b[0m\u001b[0mex\u001b[0m\u001b[1;33m)\u001b[0m\u001b[1;33m\u001b[0m\u001b[0m\n\u001b[0m\u001b[0;32m   1577\u001b[0m \u001b[1;33m\u001b[0m\u001b[0m\n\u001b[0;32m   1578\u001b[0m     \u001b[1;33m@\u001b[0m\u001b[0mstaticmethod\u001b[0m\u001b[1;33m\u001b[0m\u001b[0m\n",
      "\u001b[1;32m/home/ubuntu/anaconda3/lib/python3.5/site-packages/pandas/compat/__init__.py\u001b[0m in \u001b[0;36mraise_with_traceback\u001b[1;34m(exc, traceback)\u001b[0m\n\u001b[0;32m    331\u001b[0m         \u001b[1;32mif\u001b[0m \u001b[0mtraceback\u001b[0m \u001b[1;33m==\u001b[0m \u001b[0mEllipsis\u001b[0m\u001b[1;33m:\u001b[0m\u001b[1;33m\u001b[0m\u001b[0m\n\u001b[0;32m    332\u001b[0m             \u001b[0m_\u001b[0m\u001b[1;33m,\u001b[0m \u001b[0m_\u001b[0m\u001b[1;33m,\u001b[0m \u001b[0mtraceback\u001b[0m \u001b[1;33m=\u001b[0m \u001b[0msys\u001b[0m\u001b[1;33m.\u001b[0m\u001b[0mexc_info\u001b[0m\u001b[1;33m(\u001b[0m\u001b[1;33m)\u001b[0m\u001b[1;33m\u001b[0m\u001b[0m\n\u001b[1;32m--> 333\u001b[1;33m         \u001b[1;32mraise\u001b[0m \u001b[0mexc\u001b[0m\u001b[1;33m.\u001b[0m\u001b[0mwith_traceback\u001b[0m\u001b[1;33m(\u001b[0m\u001b[0mtraceback\u001b[0m\u001b[1;33m)\u001b[0m\u001b[1;33m\u001b[0m\u001b[0m\n\u001b[0m\u001b[0;32m    334\u001b[0m \u001b[1;32melse\u001b[0m\u001b[1;33m:\u001b[0m\u001b[1;33m\u001b[0m\u001b[0m\n\u001b[0;32m    335\u001b[0m     \u001b[1;31m# this version of raise is a syntax error in Python 3\u001b[0m\u001b[1;33m\u001b[0m\u001b[1;33m\u001b[0m\u001b[0m\n",
      "\u001b[1;32m/home/ubuntu/anaconda3/lib/python3.5/site-packages/pandas/io/sql.py\u001b[0m in \u001b[0;36mexecute\u001b[1;34m(self, *args, **kwargs)\u001b[0m\n\u001b[0;32m   1562\u001b[0m                 \u001b[0mcur\u001b[0m\u001b[1;33m.\u001b[0m\u001b[0mexecute\u001b[0m\u001b[1;33m(\u001b[0m\u001b[1;33m*\u001b[0m\u001b[0margs\u001b[0m\u001b[1;33m,\u001b[0m \u001b[1;33m**\u001b[0m\u001b[0mkwargs\u001b[0m\u001b[1;33m)\u001b[0m\u001b[1;33m\u001b[0m\u001b[0m\n\u001b[0;32m   1563\u001b[0m             \u001b[1;32melse\u001b[0m\u001b[1;33m:\u001b[0m\u001b[1;33m\u001b[0m\u001b[0m\n\u001b[1;32m-> 1564\u001b[1;33m                 \u001b[0mcur\u001b[0m\u001b[1;33m.\u001b[0m\u001b[0mexecute\u001b[0m\u001b[1;33m(\u001b[0m\u001b[1;33m*\u001b[0m\u001b[0margs\u001b[0m\u001b[1;33m)\u001b[0m\u001b[1;33m\u001b[0m\u001b[0m\n\u001b[0m\u001b[0;32m   1565\u001b[0m             \u001b[1;32mreturn\u001b[0m \u001b[0mcur\u001b[0m\u001b[1;33m\u001b[0m\u001b[0m\n\u001b[0;32m   1566\u001b[0m         \u001b[1;32mexcept\u001b[0m \u001b[0mException\u001b[0m \u001b[1;32mas\u001b[0m \u001b[0mexc\u001b[0m\u001b[1;33m:\u001b[0m\u001b[1;33m\u001b[0m\u001b[0m\n",
      "\u001b[1;31mDatabaseError\u001b[0m: Execution failed on sql 'select * from plos_pathog': no such table: plos_pathog"
     ]
    }
   ],
   "source": [
    "DF2=pd.read_sql(\"select * from plos_pathog\",conn)"
   ]
  }
 ],
 "metadata": {
  "anaconda-cloud": {},
  "kernelspec": {
   "display_name": "Python [Root]",
   "language": "python",
   "name": "Python [Root]"
  },
  "language_info": {
   "codemirror_mode": {
    "name": "ipython",
    "version": 3
   },
   "file_extension": ".py",
   "mimetype": "text/x-python",
   "name": "python",
   "nbconvert_exporter": "python",
   "pygments_lexer": "ipython3",
   "version": "3.5.2"
  }
 },
 "nbformat": 4,
 "nbformat_minor": 2
}
