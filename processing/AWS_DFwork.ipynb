{
 "cells": [
  {
   "cell_type": "code",
   "execution_count": 2,
   "metadata": {
    "ExecuteTime": {
     "end_time": "2018-02-16T12:06:43.973737Z",
     "start_time": "2018-02-16T12:06:41.100969Z"
    },
    "collapsed": false,
    "inputHidden": false,
    "outputHidden": false
   },
   "outputs": [],
   "source": [
    "import sqlite3\n",
    "import pandas as pd\n",
    "import numpy as np\n",
    "# from nltk.tokenize import RegexpTokenizer\n",
    "# from nltk.stem.porter import PorterStemmer\n",
    "# #from stop_words import get_stop_words\n",
    "# #from tqdm import tqdm_notebook as tqdm\n",
    "# import gensim\n",
    "# from gensim import corpora, models, similarities\n",
    "# from gensim.models.doc2vec import TaggedDocument,TaggedLineDocument\n",
    "# from gensim.models import Doc2Vec\n",
    "# import gensim.models.doc2vec\n",
    "# #from gensim.test.test_doc2vec import ConcatenatedDoc2Vec\n",
    "# from collections import OrderedDict\n",
    "# import multiprocessing\n",
    "# from collections import defaultdict\n",
    "# #from nltk.tokenize.moses import MosesDetokenizer\n",
    "# from IPython.display import Image\n",
    "# import requests\n",
    "# from random import randint \n",
    "# from sklearn.manifold import TSNE\n",
    "# from sklearn.cluster import AffinityPropagation\n",
    "# #import matplotlib.pyplot as plt\n",
    "# #%matplotlib inline"
   ]
  },
  {
   "cell_type": "markdown",
   "metadata": {},
   "source": [
    "## Data Loading"
   ]
  },
  {
   "cell_type": "code",
   "execution_count": 3,
   "metadata": {
    "collapsed": false
   },
   "outputs": [],
   "source": [
    "conn = sqlite3.connect(\"volume/testDB.db\")"
   ]
  },
  {
   "cell_type": "code",
   "execution_count": null,
   "metadata": {},
   "outputs": [],
   "source": [
    "ab_tok = pd.read_pickle('volume/ab_tokens.pkl')"
   ]
  },
  {
   "cell_type": "code",
   "execution_count": null,
   "metadata": {},
   "outputs": [],
   "source": [
    "ab_tok.head()"
   ]
  },
  {
   "cell_type": "code",
   "execution_count": 3,
   "metadata": {
    "collapsed": false
   },
   "outputs": [
    {
     "name": "stdout",
     "output_type": "stream",
     "text": [
      "[('/plos_data/plos_one',), ('/plos_data/plos_biol',), ('/plos_data/plos_clin_trials',), ('/plos_data/plos_comput_biol',), ('/plos_data/plos_curr',), ('/plos_data/plos_genet',), ('/plos_data/plos_med',), ('/plos_data/plos_negl_trop_dis',), ('/plos_data/plos_pathog',), ('PLOS_ALL',), ('PLOS_ALL_tok',)]\n"
     ]
    }
   ],
   "source": [
    "cursor = conn.cursor()\n",
    "cursor.execute(\"SELECT name FROM sqlite_master WHERE type='table';\")\n",
    "print(cursor.fetchall())"
   ]
  },
  {
   "cell_type": "code",
   "execution_count": 6,
   "metadata": {
    "collapsed": false
   },
   "outputs": [],
   "source": [
    "q1 = \"\"\"\n",
    "SELECT * FROM 'plos_all_tok_0'\n",
    "UNION ALL \n",
    "SELECT * FROM 'plos_all_tok_1'\n",
    "UNION ALL \n",
    "SELECT * FROM 'plos_all_tok_2'\n",
    "UNION ALL \n",
    "SELECT * FROM 'plos_all_tok_3'\n",
    "UNION ALL \n",
    "SELECT * FROM 'plos_all_tok_4'\n",
    "UNION ALL \n",
    "SELECT * FROM 'plos_all_tok_5'\n",
    "UNION ALL \n",
    "SELECT * FROM 'plos_all_tok_6'\n",
    "UNION ALL \n",
    "SELECT * FROM 'plos_all_tok_7'\n",
    "UNION ALL \n",
    "SELECT * FROM 'plos_all_tok_8'\n",
    "UNION ALL \n",
    "SELECT * FROM 'plos_all_tok_9';\n",
    "\"\"\"\n",
    "df0 = pd.read_sql_query(q1, conn)\n"
   ]
  },
  {
   "cell_type": "code",
   "execution_count": 4,
   "metadata": {},
   "outputs": [],
   "source": [
    "df = pd.read_pickle('volume/bodtokens_9.pkl')"
   ]
  },
  {
   "cell_type": "code",
   "execution_count": 5,
   "metadata": {},
   "outputs": [
    {
     "data": {
      "text/html": [
       "<div>\n",
       "<style scoped>\n",
       "    .dataframe tbody tr th:only-of-type {\n",
       "        vertical-align: middle;\n",
       "    }\n",
       "\n",
       "    .dataframe tbody tr th {\n",
       "        vertical-align: top;\n",
       "    }\n",
       "\n",
       "    .dataframe thead th {\n",
       "        text-align: right;\n",
       "    }\n",
       "</style>\n",
       "<table border=\"1\" class=\"dataframe\">\n",
       "  <thead>\n",
       "    <tr style=\"text-align: right;\">\n",
       "      <th></th>\n",
       "      <th>doi</th>\n",
       "      <th>bod_toks</th>\n",
       "    </tr>\n",
       "  </thead>\n",
       "  <tbody>\n",
       "    <tr>\n",
       "      <th>196846</th>\n",
       "      <td>10.1371/journal.pgen.1000890</td>\n",
       "      <td>[gain, detail, understand, arabidopsi, thalian...</td>\n",
       "    </tr>\n",
       "    <tr>\n",
       "      <th>196847</th>\n",
       "      <td>10.1371/journal.pgen.1002203</td>\n",
       "      <td>[speci, flock, endem, cichlid, fish, lake, vic...</td>\n",
       "    </tr>\n",
       "    <tr>\n",
       "      <th>196848</th>\n",
       "      <td>10.1371/journal.pgen.1002376</td>\n",
       "      <td>[problem, dna, replic, direct, caus, genet, in...</td>\n",
       "    </tr>\n",
       "    <tr>\n",
       "      <th>196849</th>\n",
       "      <td>10.1371/journal.pgen.1005430</td>\n",
       "      <td>[eukaryot, overwhelm, major, genom, transcrib,...</td>\n",
       "    </tr>\n",
       "    <tr>\n",
       "      <th>196850</th>\n",
       "      <td>10.1371/journal.pgen.1004187</td>\n",
       "      <td>[dna, doubl, strand, break, dsb, major, threat...</td>\n",
       "    </tr>\n",
       "  </tbody>\n",
       "</table>\n",
       "</div>"
      ],
      "text/plain": [
       "                                 doi  \\\n",
       "196846  10.1371/journal.pgen.1000890   \n",
       "196847  10.1371/journal.pgen.1002203   \n",
       "196848  10.1371/journal.pgen.1002376   \n",
       "196849  10.1371/journal.pgen.1005430   \n",
       "196850  10.1371/journal.pgen.1004187   \n",
       "\n",
       "                                                 bod_toks  \n",
       "196846  [gain, detail, understand, arabidopsi, thalian...  \n",
       "196847  [speci, flock, endem, cichlid, fish, lake, vic...  \n",
       "196848  [problem, dna, replic, direct, caus, genet, in...  \n",
       "196849  [eukaryot, overwhelm, major, genom, transcrib,...  \n",
       "196850  [dna, doubl, strand, break, dsb, major, threat...  "
      ]
     },
     "execution_count": 5,
     "metadata": {},
     "output_type": "execute_result"
    }
   ],
   "source": [
    "df.head()"
   ]
  },
  {
   "cell_type": "code",
   "execution_count": 8,
   "metadata": {},
   "outputs": [
    {
     "name": "stdout",
     "output_type": "stream",
     "text": [
      "saving partition 9 to db\n"
     ]
    },
    {
     "ename": "OperationalError",
     "evalue": "attempt to write a readonly database",
     "output_type": "error",
     "traceback": [
      "\u001b[0;31m---------------------------------------------------------------------------\u001b[0m",
      "\u001b[0;31mOperationalError\u001b[0m                          Traceback (most recent call last)",
      "\u001b[0;32m<ipython-input-8-5494fb8c2bdf>\u001b[0m in \u001b[0;36m<module>\u001b[0;34m()\u001b[0m\n\u001b[1;32m      3\u001b[0m \u001b[0mprint\u001b[0m\u001b[0;34m(\u001b[0m\u001b[0;34m'saving partition '\u001b[0m\u001b[0;34m+\u001b[0m\u001b[0mstr\u001b[0m\u001b[0;34m(\u001b[0m\u001b[0;36m9\u001b[0m\u001b[0;34m)\u001b[0m\u001b[0;34m+\u001b[0m\u001b[0;34m' to db'\u001b[0m\u001b[0;34m)\u001b[0m\u001b[0;34m\u001b[0m\u001b[0m\n\u001b[1;32m      4\u001b[0m \u001b[0mdbname\u001b[0m \u001b[0;34m=\u001b[0m \u001b[0;34m'plos_all_tok_'\u001b[0m\u001b[0;34m+\u001b[0m \u001b[0mstr\u001b[0m\u001b[0;34m(\u001b[0m\u001b[0;36m9\u001b[0m\u001b[0;34m)\u001b[0m\u001b[0;34m\u001b[0m\u001b[0m\n\u001b[0;32m----> 5\u001b[0;31m \u001b[0mout\u001b[0m\u001b[0;34m.\u001b[0m\u001b[0mto_sql\u001b[0m\u001b[0;34m(\u001b[0m\u001b[0mdbname\u001b[0m\u001b[0;34m,\u001b[0m \u001b[0mconn\u001b[0m\u001b[0;34m,\u001b[0m \u001b[0mif_exists\u001b[0m\u001b[0;34m=\u001b[0m\u001b[0;34m\"replace\"\u001b[0m\u001b[0;34m)\u001b[0m\u001b[0;34m\u001b[0m\u001b[0m\n\u001b[0m",
      "\u001b[0;32m/usr/local/lib/python3.5/dist-packages/pandas/core/generic.py\u001b[0m in \u001b[0;36mto_sql\u001b[0;34m(self, name, con, flavor, schema, if_exists, index, index_label, chunksize, dtype)\u001b[0m\n\u001b[1;32m   1532\u001b[0m         sql.to_sql(self, name, con, flavor=flavor, schema=schema,\n\u001b[1;32m   1533\u001b[0m                    \u001b[0mif_exists\u001b[0m\u001b[0;34m=\u001b[0m\u001b[0mif_exists\u001b[0m\u001b[0;34m,\u001b[0m \u001b[0mindex\u001b[0m\u001b[0;34m=\u001b[0m\u001b[0mindex\u001b[0m\u001b[0;34m,\u001b[0m \u001b[0mindex_label\u001b[0m\u001b[0;34m=\u001b[0m\u001b[0mindex_label\u001b[0m\u001b[0;34m,\u001b[0m\u001b[0;34m\u001b[0m\u001b[0m\n\u001b[0;32m-> 1534\u001b[0;31m                    chunksize=chunksize, dtype=dtype)\n\u001b[0m\u001b[1;32m   1535\u001b[0m \u001b[0;34m\u001b[0m\u001b[0m\n\u001b[1;32m   1536\u001b[0m     def to_pickle(self, path, compression='infer',\n",
      "\u001b[0;32m/usr/local/lib/python3.5/dist-packages/pandas/io/sql.py\u001b[0m in \u001b[0;36mto_sql\u001b[0;34m(frame, name, con, flavor, schema, if_exists, index, index_label, chunksize, dtype)\u001b[0m\n\u001b[1;32m    471\u001b[0m     pandas_sql.to_sql(frame, name, if_exists=if_exists, index=index,\n\u001b[1;32m    472\u001b[0m                       \u001b[0mindex_label\u001b[0m\u001b[0;34m=\u001b[0m\u001b[0mindex_label\u001b[0m\u001b[0;34m,\u001b[0m \u001b[0mschema\u001b[0m\u001b[0;34m=\u001b[0m\u001b[0mschema\u001b[0m\u001b[0;34m,\u001b[0m\u001b[0;34m\u001b[0m\u001b[0m\n\u001b[0;32m--> 473\u001b[0;31m                       chunksize=chunksize, dtype=dtype)\n\u001b[0m\u001b[1;32m    474\u001b[0m \u001b[0;34m\u001b[0m\u001b[0m\n\u001b[1;32m    475\u001b[0m \u001b[0;34m\u001b[0m\u001b[0m\n",
      "\u001b[0;32m/usr/local/lib/python3.5/dist-packages/pandas/io/sql.py\u001b[0m in \u001b[0;36mto_sql\u001b[0;34m(self, frame, name, if_exists, index, index_label, schema, chunksize, dtype)\u001b[0m\n\u001b[1;32m   1509\u001b[0m                             \u001b[0mif_exists\u001b[0m\u001b[0;34m=\u001b[0m\u001b[0mif_exists\u001b[0m\u001b[0;34m,\u001b[0m \u001b[0mindex_label\u001b[0m\u001b[0;34m=\u001b[0m\u001b[0mindex_label\u001b[0m\u001b[0;34m,\u001b[0m\u001b[0;34m\u001b[0m\u001b[0m\n\u001b[1;32m   1510\u001b[0m                             dtype=dtype)\n\u001b[0;32m-> 1511\u001b[0;31m         \u001b[0mtable\u001b[0m\u001b[0;34m.\u001b[0m\u001b[0mcreate\u001b[0m\u001b[0;34m(\u001b[0m\u001b[0;34m)\u001b[0m\u001b[0;34m\u001b[0m\u001b[0m\n\u001b[0m\u001b[1;32m   1512\u001b[0m         \u001b[0mtable\u001b[0m\u001b[0;34m.\u001b[0m\u001b[0minsert\u001b[0m\u001b[0;34m(\u001b[0m\u001b[0mchunksize\u001b[0m\u001b[0;34m)\u001b[0m\u001b[0;34m\u001b[0m\u001b[0m\n\u001b[1;32m   1513\u001b[0m \u001b[0;34m\u001b[0m\u001b[0m\n",
      "\u001b[0;32m/usr/local/lib/python3.5/dist-packages/pandas/io/sql.py\u001b[0m in \u001b[0;36mcreate\u001b[0;34m(self)\u001b[0m\n\u001b[1;32m    600\u001b[0m                     \"'{0}' is not valid for if_exists\".format(self.if_exists))\n\u001b[1;32m    601\u001b[0m         \u001b[0;32melse\u001b[0m\u001b[0;34m:\u001b[0m\u001b[0;34m\u001b[0m\u001b[0m\n\u001b[0;32m--> 602\u001b[0;31m             \u001b[0mself\u001b[0m\u001b[0;34m.\u001b[0m\u001b[0m_execute_create\u001b[0m\u001b[0;34m(\u001b[0m\u001b[0;34m)\u001b[0m\u001b[0;34m\u001b[0m\u001b[0m\n\u001b[0m\u001b[1;32m    603\u001b[0m \u001b[0;34m\u001b[0m\u001b[0m\n\u001b[1;32m    604\u001b[0m     \u001b[0;32mdef\u001b[0m \u001b[0minsert_statement\u001b[0m\u001b[0;34m(\u001b[0m\u001b[0mself\u001b[0m\u001b[0;34m)\u001b[0m\u001b[0;34m:\u001b[0m\u001b[0;34m\u001b[0m\u001b[0m\n",
      "\u001b[0;32m/usr/local/lib/python3.5/dist-packages/pandas/io/sql.py\u001b[0m in \u001b[0;36m_execute_create\u001b[0;34m(self)\u001b[0m\n\u001b[1;32m   1278\u001b[0m         \u001b[0;32mwith\u001b[0m \u001b[0mself\u001b[0m\u001b[0;34m.\u001b[0m\u001b[0mpd_sql\u001b[0m\u001b[0;34m.\u001b[0m\u001b[0mrun_transaction\u001b[0m\u001b[0;34m(\u001b[0m\u001b[0;34m)\u001b[0m \u001b[0;32mas\u001b[0m \u001b[0mconn\u001b[0m\u001b[0;34m:\u001b[0m\u001b[0;34m\u001b[0m\u001b[0m\n\u001b[1;32m   1279\u001b[0m             \u001b[0;32mfor\u001b[0m \u001b[0mstmt\u001b[0m \u001b[0;32min\u001b[0m \u001b[0mself\u001b[0m\u001b[0;34m.\u001b[0m\u001b[0mtable\u001b[0m\u001b[0;34m:\u001b[0m\u001b[0;34m\u001b[0m\u001b[0m\n\u001b[0;32m-> 1280\u001b[0;31m                 \u001b[0mconn\u001b[0m\u001b[0;34m.\u001b[0m\u001b[0mexecute\u001b[0m\u001b[0;34m(\u001b[0m\u001b[0mstmt\u001b[0m\u001b[0;34m)\u001b[0m\u001b[0;34m\u001b[0m\u001b[0m\n\u001b[0m\u001b[1;32m   1281\u001b[0m \u001b[0;34m\u001b[0m\u001b[0m\n\u001b[1;32m   1282\u001b[0m     \u001b[0;32mdef\u001b[0m \u001b[0minsert_statement\u001b[0m\u001b[0;34m(\u001b[0m\u001b[0mself\u001b[0m\u001b[0;34m)\u001b[0m\u001b[0;34m:\u001b[0m\u001b[0;34m\u001b[0m\u001b[0m\n",
      "\u001b[0;31mOperationalError\u001b[0m: attempt to write a readonly database"
     ]
    }
   ],
   "source": [
    "out = df[['doi','bod_toks']]\n",
    "out['bod_toks'] = out['bod_toks'].apply(lambda x: str(x))\n",
    "print('saving partition '+str(9)+' to db')\n",
    "dbname = 'plos_all_tok_'+ str(9)\n",
    "out.to_sql(dbname, conn, if_exists=\"replace\")"
   ]
  },
  {
   "cell_type": "code",
   "execution_count": 7,
   "metadata": {},
   "outputs": [
    {
     "data": {
      "text/html": [
       "<div>\n",
       "<table border=\"1\" class=\"dataframe\">\n",
       "  <thead>\n",
       "    <tr style=\"text-align: right;\">\n",
       "      <th></th>\n",
       "      <th>index</th>\n",
       "      <th>doi</th>\n",
       "      <th>bod_toks</th>\n",
       "    </tr>\n",
       "  </thead>\n",
       "  <tbody>\n",
       "    <tr>\n",
       "      <th>0</th>\n",
       "      <td>0</td>\n",
       "      <td>10.1371/journal.pone.0143437</td>\n",
       "      <td>['pulmonari', 'prostat', 'cancer', 'common', '...</td>\n",
       "    </tr>\n",
       "    <tr>\n",
       "      <th>1</th>\n",
       "      <td>1</td>\n",
       "      <td>10.1371/journal.pone.0096769</td>\n",
       "      <td>['voic', 'disord', 'dysphonia', 'can', 'caus',...</td>\n",
       "    </tr>\n",
       "    <tr>\n",
       "      <th>2</th>\n",
       "      <td>2</td>\n",
       "      <td>10.1371/journal.pone.0177044</td>\n",
       "      <td>['dementia', 'typic', 'defin', 'clinic', 'synd...</td>\n",
       "    </tr>\n",
       "    <tr>\n",
       "      <th>3</th>\n",
       "      <td>3</td>\n",
       "      <td>10.1371/journal.pone.0033200</td>\n",
       "      <td>['non', 'small', 'cell', 'lung', 'cancer', 'ns...</td>\n",
       "    </tr>\n",
       "    <tr>\n",
       "      <th>4</th>\n",
       "      <td>4</td>\n",
       "      <td>10.1371/journal.pone.0001814</td>\n",
       "      <td>['endosom', 'rout', 'consid', 'default', 'path...</td>\n",
       "    </tr>\n",
       "  </tbody>\n",
       "</table>\n",
       "</div>"
      ],
      "text/plain": [
       "   index                           doi  \\\n",
       "0      0  10.1371/journal.pone.0143437   \n",
       "1      1  10.1371/journal.pone.0096769   \n",
       "2      2  10.1371/journal.pone.0177044   \n",
       "3      3  10.1371/journal.pone.0033200   \n",
       "4      4  10.1371/journal.pone.0001814   \n",
       "\n",
       "                                            bod_toks  \n",
       "0  ['pulmonari', 'prostat', 'cancer', 'common', '...  \n",
       "1  ['voic', 'disord', 'dysphonia', 'can', 'caus',...  \n",
       "2  ['dementia', 'typic', 'defin', 'clinic', 'synd...  \n",
       "3  ['non', 'small', 'cell', 'lung', 'cancer', 'ns...  \n",
       "4  ['endosom', 'rout', 'consid', 'default', 'path...  "
      ]
     },
     "execution_count": 7,
     "metadata": {},
     "output_type": "execute_result"
    }
   ],
   "source": [
    "df0.head()"
   ]
  },
  {
   "cell_type": "code",
   "execution_count": 10,
   "metadata": {},
   "outputs": [
    {
     "data": {
      "text/plain": [
       "(218717, 3)"
      ]
     },
     "execution_count": 10,
     "metadata": {},
     "output_type": "execute_result"
    }
   ],
   "source": [
    "df0.shape"
   ]
  },
  {
   "cell_type": "code",
   "execution_count": 11,
   "metadata": {},
   "outputs": [],
   "source": [
    "df0.to_sql(\"PLOS_ALL_tok\", conn, if_exists=\"replace\")"
   ]
  },
  {
   "cell_type": "code",
   "execution_count": 12,
   "metadata": {},
   "outputs": [],
   "source": [
    "df = pd.read_sql_query('SELECT * FROM PLOS_ALL_tok', conn)"
   ]
  },
  {
   "cell_type": "code",
   "execution_count": 13,
   "metadata": {},
   "outputs": [
    {
     "data": {
      "text/html": [
       "<div>\n",
       "<table border=\"1\" class=\"dataframe\">\n",
       "  <thead>\n",
       "    <tr style=\"text-align: right;\">\n",
       "      <th></th>\n",
       "      <th>level_0</th>\n",
       "      <th>index</th>\n",
       "      <th>doi</th>\n",
       "      <th>bod_toks</th>\n",
       "    </tr>\n",
       "  </thead>\n",
       "  <tbody>\n",
       "    <tr>\n",
       "      <th>0</th>\n",
       "      <td>0</td>\n",
       "      <td>0</td>\n",
       "      <td>10.1371/journal.pone.0143437</td>\n",
       "      <td>['pulmonari', 'prostat', 'cancer', 'common', '...</td>\n",
       "    </tr>\n",
       "    <tr>\n",
       "      <th>1</th>\n",
       "      <td>1</td>\n",
       "      <td>1</td>\n",
       "      <td>10.1371/journal.pone.0096769</td>\n",
       "      <td>['voic', 'disord', 'dysphonia', 'can', 'caus',...</td>\n",
       "    </tr>\n",
       "    <tr>\n",
       "      <th>2</th>\n",
       "      <td>2</td>\n",
       "      <td>2</td>\n",
       "      <td>10.1371/journal.pone.0177044</td>\n",
       "      <td>['dementia', 'typic', 'defin', 'clinic', 'synd...</td>\n",
       "    </tr>\n",
       "    <tr>\n",
       "      <th>3</th>\n",
       "      <td>3</td>\n",
       "      <td>3</td>\n",
       "      <td>10.1371/journal.pone.0033200</td>\n",
       "      <td>['non', 'small', 'cell', 'lung', 'cancer', 'ns...</td>\n",
       "    </tr>\n",
       "    <tr>\n",
       "      <th>4</th>\n",
       "      <td>4</td>\n",
       "      <td>4</td>\n",
       "      <td>10.1371/journal.pone.0001814</td>\n",
       "      <td>['endosom', 'rout', 'consid', 'default', 'path...</td>\n",
       "    </tr>\n",
       "  </tbody>\n",
       "</table>\n",
       "</div>"
      ],
      "text/plain": [
       "   level_0  index                           doi  \\\n",
       "0        0      0  10.1371/journal.pone.0143437   \n",
       "1        1      1  10.1371/journal.pone.0096769   \n",
       "2        2      2  10.1371/journal.pone.0177044   \n",
       "3        3      3  10.1371/journal.pone.0033200   \n",
       "4        4      4  10.1371/journal.pone.0001814   \n",
       "\n",
       "                                            bod_toks  \n",
       "0  ['pulmonari', 'prostat', 'cancer', 'common', '...  \n",
       "1  ['voic', 'disord', 'dysphonia', 'can', 'caus',...  \n",
       "2  ['dementia', 'typic', 'defin', 'clinic', 'synd...  \n",
       "3  ['non', 'small', 'cell', 'lung', 'cancer', 'ns...  \n",
       "4  ['endosom', 'rout', 'consid', 'default', 'path...  "
      ]
     },
     "execution_count": 13,
     "metadata": {},
     "output_type": "execute_result"
    }
   ],
   "source": [
    "df.head()"
   ]
  },
  {
   "cell_type": "code",
   "execution_count": 15,
   "metadata": {},
   "outputs": [],
   "source": [
    "for i in range(0,10):\n",
    "    dbname = 'plos_all_tok_'+ str(i)\n",
    "    drp_table = 'DROP TABLE '+dbname+';'\n",
    "    #print(drp_table)\n",
    "    conn.execute(drp_table)\n",
    "    conn.commit()"
   ]
  },
  {
   "cell_type": "code",
   "execution_count": 16,
   "metadata": {},
   "outputs": [
    {
     "name": "stdout",
     "output_type": "stream",
     "text": [
      "[('/plos_data/plos_one',), ('/plos_data/plos_biol',), ('/plos_data/plos_clin_trials',), ('/plos_data/plos_comput_biol',), ('/plos_data/plos_curr',), ('/plos_data/plos_genet',), ('/plos_data/plos_med',), ('/plos_data/plos_negl_trop_dis',), ('/plos_data/plos_pathog',), ('PLOS_ALL',), ('PLOS_ALL_tok',)]\n"
     ]
    }
   ],
   "source": [
    "cursor = conn.cursor()\n",
    "cursor.execute(\"SELECT name FROM sqlite_master WHERE type='table';\")\n",
    "print(cursor.fetchall())"
   ]
  },
  {
   "cell_type": "code",
   "execution_count": null,
   "metadata": {
    "collapsed": true
   },
   "outputs": [],
   "source": [
    "# df['abstract']=df['abstract'].str.replace('\\d+', '') # for digits\n",
    "# df['abstract']=df['abstract'].str.replace(r'(\\b\\w{1,2}\\b)', '') # for words\n",
    "# df['abstract']=df['abstract'].str.replace('Background', '')\n",
    "# df['body']=df['body'].str.replace('Introduction', '')\n",
    "# df['title']=df['title'].str.strip(\"[]'\")"
   ]
  },
  {
   "cell_type": "code",
   "execution_count": 8,
   "metadata": {
    "collapsed": false
   },
   "outputs": [],
   "source": [
    "#df = pd.read_sql('SELECT * FROM PLOS_ALL',conn)"
   ]
  },
  {
   "cell_type": "code",
   "execution_count": 9,
   "metadata": {
    "collapsed": false
   },
   "outputs": [
    {
     "data": {
      "text/plain": [
       "(218717, 16)"
      ]
     },
     "execution_count": 9,
     "metadata": {},
     "output_type": "execute_result"
    }
   ],
   "source": [
    "#df.shape"
   ]
  },
  {
   "cell_type": "code",
   "execution_count": 5,
   "metadata": {},
   "outputs": [
    {
     "data": {
      "text/html": [
       "<div>\n",
       "<table border=\"1\" class=\"dataframe\">\n",
       "  <thead>\n",
       "    <tr style=\"text-align: right;\">\n",
       "      <th></th>\n",
       "      <th>index</th>\n",
       "      <th>doi</th>\n",
       "      <th>pmid</th>\n",
       "      <th>journal</th>\n",
       "      <th>publisher_id</th>\n",
       "      <th>publisher_name</th>\n",
       "      <th>authors</th>\n",
       "      <th>editors</th>\n",
       "      <th>subjects</th>\n",
       "      <th>title</th>\n",
       "      <th>alt_title</th>\n",
       "      <th>date_pub</th>\n",
       "      <th>date_rec</th>\n",
       "      <th>abstract</th>\n",
       "      <th>body</th>\n",
       "    </tr>\n",
       "  </thead>\n",
       "  <tbody>\n",
       "    <tr>\n",
       "      <th>0</th>\n",
       "      <td>0</td>\n",
       "      <td>10.1371/journal.pone.0143437</td>\n",
       "      <td>26599401</td>\n",
       "      <td>PLoS ONE</td>\n",
       "      <td>plos</td>\n",
       "      <td>Public Library of Science</td>\n",
       "      <td>['Changyin Wang', 'Ying Shen', 'Shaobo Zhu']</td>\n",
       "      <td>['Harriet Wikman']</td>\n",
       "      <td>['Research Article']</td>\n",
       "      <td>Distribution Features of Skeletal Metastases: ...</td>\n",
       "      <td>Distribution Features of Skeletal Metastases</td>\n",
       "      <td>2015-11-23</td>\n",
       "      <td>2015-6-24</td>\n",
       "      <td>Bone scintigraphies are widely applied for det...</td>\n",
       "      <td>IntroductionPulmonary and prostate cancers are...</td>\n",
       "    </tr>\n",
       "    <tr>\n",
       "      <th>1</th>\n",
       "      <td>1</td>\n",
       "      <td>10.1371/journal.pone.0096769</td>\n",
       "      <td>24796691</td>\n",
       "      <td>PLoS ONE</td>\n",
       "      <td>plos</td>\n",
       "      <td>Public Library of Science</td>\n",
       "      <td>['Bruna Mendes Lourenço', 'Kauê Machado Costa'...</td>\n",
       "      <td>['Donald A. Robin']</td>\n",
       "      <td>['Research Article', 'Biology and Life Science...</td>\n",
       "      <td>Voice Disorder in Cystic Fibrosis Patients</td>\n",
       "      <td>Voice Disorder in Cystic Fibrosis</td>\n",
       "      <td>2014-5-5</td>\n",
       "      <td>2013-10-10</td>\n",
       "      <td>Cystic fibrosis is a common autosomal recessiv...</td>\n",
       "      <td>IntroductionVoice disorders, or dysphonias, ca...</td>\n",
       "    </tr>\n",
       "    <tr>\n",
       "      <th>2</th>\n",
       "      <td>2</td>\n",
       "      <td>10.1371/journal.pone.0177044</td>\n",
       "      <td>28472200</td>\n",
       "      <td>PLoS ONE</td>\n",
       "      <td>plos</td>\n",
       "      <td>Public Library of Science</td>\n",
       "      <td>['Miriam L. Haaksma', 'Lara R. Vilela', 'Aless...</td>\n",
       "      <td>['Stephen D. Ginsberg']</td>\n",
       "      <td>['Research Article', 'Medicine and Health Scie...</td>\n",
       "      <td>Comorbidity and progression of late onset Alzh...</td>\n",
       "      <td>Comorbidity and progression of late onset Alzh...</td>\n",
       "      <td>2017-5-4</td>\n",
       "      <td>2017-2-2</td>\n",
       "      <td>BackgroundAlzheimer’s disease is a neurodegene...</td>\n",
       "      <td>1. IntroductionDementia is typically defined a...</td>\n",
       "    </tr>\n",
       "    <tr>\n",
       "      <th>3</th>\n",
       "      <td>3</td>\n",
       "      <td>10.1371/journal.pone.0033200</td>\n",
       "      <td>22479369</td>\n",
       "      <td>PLoS ONE</td>\n",
       "      <td>plos</td>\n",
       "      <td>Public Library of Science</td>\n",
       "      <td>['Wenting Wu', 'Huan Li', 'Huibo Wang', 'Xueyi...</td>\n",
       "      <td>['Alfons Navarro']</td>\n",
       "      <td>['Research Article', 'Biology', 'Genetics', 'H...</td>\n",
       "      <td>Effect of Polymorphisms in</td>\n",
       "      <td>None</td>\n",
       "      <td>2012-3-29</td>\n",
       "      <td>2011-11-9</td>\n",
       "      <td>PurposeXeroderma pigmentosum group D (XPD) cod...</td>\n",
       "      <td>IntroductionNon-small cell lung cancer (NSCLC)...</td>\n",
       "    </tr>\n",
       "    <tr>\n",
       "      <th>4</th>\n",
       "      <td>4</td>\n",
       "      <td>10.1371/journal.pone.0001814</td>\n",
       "      <td>18350151</td>\n",
       "      <td>PLoS ONE</td>\n",
       "      <td>plos</td>\n",
       "      <td>Public Library of Science</td>\n",
       "      <td>['Shashank Gupta', 'Sabine Höpner', 'Bernd Rup...</td>\n",
       "      <td>['Mauricio Martins Rodrigues']</td>\n",
       "      <td>['Research Article', 'Immunology/Antigen Proce...</td>\n",
       "      <td>Anchor Side Chains of Short Peptide Fragments ...</td>\n",
       "      <td>Ligand-Exchange Catalysts</td>\n",
       "      <td>2008-3-19</td>\n",
       "      <td>2008-1-10</td>\n",
       "      <td>Class II MHC molecules display peptides on the...</td>\n",
       "      <td>IntroductionThe endosomal route is considered ...</td>\n",
       "    </tr>\n",
       "  </tbody>\n",
       "</table>\n",
       "</div>"
      ],
      "text/plain": [
       "   index                           doi      pmid   journal publisher_id  \\\n",
       "0      0  10.1371/journal.pone.0143437  26599401  PLoS ONE         plos   \n",
       "1      1  10.1371/journal.pone.0096769  24796691  PLoS ONE         plos   \n",
       "2      2  10.1371/journal.pone.0177044  28472200  PLoS ONE         plos   \n",
       "3      3  10.1371/journal.pone.0033200  22479369  PLoS ONE         plos   \n",
       "4      4  10.1371/journal.pone.0001814  18350151  PLoS ONE         plos   \n",
       "\n",
       "              publisher_name  \\\n",
       "0  Public Library of Science   \n",
       "1  Public Library of Science   \n",
       "2  Public Library of Science   \n",
       "3  Public Library of Science   \n",
       "4  Public Library of Science   \n",
       "\n",
       "                                             authors  \\\n",
       "0       ['Changyin Wang', 'Ying Shen', 'Shaobo Zhu']   \n",
       "1  ['Bruna Mendes Lourenço', 'Kauê Machado Costa'...   \n",
       "2  ['Miriam L. Haaksma', 'Lara R. Vilela', 'Aless...   \n",
       "3  ['Wenting Wu', 'Huan Li', 'Huibo Wang', 'Xueyi...   \n",
       "4  ['Shashank Gupta', 'Sabine Höpner', 'Bernd Rup...   \n",
       "\n",
       "                          editors  \\\n",
       "0              ['Harriet Wikman']   \n",
       "1             ['Donald A. Robin']   \n",
       "2         ['Stephen D. Ginsberg']   \n",
       "3              ['Alfons Navarro']   \n",
       "4  ['Mauricio Martins Rodrigues']   \n",
       "\n",
       "                                            subjects  \\\n",
       "0                               ['Research Article']   \n",
       "1  ['Research Article', 'Biology and Life Science...   \n",
       "2  ['Research Article', 'Medicine and Health Scie...   \n",
       "3  ['Research Article', 'Biology', 'Genetics', 'H...   \n",
       "4  ['Research Article', 'Immunology/Antigen Proce...   \n",
       "\n",
       "                                               title  \\\n",
       "0  Distribution Features of Skeletal Metastases: ...   \n",
       "1         Voice Disorder in Cystic Fibrosis Patients   \n",
       "2  Comorbidity and progression of late onset Alzh...   \n",
       "3                        Effect of Polymorphisms in    \n",
       "4  Anchor Side Chains of Short Peptide Fragments ...   \n",
       "\n",
       "                                           alt_title    date_pub    date_rec  \\\n",
       "0       Distribution Features of Skeletal Metastases  2015-11-23   2015-6-24   \n",
       "1                  Voice Disorder in Cystic Fibrosis    2014-5-5  2013-10-10   \n",
       "2  Comorbidity and progression of late onset Alzh...    2017-5-4    2017-2-2   \n",
       "3                                               None   2012-3-29   2011-11-9   \n",
       "4                          Ligand-Exchange Catalysts   2008-3-19   2008-1-10   \n",
       "\n",
       "                                            abstract  \\\n",
       "0  Bone scintigraphies are widely applied for det...   \n",
       "1  Cystic fibrosis is a common autosomal recessiv...   \n",
       "2  BackgroundAlzheimer’s disease is a neurodegene...   \n",
       "3  PurposeXeroderma pigmentosum group D (XPD) cod...   \n",
       "4  Class II MHC molecules display peptides on the...   \n",
       "\n",
       "                                                body  \n",
       "0  IntroductionPulmonary and prostate cancers are...  \n",
       "1  IntroductionVoice disorders, or dysphonias, ca...  \n",
       "2  1. IntroductionDementia is typically defined a...  \n",
       "3  IntroductionNon-small cell lung cancer (NSCLC)...  \n",
       "4  IntroductionThe endosomal route is considered ...  "
      ]
     },
     "execution_count": 5,
     "metadata": {},
     "output_type": "execute_result"
    }
   ],
   "source": [
    "df0.head()"
   ]
  },
  {
   "cell_type": "code",
   "execution_count": 6,
   "metadata": {
    "collapsed": true
   },
   "outputs": [],
   "source": [
    "df0['body']=df0['body'].str.replace('Introduction', '')"
   ]
  },
  {
   "cell_type": "code",
   "execution_count": 4,
   "metadata": {},
   "outputs": [],
   "source": [
    "df = pd.read_sql_query('SELECT * FROM PLOS_ALL', conn)"
   ]
  },
  {
   "cell_type": "code",
   "execution_count": 5,
   "metadata": {},
   "outputs": [
    {
     "data": {
      "text/html": [
       "<div>\n",
       "<table border=\"1\" class=\"dataframe\">\n",
       "  <thead>\n",
       "    <tr style=\"text-align: right;\">\n",
       "      <th></th>\n",
       "      <th>level_0</th>\n",
       "      <th>index</th>\n",
       "      <th>doi</th>\n",
       "      <th>pmid</th>\n",
       "      <th>journal</th>\n",
       "      <th>publisher_id</th>\n",
       "      <th>publisher_name</th>\n",
       "      <th>authors</th>\n",
       "      <th>editors</th>\n",
       "      <th>subjects</th>\n",
       "      <th>title</th>\n",
       "      <th>alt_title</th>\n",
       "      <th>date_pub</th>\n",
       "      <th>date_rec</th>\n",
       "      <th>abstract</th>\n",
       "      <th>body</th>\n",
       "    </tr>\n",
       "  </thead>\n",
       "  <tbody>\n",
       "    <tr>\n",
       "      <th>0</th>\n",
       "      <td>0</td>\n",
       "      <td>0</td>\n",
       "      <td>10.1371/journal.pone.0143437</td>\n",
       "      <td>26599401</td>\n",
       "      <td>PLoS ONE</td>\n",
       "      <td>plos</td>\n",
       "      <td>Public Library of Science</td>\n",
       "      <td>['Changyin Wang', 'Ying Shen', 'Shaobo Zhu']</td>\n",
       "      <td>['Harriet Wikman']</td>\n",
       "      <td>['Research Article']</td>\n",
       "      <td>Distribution Features of Skeletal Metastases: ...</td>\n",
       "      <td>Distribution Features of Skeletal Metastases</td>\n",
       "      <td>2015-11-23</td>\n",
       "      <td>2015-6-24</td>\n",
       "      <td>Bone scintigraphies are widely applied for det...</td>\n",
       "      <td>Pulmonary and prostate cancers are the most co...</td>\n",
       "    </tr>\n",
       "    <tr>\n",
       "      <th>1</th>\n",
       "      <td>1</td>\n",
       "      <td>1</td>\n",
       "      <td>10.1371/journal.pone.0096769</td>\n",
       "      <td>24796691</td>\n",
       "      <td>PLoS ONE</td>\n",
       "      <td>plos</td>\n",
       "      <td>Public Library of Science</td>\n",
       "      <td>['Bruna Mendes Lourenço', 'Kauê Machado Costa'...</td>\n",
       "      <td>['Donald A. Robin']</td>\n",
       "      <td>['Research Article', 'Biology and Life Science...</td>\n",
       "      <td>Voice Disorder in Cystic Fibrosis Patients</td>\n",
       "      <td>Voice Disorder in Cystic Fibrosis</td>\n",
       "      <td>2014-5-5</td>\n",
       "      <td>2013-10-10</td>\n",
       "      <td>Cystic fibrosis is a common autosomal recessiv...</td>\n",
       "      <td>Voice disorders, or dysphonias, can be caused ...</td>\n",
       "    </tr>\n",
       "    <tr>\n",
       "      <th>2</th>\n",
       "      <td>2</td>\n",
       "      <td>2</td>\n",
       "      <td>10.1371/journal.pone.0177044</td>\n",
       "      <td>28472200</td>\n",
       "      <td>PLoS ONE</td>\n",
       "      <td>plos</td>\n",
       "      <td>Public Library of Science</td>\n",
       "      <td>['Miriam L. Haaksma', 'Lara R. Vilela', 'Aless...</td>\n",
       "      <td>['Stephen D. Ginsberg']</td>\n",
       "      <td>['Research Article', 'Medicine and Health Scie...</td>\n",
       "      <td>Comorbidity and progression of late onset Alzh...</td>\n",
       "      <td>Comorbidity and progression of late onset Alzh...</td>\n",
       "      <td>2017-5-4</td>\n",
       "      <td>2017-2-2</td>\n",
       "      <td>BackgroundAlzheimer’s disease is a neurodegene...</td>\n",
       "      <td>1. Dementia is typically defined as a clinical...</td>\n",
       "    </tr>\n",
       "    <tr>\n",
       "      <th>3</th>\n",
       "      <td>3</td>\n",
       "      <td>3</td>\n",
       "      <td>10.1371/journal.pone.0033200</td>\n",
       "      <td>22479369</td>\n",
       "      <td>PLoS ONE</td>\n",
       "      <td>plos</td>\n",
       "      <td>Public Library of Science</td>\n",
       "      <td>['Wenting Wu', 'Huan Li', 'Huibo Wang', 'Xueyi...</td>\n",
       "      <td>['Alfons Navarro']</td>\n",
       "      <td>['Research Article', 'Biology', 'Genetics', 'H...</td>\n",
       "      <td>Effect of Polymorphisms in</td>\n",
       "      <td>None</td>\n",
       "      <td>2012-3-29</td>\n",
       "      <td>2011-11-9</td>\n",
       "      <td>PurposeXeroderma pigmentosum group D (XPD) cod...</td>\n",
       "      <td>Non-small cell lung cancer (NSCLC) accounts fo...</td>\n",
       "    </tr>\n",
       "    <tr>\n",
       "      <th>4</th>\n",
       "      <td>4</td>\n",
       "      <td>4</td>\n",
       "      <td>10.1371/journal.pone.0001814</td>\n",
       "      <td>18350151</td>\n",
       "      <td>PLoS ONE</td>\n",
       "      <td>plos</td>\n",
       "      <td>Public Library of Science</td>\n",
       "      <td>['Shashank Gupta', 'Sabine Höpner', 'Bernd Rup...</td>\n",
       "      <td>['Mauricio Martins Rodrigues']</td>\n",
       "      <td>['Research Article', 'Immunology/Antigen Proce...</td>\n",
       "      <td>Anchor Side Chains of Short Peptide Fragments ...</td>\n",
       "      <td>Ligand-Exchange Catalysts</td>\n",
       "      <td>2008-3-19</td>\n",
       "      <td>2008-1-10</td>\n",
       "      <td>Class II MHC molecules display peptides on the...</td>\n",
       "      <td>The endosomal route is considered to be the de...</td>\n",
       "    </tr>\n",
       "  </tbody>\n",
       "</table>\n",
       "</div>"
      ],
      "text/plain": [
       "   level_0  index                           doi      pmid   journal  \\\n",
       "0        0      0  10.1371/journal.pone.0143437  26599401  PLoS ONE   \n",
       "1        1      1  10.1371/journal.pone.0096769  24796691  PLoS ONE   \n",
       "2        2      2  10.1371/journal.pone.0177044  28472200  PLoS ONE   \n",
       "3        3      3  10.1371/journal.pone.0033200  22479369  PLoS ONE   \n",
       "4        4      4  10.1371/journal.pone.0001814  18350151  PLoS ONE   \n",
       "\n",
       "  publisher_id             publisher_name  \\\n",
       "0         plos  Public Library of Science   \n",
       "1         plos  Public Library of Science   \n",
       "2         plos  Public Library of Science   \n",
       "3         plos  Public Library of Science   \n",
       "4         plos  Public Library of Science   \n",
       "\n",
       "                                             authors  \\\n",
       "0       ['Changyin Wang', 'Ying Shen', 'Shaobo Zhu']   \n",
       "1  ['Bruna Mendes Lourenço', 'Kauê Machado Costa'...   \n",
       "2  ['Miriam L. Haaksma', 'Lara R. Vilela', 'Aless...   \n",
       "3  ['Wenting Wu', 'Huan Li', 'Huibo Wang', 'Xueyi...   \n",
       "4  ['Shashank Gupta', 'Sabine Höpner', 'Bernd Rup...   \n",
       "\n",
       "                          editors  \\\n",
       "0              ['Harriet Wikman']   \n",
       "1             ['Donald A. Robin']   \n",
       "2         ['Stephen D. Ginsberg']   \n",
       "3              ['Alfons Navarro']   \n",
       "4  ['Mauricio Martins Rodrigues']   \n",
       "\n",
       "                                            subjects  \\\n",
       "0                               ['Research Article']   \n",
       "1  ['Research Article', 'Biology and Life Science...   \n",
       "2  ['Research Article', 'Medicine and Health Scie...   \n",
       "3  ['Research Article', 'Biology', 'Genetics', 'H...   \n",
       "4  ['Research Article', 'Immunology/Antigen Proce...   \n",
       "\n",
       "                                               title  \\\n",
       "0  Distribution Features of Skeletal Metastases: ...   \n",
       "1         Voice Disorder in Cystic Fibrosis Patients   \n",
       "2  Comorbidity and progression of late onset Alzh...   \n",
       "3                        Effect of Polymorphisms in    \n",
       "4  Anchor Side Chains of Short Peptide Fragments ...   \n",
       "\n",
       "                                           alt_title    date_pub    date_rec  \\\n",
       "0       Distribution Features of Skeletal Metastases  2015-11-23   2015-6-24   \n",
       "1                  Voice Disorder in Cystic Fibrosis    2014-5-5  2013-10-10   \n",
       "2  Comorbidity and progression of late onset Alzh...    2017-5-4    2017-2-2   \n",
       "3                                               None   2012-3-29   2011-11-9   \n",
       "4                          Ligand-Exchange Catalysts   2008-3-19   2008-1-10   \n",
       "\n",
       "                                            abstract  \\\n",
       "0  Bone scintigraphies are widely applied for det...   \n",
       "1  Cystic fibrosis is a common autosomal recessiv...   \n",
       "2  BackgroundAlzheimer’s disease is a neurodegene...   \n",
       "3  PurposeXeroderma pigmentosum group D (XPD) cod...   \n",
       "4  Class II MHC molecules display peptides on the...   \n",
       "\n",
       "                                                body  \n",
       "0  Pulmonary and prostate cancers are the most co...  \n",
       "1  Voice disorders, or dysphonias, can be caused ...  \n",
       "2  1. Dementia is typically defined as a clinical...  \n",
       "3  Non-small cell lung cancer (NSCLC) accounts fo...  \n",
       "4  The endosomal route is considered to be the de...  "
      ]
     },
     "execution_count": 5,
     "metadata": {},
     "output_type": "execute_result"
    }
   ],
   "source": [
    "df.head()"
   ]
  },
  {
   "cell_type": "code",
   "execution_count": 6,
   "metadata": {},
   "outputs": [],
   "source": [
    "df['abstract']=df['abstract'].str.replace('\\d+', '') # for digits\n",
    "df['abstract']=df['abstract'].str.replace(rx '(\\b\\w{1,2}\\b)', '') # for words\n",
    "df['abstract']=df['abstract'].str.replace('Background', '')"
   ]
  },
  {
   "cell_type": "code",
   "execution_count": 8,
   "metadata": {
    "collapsed": false
   },
   "outputs": [],
   "source": [
    "df = df.drop(['level_0'],axis=1)"
   ]
  },
  {
   "cell_type": "code",
   "execution_count": 9,
   "metadata": {
    "collapsed": false
   },
   "outputs": [],
   "source": [
    "df.to_sql(\"PLOS_ALL\", conn, if_exists=\"replace\")"
   ]
  },
  {
   "cell_type": "code",
   "execution_count": 8,
   "metadata": {
    "ExecuteTime": {
     "end_time": "2018-02-09T15:19:20.179362Z",
     "start_time": "2018-02-09T15:19:11.405619Z"
    },
    "collapsed": true
   },
   "outputs": [],
   "source": [
    "## Check token length when working on full bodies -- 10k max for doc2vec\n",
    "\n",
    "tok_len = []\n",
    "\n",
    "for i in range(0,len(corpus)):\n",
    "    tok_len.append(len(corpus[i]))\n",
    "    \n",
    "df = pd.DataFrame(tok_len)\n",
    "df.describe()"
   ]
  },
  {
   "cell_type": "code",
   "execution_count": 8,
   "metadata": {},
   "outputs": [
    {
     "name": "stdout",
     "output_type": "stream",
     "text": [
      "[('/plos_data/plos_one',), ('/plos_data/plos_biol',), ('/plos_data/plos_clin_trials',), ('/plos_data/plos_comput_biol',), ('/plos_data/plos_curr',), ('/plos_data/plos_genet',), ('/plos_data/plos_med',), ('/plos_data/plos_negl_trop_dis',), ('/plos_data/plos_pathog',), ('PLOS_ALL',)]\n"
     ]
    }
   ],
   "source": [
    "cursor = conn.cursor()\n",
    "cursor.execute(\"SELECT name FROM sqlite_master WHERE type='table';\")\n",
    "print(cursor.fetchall())"
   ]
  },
  {
   "cell_type": "code",
   "execution_count": null,
   "metadata": {},
   "outputs": [],
   "source": []
  }
 ],
 "metadata": {
  "anaconda-cloud": {},
  "kernel_info": {
   "name": "python3"
  },
  "kernelspec": {
   "display_name": "Python 3",
   "language": "python",
   "name": "python3"
  },
  "language_info": {
   "codemirror_mode": {
    "name": "ipython",
    "version": 3
   },
   "file_extension": ".py",
   "mimetype": "text/x-python",
   "name": "python",
   "nbconvert_exporter": "python",
   "pygments_lexer": "ipython3",
   "version": "3.5.2"
  },
  "notify_time": "30",
  "nteract": {
   "version": "0.6.2"
  },
  "varInspector": {
   "cols": {
    "lenName": 16,
    "lenType": 16,
    "lenVar": 40
   },
   "kernels_config": {
    "python": {
     "delete_cmd_postfix": "",
     "delete_cmd_prefix": "del ",
     "library": "var_list.py",
     "varRefreshCmd": "print(var_dic_list())"
    },
    "r": {
     "delete_cmd_postfix": ") ",
     "delete_cmd_prefix": "rm(",
     "library": "var_list.r",
     "varRefreshCmd": "cat(var_dic_list()) "
    }
   },
   "position": {
    "height": "518px",
    "left": "775px",
    "right": "31px",
    "top": "120px",
    "width": "339px"
   },
   "types_to_exclude": [
    "module",
    "function",
    "builtin_function_or_method",
    "instance",
    "_Feature"
   ],
   "window_display": false
  }
 },
 "nbformat": 4,
 "nbformat_minor": 4
}
