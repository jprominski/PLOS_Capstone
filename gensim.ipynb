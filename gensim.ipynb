{
  "cells": [
    {
      "cell_type": "code",
      "source": [
        "import pandas as pd\n",
        "from nltk.tokenize import RegexpTokenizer\n",
        "from stop_words import get_stop_words\n",
        "from nltk.stem.porter import PorterStemmer\n",
        "from gensim import corpora, models\n",
        "import gensim\n",
        "import progressbar"
      ],
      "outputs": [],
      "execution_count": 2,
      "metadata": {
        "ExecuteTime": {
          "end_time": "2018-01-26T14:57:47.843709Z",
          "start_time": "2018-01-26T14:57:47.139464Z"
        },
        "collapsed": true
      }
    },
    {
      "cell_type": "code",
      "source": [
        "df = pd.read_csv('introdf.csv')\n",
        "df.head()\n",
        "\ndf['abstract'][0]"
      ],
      "outputs": [
        {
          "output_type": "execute_result",
          "execution_count": 5,
          "data": {
            "text/plain": [
              "\"Many investigations of sensory processing are based on the principle that the capacity to discriminate between two sensory stimuli must be based upon the difference between their neural representations. Thus, identifying how manipulations of a stimulus alter its percept can help elucidate the neural representation. The present work addresses the nature of neural coding in the somatosensory system: we have conducted psychophysical experiments to identify which features of a vibrotactile stimulus are extracted by the somatosensory system to determine its frequency, and which regions in the somatosensory cortical network are involved in this process.Early investigations focused on the role of neurons in subcortical stations and primary somatosensory cortex (SI) in coding low frequency “flutter” vibrations (below 50 Hz) [1]–[3], while more recent work has emphasized the role of cortical areas “downstream” from SI, such as the second somatosensory cortex (SII) and regions of frontal cortex [4], [5]. Which of these different areas, and which features of the neural activity within these areas, are essential components in forming the percept of a vibration? A series of psychophysical experiments with humans provided evidence that neural processes in SI contribute to frequency discriminations. In a task designed to resemble that performed by monkeys in the aforementioned neurophysiological studies, subjects compared two sequential vibrations and reported which had the higher frequency. They became less accurate when the somatotopic distance between the two vibrations increased (ie, when the two vibrations were presented on different fingertips) [6]. We interpreted this drop in accuracy as evidence that SI neurons normally contribute to frequency discrimination when subjects compare two vibrations delivered to the same site. Because most SI neurons have contralateral receptive fields centered on a single finger[[7]–[9], but see [10], [11], [12] for recent evidence that SI receives ipsilateral inhibitory input in addition to contralateral excitatory input], those neurons would not receive input from somatotopically distant stimulus sites, and therefore would not be part of the substrate of frequency comparisons between fingers. Thus, when SI neurons were excluded from the discrimination process in this way, performance fell. This interpretation was confirmed in a subsequent experiment that investigated the effects of Transcranial Magnetic Stimulation (TMS) delivered to SI [13]. In that experiment, accuracy at comparing vibrations delivered to the same fingertip was reduced if neuronal activity in the contralateral SI was briefly interrupted by a TMS pulse delivered during the retention interval between the vibrations. It is worth noting that, although an increase in somatotopic distance and TMS both reduced discrimination sensitivity, they did not abolish it. This means that subjects also use information about vibration frequency coded in areas beyond SI that have bilateral receptive fields. The most obvious candidate area is SII. This is entirely consistent with the neurophysiological evidence that vibration frequency is coded by neurons in multiple cortical areas. Moreover, because different cortical regions encode vibrotactile stimuli in different ways [4], [5], the discrimination may be based on multiple features of the stimulus, each feature encoded most explicitly by a different cortical region.If neurons in SI do contribute directly to the comparison of vibrations in a frequency discrimination task, what coding mechanisms might they use? The temporal structure of a vibration is explicitly represented in the precise phase-locked activity of SI neurons [1]–[3], and it has been suggested that the periodicity of this activity explicitly codes the vibration frequency [1]. However, this has been challenged by evidence from psychophysical and electrophysiological experiments with monkeys [4], [5], [14]. For example, Romo and colleagues reasoned that the addition of temporal noise to a vibration would create corresponding noise in the responses of SI neurons, and should therefore impair the frequency discrimination if the temporal structure of SI activity were used to code for frequency. After finding that the addition of such noise to the vibration did not reduce the monkeys' performance, they concluded that firing rate or spike count, but not spike timing, was the relevant code [14], [15]. We re-examine this issue in the present paper: We asked our human participants to compare vibrations whose temporal structure was altered by the addition of Gaussian noise (jitter) to the duration of each cycle of the sine wave. Moreover, if there is a temporal code for vibration frequency, and if this is represented in SI, then the effect of noise should be greater when subjects compare vibrations on the same finger than when they compare vibrations on different hands, because SI will contribute more to the former than to the latter comparison. Here, we test this prediction as well.The present experiments also examined a second feature of vibrations that may contribute to perception of their frequency. Based on evidence that monkeys and humans perceive the “intensity” of a vibration to increase with its frequency [eg], [16, 17], the aforementioned studies with monkeys [1]–[5] eliminated subjective intensity as a cue to frequency by adjusting the amplitude of each vibration. In contrast, our previous experiments used vibrations with fixed amplitudes. This may be an important procedural difference if subjects do use subjective intensity as a cue when comparing vibration frequencies. Therefore, the present series of experiments examined this issue by investigating whether the perception of vibration frequency incorporates information that is sensitive to amplitude as well as frequency. However, rather than focusing on a subjectively defined entity – intensity – we have sought to quantify how amplitude and frequency are combined, so as to identify the relevant physical property of the vibration. The results indicate that the physical quantity corresponding to the product of amplitude and frequency is an important component of what people perceive as frequency.\""
            ]
          },
          "metadata": {}
        }
      ],
      "execution_count": 5,
      "metadata": {
        "ExecuteTime": {
          "end_time": "2018-01-26T14:57:49.169061Z",
          "start_time": "2018-01-26T14:57:48.578578Z"
        }
      }
    },
    {
      "cell_type": "code",
      "source": [
        "#sklearn_tfidf = TfidfVectorizer(norm='l2',min_df=0, use_idf=True, smooth_idf=True, sublinear_tf=True)\n",
        "#doc_mat = sklearn_tfidf.fit_transform(df['abstract'].values.astype('U'))"
      ],
      "outputs": [],
      "execution_count": 6,
      "metadata": {
        "ExecuteTime": {
          "end_time": "2018-01-26T14:57:50.628398Z",
          "start_time": "2018-01-26T14:57:50.625672Z"
        },
        "collapsed": true
      }
    },
    {
      "cell_type": "code",
      "source": [
        "docs = []\n",
        "bar = progressbar.ProgressBar()\n",
        "\n",
        "for i in bar(range(len(df.index))):\n",
        "    if str(df.iloc[i]['abstract']) != 'nan':\n",
        "        docs.append(df.iloc[i]['abstract'])\n",
        "    else:\n",
        "        continue\n"
      ],
      "outputs": [
        {
          "output_type": "stream",
          "name": "stderr",
          "text": [
            "100% (10000 of 10000) |###################| Elapsed Time: 0:00:02 Time: 0:00:02\n"
          ]
        }
      ],
      "execution_count": 7,
      "metadata": {
        "ExecuteTime": {
          "end_time": "2018-01-26T14:57:54.016503Z",
          "start_time": "2018-01-26T14:57:51.672700Z"
        },
        "scrolled": true
      }
    },
    {
      "cell_type": "code",
      "source": [
        "tokenizer = RegexpTokenizer(r'\\w+')\n",
        "\n",
        "# create English stop words list\n",
        "en_stop = get_stop_words('en')\n",
        "\n",
        "# Create p_stemmer of class PorterStemmer\n",
        "p_stemmer = PorterStemmer()"
      ],
      "outputs": [],
      "execution_count": 8,
      "metadata": {
        "ExecuteTime": {
          "end_time": "2018-01-26T14:58:01.031052Z",
          "start_time": "2018-01-26T14:58:01.024936Z"
        },
        "collapsed": true
      }
    },
    {
      "cell_type": "code",
      "source": [
        "# list for tokenized documents in loop\n",
        "texts = []\n",
        "\n",
        "# loop through document list\n",
        "for i in docs:\n",
        "    \n",
        "    # clean and tokenize document string\n",
        "    raw = i.lower()\n",
        "    tokens = tokenizer.tokenize(raw)\n",
        "\n",
        "    # remove stop words from tokens\n",
        "    stopped_tokens = [i for i in tokens if not i in en_stop]\n",
        "    \n",
        "    # stem tokens\n",
        "    stemmed_tokens = [p_stemmer.stem(i) for i in stopped_tokens]\n",
        "    \n",
        "    # add tokens to list\n",
        "    texts.append(stemmed_tokens)"
      ],
      "outputs": [],
      "execution_count": 9,
      "metadata": {
        "ExecuteTime": {
          "end_time": "2018-01-26T15:00:10.984871Z",
          "start_time": "2018-01-26T14:58:04.241728Z"
        },
        "collapsed": true
      }
    },
    {
      "cell_type": "code",
      "source": [
        "len(texts)"
      ],
      "outputs": [
        {
          "output_type": "execute_result",
          "execution_count": 10,
          "data": {
            "text/plain": [
              "9726"
            ]
          },
          "metadata": {}
        }
      ],
      "execution_count": 10,
      "metadata": {
        "ExecuteTime": {
          "end_time": "2018-01-26T15:00:53.624626Z",
          "start_time": "2018-01-26T15:00:53.607292Z"
        }
      }
    },
    {
      "cell_type": "code",
      "source": [
        "dictionary = corpora.Dictionary(texts)\n",
        "print(dictionary)"
      ],
      "outputs": [
        {
          "output_type": "stream",
          "name": "stdout",
          "text": [
            "Dictionary(81966 unique tokens: ['1', '10', '11', '12', '13']...)\n"
          ]
        }
      ],
      "execution_count": 11,
      "metadata": {
        "ExecuteTime": {
          "end_time": "2018-01-26T15:01:01.471915Z",
          "start_time": "2018-01-26T15:00:55.935757Z"
        }
      }
    },
    {
      "cell_type": "code",
      "source": [
        "corpus = [dictionary.doc2bow(text) for text in texts]\n",
        "tfidf = models.TfidfModel(corpus)"
      ],
      "outputs": [],
      "execution_count": 12,
      "metadata": {
        "ExecuteTime": {
          "end_time": "2018-01-26T15:01:08.182578Z",
          "start_time": "2018-01-26T15:01:03.462287Z"
        },
        "collapsed": true
      }
    },
    {
      "cell_type": "code",
      "source": [
        "#ldamodel = models.LdaModel(corpus, num_topics=10, id2word = dictionary)\n",
        "#bow- not tf-idf"
      ],
      "outputs": [],
      "execution_count": 9,
      "metadata": {
        "ExecuteTime": {
          "end_time": "2018-01-26T12:22:35.930140Z",
          "start_time": "2018-01-26T12:21:51.798155Z"
        },
        "collapsed": true
      }
    },
    {
      "cell_type": "code",
      "source": [
        "ldamodel2 = models.LdaModel(tfidf[corpus], num_topics=10, id2word = dictionary)\n",
        "## save model - look at docs\n",
        "## passes=20"
      ],
      "outputs": [],
      "execution_count": 13,
      "metadata": {
        "ExecuteTime": {
          "end_time": "2018-01-26T15:01:48.141406Z",
          "start_time": "2018-01-26T15:01:15.806533Z"
        },
        "collapsed": true
      }
    },
    {
      "cell_type": "code",
      "source": [
        "ldamodel2.show_topics()"
      ],
      "outputs": [
        {
          "output_type": "execute_result",
          "execution_count": 14,
          "data": {
            "text/plain": [
              "[(0,\n",
              "  '0.001*\"mrsa\" + 0.001*\"raft\" + 0.001*\"allergen\" + 0.001*\"obp\" + 0.001*\"dysbindin\" + 0.000*\"song\" + 0.000*\"exosom\" + 0.000*\"flotillin\" + 0.000*\"methicillin\" + 0.000*\"tcf7l2\"'),\n",
              " (1,\n",
              "  '0.004*\"mirna\" + 0.001*\"mir\" + 0.001*\"malaria\" + 0.001*\"obes\" + 0.001*\"sleep\" + 0.001*\"speci\" + 0.001*\"rna\" + 0.001*\"bat\" + 0.001*\"food\" + 0.001*\"pylori\"'),\n",
              " (2,\n",
              "  '0.001*\"chikv\" + 0.000*\"wolbachia\" + 0.000*\"hmgb1\" + 0.000*\"ssri\" + 0.000*\"crf\" + 0.000*\"albopictu\" + 0.000*\"geneid\" + 0.000*\"qd\" + 0.000*\"nhej\" + 0.000*\"t3ss\"'),\n",
              " (3,\n",
              "  '0.002*\"task\" + 0.002*\"visual\" + 0.001*\"memori\" + 0.001*\"emot\" + 0.001*\"face\" + 0.001*\"learn\" + 0.001*\"object\" + 0.001*\"percept\" + 0.001*\"stimuli\" + 0.001*\"cortex\"'),\n",
              " (4,\n",
              "  '0.001*\"mtorc1\" + 0.001*\"amd\" + 0.001*\"npi\" + 0.001*\"vdr\" + 0.001*\"imput\" + 0.001*\"tsc2\" + 0.000*\"fto\" + 0.000*\"schistosomiasi\" + 0.000*\"fmr1\" + 0.000*\"autophagi\"'),\n",
              " (5,\n",
              "  '0.001*\"gene\" + 0.001*\"cell\" + 0.001*\"methyl\" + 0.001*\"es\" + 0.001*\"dna\" + 0.001*\"express\" + 0.001*\"drug\" + 0.001*\"protein\" + 0.001*\"transcript\" + 0.001*\"pluripot\"'),\n",
              " (6,\n",
              "  '0.003*\"cell\" + 0.002*\"infect\" + 0.002*\"hiv\" + 0.002*\"protein\" + 0.001*\"gene\" + 0.001*\"t\" + 0.001*\"tumor\" + 0.001*\"cancer\" + 0.001*\"immun\" + 0.001*\"diseas\"'),\n",
              " (7,\n",
              "  '0.001*\"salmonella\" + 0.001*\"t1d\" + 0.001*\"msi\" + 0.001*\"typhimurium\" + 0.000*\"typhi\" + 0.000*\"cilia\" + 0.000*\"asd\" + 0.000*\"autism\" + 0.000*\"t2dm\" + 0.000*\"cin\"'),\n",
              " (8,\n",
              "  '0.001*\"airway\" + 0.001*\"smoke\" + 0.001*\"her2\" + 0.001*\"cf\" + 0.001*\"brca1\" + 0.001*\"gbm\" + 0.001*\"lung\" + 0.001*\"ht\" + 0.001*\"obes\" + 0.001*\"sod1\"'),\n",
              " (9,\n",
              "  '0.001*\"astrocyt\" + 0.001*\"circadian\" + 0.001*\"scn\" + 0.001*\"nsc\" + 0.001*\"clock\" + 0.001*\"synapt\" + 0.001*\"rsv\" + 0.001*\"ltp\" + 0.001*\"neuron\" + 0.001*\"ipf\"')]"
            ]
          },
          "metadata": {}
        }
      ],
      "execution_count": 14,
      "metadata": {
        "ExecuteTime": {
          "end_time": "2018-01-26T15:01:52.511459Z",
          "start_time": "2018-01-26T15:01:52.493969Z"
        }
      }
    },
    {
      "cell_type": "code",
      "source": [
        "ldamodel2.get_topic_terms(9)"
      ],
      "outputs": [
        {
          "output_type": "execute_result",
          "execution_count": 15,
          "data": {
            "text/plain": [
              "[(6786, 0.0009708681),\n",
              " (4162, 0.00081612234),\n",
              " (14679, 0.00077345036),\n",
              " (4547, 0.00076299103),\n",
              " (2959, 0.00074732152),\n",
              " (2508, 0.00064930454),\n",
              " (10525, 0.00064542581),\n",
              " (4439, 0.00064032339),\n",
              " (150, 0.00058761198),\n",
              " (5509, 0.00058517326)]"
            ]
          },
          "metadata": {}
        }
      ],
      "execution_count": 15,
      "metadata": {
        "ExecuteTime": {
          "end_time": "2018-01-26T15:02:16.025261Z",
          "start_time": "2018-01-26T15:02:16.010821Z"
        }
      }
    },
    {
      "cell_type": "code",
      "source": [
        "ldamodel2.get_document_topics(corpus[1])"
      ],
      "outputs": [
        {
          "output_type": "execute_result",
          "execution_count": 16,
          "data": {
            "text/plain": [
              "[(1, 0.0293251), (3, 0.020236894), (4, 0.03966368), (6, 0.90103412)]"
            ]
          },
          "metadata": {}
        }
      ],
      "execution_count": 16,
      "metadata": {
        "ExecuteTime": {
          "end_time": "2018-01-26T15:02:22.514606Z",
          "start_time": "2018-01-26T15:02:22.507549Z"
        }
      }
    },
    {
      "cell_type": "code",
      "source": [
        "doc1tops = ldamodel2.show_topic(7)\n",
        "doc1tops"
      ],
      "outputs": [
        {
          "output_type": "execute_result",
          "execution_count": 17,
          "data": {
            "text/plain": [
              "[('salmonella', 0.00082862494),\n",
              " ('t1d', 0.00075817679),\n",
              " ('msi', 0.00056358147),\n",
              " ('typhimurium', 0.00050283695),\n",
              " ('typhi', 0.00049295975),\n",
              " ('cilia', 0.00049181603),\n",
              " ('asd', 0.00046959799),\n",
              " ('autism', 0.00046411535),\n",
              " ('t2dm', 0.00044025693),\n",
              " ('cin', 0.00041626647)]"
            ]
          },
          "metadata": {}
        }
      ],
      "execution_count": 17,
      "metadata": {
        "ExecuteTime": {
          "end_time": "2018-01-26T15:02:27.701122Z",
          "start_time": "2018-01-26T15:02:27.687353Z"
        }
      }
    },
    {
      "cell_type": "code",
      "source": [
        "tops = [i[0] for i in doc1tops]"
      ],
      "outputs": [],
      "execution_count": 18,
      "metadata": {
        "ExecuteTime": {
          "end_time": "2018-01-26T15:02:32.124892Z",
          "start_time": "2018-01-26T15:02:32.120853Z"
        }
      }
    },
    {
      "cell_type": "code",
      "source": [
        "toptops = []\n",
        "bar = progressbar.ProgressBar()\n",
        "\n",
        "for i in bar(range(0,len(texts))):\n",
        "    top = ldamodel2.show_topic(ldamodel2.get_document_topics(corpus[i])[0][0])\n",
        "    toptops.append([j[0] for j in top])"
      ],
      "outputs": [
        {
          "output_type": "stream",
          "name": "stderr",
          "text": [
            "100% (9726 of 9726) |#####################| Elapsed Time: 0:00:33 Time: 0:00:33\n"
          ]
        }
      ],
      "execution_count": 19,
      "metadata": {
        "ExecuteTime": {
          "end_time": "2018-01-26T15:03:15.268478Z",
          "start_time": "2018-01-26T15:02:41.859856Z"
        }
      }
    },
    {
      "cell_type": "code",
      "source": [
        "print(toptops[1])"
      ],
      "outputs": [
        {
          "output_type": "stream",
          "name": "stdout",
          "text": [
            "['mirna', 'mir', 'malaria', 'obes', 'sleep', 'speci', 'rna', 'bat', 'food', 'pylori']\n"
          ]
        }
      ],
      "execution_count": 20,
      "metadata": {
        "ExecuteTime": {
          "end_time": "2018-01-26T15:03:20.085821Z",
          "start_time": "2018-01-26T15:03:20.081444Z"
        }
      }
    },
    {
      "cell_type": "code",
      "source": [
        "#Association -- just overlapping topics? Or combination of topics shown together? Or words\n",
        "#across topics that are shown together? \n",
        "\n",
        "#Does the presence of a topic predict the presence of another topic?\n",
        "#40+ topics\n",
        "#Top topics -- above threshold (0.05) \n",
        "\n",
        "#pairwise mutual information among topics?? Raf\n",
        "# contiguity rather than similarity (Royal navy and Georgia timber)"
      ],
      "outputs": [],
      "execution_count": null,
      "metadata": {
        "collapsed": true
      }
    },
    {
      "cell_type": "markdown",
      "source": [
        "## Doc2Vec"
      ],
      "metadata": {}
    },
    {
      "cell_type": "code",
      "source": [
        "from gensim.models.doc2vec import Doc2Vec,TaggedLineDocument\n",
        "import gzip,os,glob\n",
        "import numpy as np\n",
        "from nltk.tokenize.moses import MosesDetokenizer"
      ],
      "outputs": [],
      "execution_count": 32,
      "metadata": {
        "ExecuteTime": {
          "end_time": "2018-01-26T15:14:06.530050Z",
          "start_time": "2018-01-26T15:14:06.520517Z"
        }
      }
    },
    {
      "cell_type": "code",
      "source": [
        "detokenizer = MosesDetokenizer()\n",
        "file = open('processed_docs.txt', 'w')\n",
        "bar = progressbar.ProgressBar()\n",
        "  \n",
        "for i in bar(range(0,len(texts))):\n",
        "    detok_str = detokenizer.detokenize(texts[i], return_str=True)\n",
        "    file.write(\"%s\\n\" % detok_str)\n"
      ],
      "outputs": [
        {
          "output_type": "stream",
          "name": "stderr",
          "text": [
            "100% (9726 of 9726) |#####################| Elapsed Time: 0:01:45 Time: 0:01:45\n"
          ]
        }
      ],
      "execution_count": 33,
      "metadata": {
        "ExecuteTime": {
          "end_time": "2018-01-26T15:15:56.522591Z",
          "start_time": "2018-01-26T15:14:11.136072Z"
        }
      }
    },
    {
      "cell_type": "code",
      "source": [
        "file.close()"
      ],
      "outputs": [],
      "execution_count": 37,
      "metadata": {
        "ExecuteTime": {
          "end_time": "2018-01-26T15:19:24.897049Z",
          "start_time": "2018-01-26T15:19:24.892899Z"
        },
        "collapsed": true
      }
    },
    {
      "cell_type": "code",
      "source": [
        "# Generate a list of tagged line documents, one per line from the file generated above\n",
        "documents = [doc for doc in TaggedLineDocument('processed_docs.txt')]"
      ],
      "outputs": [],
      "execution_count": 38,
      "metadata": {
        "ExecuteTime": {
          "end_time": "2018-01-26T15:19:33.350452Z",
          "start_time": "2018-01-26T15:19:32.569064Z"
        }
      }
    },
    {
      "cell_type": "code",
      "source": [
        "# Now just run the model. A simple little one-liner. Be sure to take advantages of the the `workers` option, which parallelizes the model automagically\n",
        "model = Doc2Vec(documents, size=200, window=5, min_count=5,workers=24)"
      ],
      "outputs": [],
      "execution_count": 41,
      "metadata": {
        "ExecuteTime": {
          "end_time": "2018-01-26T15:20:42.683428Z",
          "start_time": "2018-01-26T15:20:18.229697Z"
        },
        "collapsed": true
      }
    },
    {
      "cell_type": "code",
      "source": [
        "# the resulting feature vectors are stored in `model.docvecs.doctag_syn0`, so let's just save that numpy array\n",
        "np.save('features-w2v-200.npy',model.docvecs.doctag_syn0)"
      ],
      "outputs": [],
      "execution_count": 42,
      "metadata": {
        "ExecuteTime": {
          "end_time": "2018-01-26T15:20:56.769651Z",
          "start_time": "2018-01-26T15:20:56.713043Z"
        },
        "collapsed": true
      }
    },
    {
      "cell_type": "code",
      "source": [
        "doc_id = np.random.randint(model.docvecs.count) \n",
        "sims = model.docvecs.most_similar(doc_id, topn=model.docvecs.count)  # get *all* similar documents\n",
        "print(u'TARGET (%d): «%s»\\n' % (doc_id, ' '.join(documents[doc_id].words)))\n",
        "print(u'SIMILAR/DISSIMILAR DOCS PER MODEL %s:\\n' % model)\n",
        "for label, index in [('MOST', 0), ('MEDIAN', len(sims)//2), ('LEAST', len(sims) - 1)]:\n",
        "    print(u'%s %s: «%s»\\n' % (label, sims[index], ' '.join(documents[sims[index][0]].words)))"
      ],
      "outputs": [
        {
          "output_type": "stream",
          "name": "stdout",
          "text": [
            "TARGET (1094): «dietari selenium potent cancer prevent activ 1 selenium contain protein selenoprotein 2 3 refer therein low molecular weight selenium contain compound selenocompound 2 refer therein implic activ major role selenium provid health benefit like action selenoprotein 1 thioredoxin reductas 1 tr1 one 24 known selenoprotein rodent 4 major antioxid redox regul mammalian cell 5 6 refer therein essenti role mammalian develop 7 howev enzym appear oppos effect cancer develop implic cancer prevent 8 cancer promot 9 12 exampl tr1 support p53 function tumor suppressor activ target carcinogen electrophil compound argu role cancer prevent 13 altern tr1 overexpress mani cancer cell 9 12 inhibit varieti potent cancer drug alter cancer relat properti numer tumor malign cell suggest enzym target cancer therapi 9 12 14 15 clear whether tr1 cancer prevent cancer promot properti exert greater influenc cancer whether contrast effect oper simultan specif differ stage cancer develop properti util cancer prevent therapi address issu initi examin role tr1 mous lung cancer cell line mous anim model observ reduct tr1 level revers numer malign properti includ tumorigenec 16 herein examin tr1 function role cancer develop malign mous cell line correspond parent normal cell line avail verifi find sever human cancer cell line»\n",
            "\n",
            "SIMILAR/DISSIMILAR DOCS PER MODEL Doc2Vec(dm/m,d200,n5,w5,mc5,s0.001,t24):\n",
            "\n",
            "MOST (5350, 0.8533205986022949): «accord world health organ base morbid mortal econom burden emot hardship cancer may consid oner health problem afflict peopl worldwid 1 current 22 4 million peopl world suffer cancer approxim 10 1 million new case diagnos cancer annual 6 2 million die diseas year 2000 2 repres increas around 19 incid 18 mortal sinc 1990 import aim cancer research find therapeut compound high specif cancer cell tumor fewer side effect present use cytostat cytotox agent numer plant deriv compound use cancer chemotherapi includ vinblastin vincristin camptothecin deriv etoposid deriv epipodophyllotoxin paclitaxel taxol 3 howev compound exhibit cell toxic can induc genotox carcinogen teratogen effect non tumor cell fail earlier clinic studi 4 5 anoth wide use metal base drug present select type cancer cisplatin 6 use cisplatin cur therapi associ seriou clinic problem sever normal tissu toxic resist treatment 7 side effect limit use chemotherapeut agent despit high efficaci treat target malign cell consequ new therapi treatment strategi diseas necessari treat patient diseas therefor search altern drug effect treatment cancer well non toxic normal tissu import research line 8 terpenoid use extens aromat qualiti play role tradit herbal remedi investig antibacteri antineoplast pharmaceut function natur triterpenoid oleanol acid ursol acid compound anti tumorigen anti inflammatori properti 9 synthet triterpenoid deriv 2 cyano 3 13 dioxooleana 1 9 11 dien 28 oic acid cddo 10 deriv 1 2 cyano 3 12 dioxooleana 1 9 11 dien 28 oyl imidazol cddo im 11 also anti tumor activ root bark ailanthu excelsa roxb tree heaven tree belong famili simaroubacea wide use ayurveda evidenc phytotherapi 12 speci famili well known anti cancer activ 13 chemic constitu excelsa includ triterpen alkaloid 14 present studi evalu vitro vivo anti cancer activ novel triterpenoid aechl 1 isol root bark plant found highli effect cancer cell differ lineag»\n",
            "\n",
            "MEDIAN (7461, 0.40481165051460266): «gastrointestin tract gut popular term microbiota one import metazoan anim organ 1 gut mainli respons extract energi ingest food intim interact gut bacteria metabol capac break polysaccharid energi sourc host can directli util tremend challeng host howev differenti benefici harm bacteria sinc gut direct contact environ ingest food 2 despit import still know gener mechan govern transmiss persist gut bacteria within host popul 3 4 invertebr earthworm mainli util gut bacteria purpos vertebr provis metabol capac protect pathogen 5 6 7 8 9 10 import earthworm organ transform alreadi recogn darwin 11 long discoveri bacteri interact 7 sinc earthworm intim interact bacteria earthworm need effici immun system differenti benefici harm bacteria earthworm gener antimicrobi mechan select mechan target potenti harm bacteria 12 numer studi earthworm microbiota 5 6 7 8 9 13 14 15 littl howev known distribut pattern bacteria within earthworm popul particular fundament question origin spread gut bacteria within host popul remain unansw address question will import understand soil microbiota ecolog gener principl host microbiota interact main transfer bacteria within earthworm popul occur feed excret drake horn 2007 aim current work therefor determin effect feed microbiota associ popul earthworm simul microenviron use epig earthworm eisenia hortensi european nightcrawl host popul model rational use surfac feed earthworm divers feed repertoir consist plant anim materi 16 present empir evid rapid consist chang microbiota gut host popul level feed result also show feed significantli reduc individu variat microbiota»\n",
            "\n",
            "LEAST (7454, -0.0696914792060852): «current two subtyp influenza type viru h3n2 h1n1 cocircul human popul along influenza type b viru temper zone inter pandem period dynam lead annual epidem variabl amplitud caus altern type subtyp 1 worldwid annual epidem result three five million case sever ill 250 000 500 000 death 2 recurr influenza epidem still thoroughli understood despit larg amount empir theoret investig origin explain evolut main surfac glycoprotein viru mainli haemagglutinin ha also neuraminidas na induc possibl reinfect previous infect host continu antigen drift scenario 3 virus continu escap immun mutat accumul recent challeng new sequenc data theoret develop theoret side multi strain model track infect histori host difficult use due exponenti growth state variabl number strain increas 4 nevertheless use statu base approach combin assumpt previou infect reduc infect co infect allow 5 produc model number state variabl grow linearli number strain thu possibl studi immunolog cross reactiv strain sequenti invad partial suscept popul result 5 model use linear antigen space shown self organis strain antigen cluster organis result punctuat antigen evolut base continu genet chang challeng idea gradual antigen drift observ experiment side 6 map antigen genet evolut influenza viru real data use statist techniqu confirm theoret result 5 antigen cluster emerg replac everi 2 8 year theoret work enabl relax hypothesi linear antigen space 7 8 gain realism result intuit explos strain divers due posit feedback antigen divers co circul strain increas product variant also increas key theoret question thu explain strain divers restrict compat phylogenet tree glycoprotein ha subtyp h3n2 9 ferguson et al 2003 see also 10 11 includ model strain transcend temporari immun previous suggest 12 along sourc variabl 13 approach allow simul realist viral evolut sequenc level nevertheless remain difficult prove conclus physiolog support non perman immun appropri experi recent 14 abl reproduc dynam influenza ha genet divers within high dimension antigen space without invok temporari cross immun 14 model focus antigen cluster result degener genotyp phenotyp map author consid evolut main antigen influenza two princip characterist first consist long period stasi antigen cluster global chang antigen properti evolv neutral almost neutral mutat second period punctuat burst posit select precipit antigen cluster transit due rare escap mutat occurr new antigen cluster result select sweep restrict strain divers 14 model shown weak within cluster select select sweep accompani antigen cluster transit suffici recov ha interpandem evolutionari dynam find confirm genet data analys 15 16 14 result suggest new start point investig influenza dynam popul level interest consequ 14 result popul level contrari classic model 3 resort gradual antigen drift 14 result suggest focu serial model discret transit provok punctuat evolut rare immun escap mutant strong antigen effect interest contrast serial sir paradigm classic sir model 3 particular seek determin whether serial model requir gradual antigen drift within cluster reveal 14 studi gradual antigen drift favour antigen cluster chang facilit antigen space explor also increas suscept renew approach mainli neglect epidemiolog impact gradual antigen drift disentangl complex causal link induc interact birth death process gradual antigen drift cluster chang extern viru reintroduct specif model assumpt object use simpl tractabl model determin extent serial model per se e neglect gradual antigen drift can constitut minim model influenza dynam popul level analysi mainli focus transient dynam appear first import select sweep antigen cluster replac knowledg contrari done stationari dynam see 17 studi focus consequ model assumpt transient dynam methodolog side start clarifi effect classic model assumpt multi strain sir model invas persist new antigen cluster histori statu base two strain model includ reduc infect suscept assumpt consid section method signific choic biolog relev numer valu model paramet discuss determinist framework first explor section result stochast extern reintroduct virus ad order test robust obtain transient dynam final discuss biolog limit model abl reproduc observ antigen cluster replac dynam gener ingredi minim theori influenza find global suggest impact model assumpt outcom invas new antigen cluster also stress dynam import gradual antigen drift minim theori influenza popul level even presenc punctuat immun escap»\n",
            "\n"
          ]
        }
      ],
      "execution_count": 46,
      "metadata": {
        "ExecuteTime": {
          "end_time": "2018-01-26T15:25:52.721736Z",
          "start_time": "2018-01-26T15:25:52.682286Z"
        }
      }
    },
    {
      "cell_type": "code",
      "source": [],
      "outputs": [],
      "execution_count": null,
      "metadata": {
        "collapsed": true
      }
    }
  ],
  "metadata": {
    "kernelspec": {
      "name": "python3",
      "language": "python",
      "display_name": "Python 3"
    },
    "language_info": {
      "name": "python",
      "version": "3.6.1",
      "mimetype": "text/x-python",
      "codemirror_mode": {
        "name": "ipython",
        "version": 3
      },
      "pygments_lexer": "ipython3",
      "nbconvert_exporter": "python",
      "file_extension": ".py"
    },
    "varInspector": {
      "cols": {
        "lenName": 16,
        "lenType": 16,
        "lenVar": 40
      },
      "kernels_config": {
        "python": {
          "delete_cmd_postfix": "",
          "delete_cmd_prefix": "del ",
          "library": "var_list.py",
          "varRefreshCmd": "print(var_dic_list())"
        },
        "r": {
          "delete_cmd_postfix": ") ",
          "delete_cmd_prefix": "rm(",
          "library": "var_list.r",
          "varRefreshCmd": "cat(var_dic_list()) "
        }
      },
      "oldHeight": 297,
      "position": {
        "height": "40px",
        "left": "756px",
        "right": "24px",
        "top": "78px",
        "width": "305px"
      },
      "types_to_exclude": [
        "module",
        "function",
        "builtin_function_or_method",
        "instance",
        "_Feature"
      ],
      "varInspector_section_display": "none",
      "window_display": true
    },
    "kernel_info": {
      "name": "python3"
    },
    "nteract": {
      "version": "0.6.2"
    }
  },
  "nbformat": 4,
  "nbformat_minor": 2
}