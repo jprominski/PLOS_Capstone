{
 "cells": [
  {
   "cell_type": "code",
   "execution_count": 1,
   "metadata": {
    "ExecuteTime": {
     "end_time": "2018-02-16T12:06:43.973737Z",
     "start_time": "2018-02-16T12:06:41.100969Z"
    },
    "inputHidden": false,
    "outputHidden": false
   },
   "outputs": [],
   "source": [
    "import sqlite3\n",
    "import pandas as pd\n",
    "import numpy as np\n",
    "import time\n",
    "import pickle\n",
    "from nltk.tokenize import RegexpTokenizer\n",
    "from nltk.stem.porter import PorterStemmer\n",
    "from nltk.tokenize.moses import MosesDetokenizer\n",
    "\n",
    "from stop_words import get_stop_words\n",
    "from collections import defaultdict\n",
    "import gensim\n",
    "from gensim import corpora, models, similarities\n",
    "from gensim.models.doc2vec import TaggedDocument,TaggedLineDocument\n",
    "from gensim.models import Doc2Vec\n",
    "import gensim.models.doc2vec"
   ]
  },
  {
   "cell_type": "markdown",
   "metadata": {},
   "source": [
    "## Full Body Model Training"
   ]
  },
  {
   "cell_type": "code",
   "execution_count": 2,
   "metadata": {},
   "outputs": [],
   "source": [
    "conn = sqlite3.connect(\"volume2/testDB.db\")"
   ]
  },
  {
   "cell_type": "code",
   "execution_count": 3,
   "metadata": {},
   "outputs": [
    {
     "name": "stdout",
     "output_type": "stream",
     "text": [
      "[('PLOS_ALL',), ('PLOS_ALL_tok',), ('ed_concat',)]\n"
     ]
    }
   ],
   "source": [
    "cursor = conn.cursor()\n",
    "cursor.execute(\"SELECT name FROM sqlite_master WHERE type='table';\")\n",
    "print(cursor.fetchall())"
   ]
  },
  {
   "cell_type": "code",
   "execution_count": 4,
   "metadata": {},
   "outputs": [
    {
     "data": {
      "text/html": [
       "<div>\n",
       "<style scoped>\n",
       "    .dataframe tbody tr th:only-of-type {\n",
       "        vertical-align: middle;\n",
       "    }\n",
       "\n",
       "    .dataframe tbody tr th {\n",
       "        vertical-align: top;\n",
       "    }\n",
       "\n",
       "    .dataframe thead th {\n",
       "        text-align: right;\n",
       "    }\n",
       "</style>\n",
       "<table border=\"1\" class=\"dataframe\">\n",
       "  <thead>\n",
       "    <tr style=\"text-align: right;\">\n",
       "      <th></th>\n",
       "      <th>index</th>\n",
       "      <th>doi</th>\n",
       "      <th>bod_toks</th>\n",
       "      <th>ab_toks</th>\n",
       "    </tr>\n",
       "  </thead>\n",
       "  <tbody>\n",
       "    <tr>\n",
       "      <th>0</th>\n",
       "      <td>0</td>\n",
       "      <td>10.1371/journal.pone.0143437</td>\n",
       "      <td>['pulmonari', 'prostat', 'cancer', 'common', '...</td>\n",
       "      <td>['bone', 'scintigraphi', 'wide', 'appli', 'det...</td>\n",
       "    </tr>\n",
       "    <tr>\n",
       "      <th>1</th>\n",
       "      <td>1</td>\n",
       "      <td>10.1371/journal.pone.0096769</td>\n",
       "      <td>['voic', 'disord', 'dysphonia', 'can', 'caus',...</td>\n",
       "      <td>['cystic', 'fibrosi', 'common', 'autosom', 're...</td>\n",
       "    </tr>\n",
       "    <tr>\n",
       "      <th>2</th>\n",
       "      <td>2</td>\n",
       "      <td>10.1371/journal.pone.0177044</td>\n",
       "      <td>['dementia', 'typic', 'defin', 'clinic', 'synd...</td>\n",
       "      <td>['alzheim', 'diseas', 'neurodegen', 'syndrom',...</td>\n",
       "    </tr>\n",
       "    <tr>\n",
       "      <th>3</th>\n",
       "      <td>3</td>\n",
       "      <td>10.1371/journal.pone.0033200</td>\n",
       "      <td>['non', 'small', 'cell', 'lung', 'cancer', 'ns...</td>\n",
       "      <td>['purposexeroderma', 'pigmentosum', 'group', '...</td>\n",
       "    </tr>\n",
       "    <tr>\n",
       "      <th>4</th>\n",
       "      <td>4</td>\n",
       "      <td>10.1371/journal.pone.0001814</td>\n",
       "      <td>['endosom', 'rout', 'consid', 'default', 'path...</td>\n",
       "      <td>['class', 'mhc', 'molecul', 'display', 'peptid...</td>\n",
       "    </tr>\n",
       "  </tbody>\n",
       "</table>\n",
       "</div>"
      ],
      "text/plain": [
       "   index                           doi  \\\n",
       "0      0  10.1371/journal.pone.0143437   \n",
       "1      1  10.1371/journal.pone.0096769   \n",
       "2      2  10.1371/journal.pone.0177044   \n",
       "3      3  10.1371/journal.pone.0033200   \n",
       "4      4  10.1371/journal.pone.0001814   \n",
       "\n",
       "                                            bod_toks  \\\n",
       "0  ['pulmonari', 'prostat', 'cancer', 'common', '...   \n",
       "1  ['voic', 'disord', 'dysphonia', 'can', 'caus',...   \n",
       "2  ['dementia', 'typic', 'defin', 'clinic', 'synd...   \n",
       "3  ['non', 'small', 'cell', 'lung', 'cancer', 'ns...   \n",
       "4  ['endosom', 'rout', 'consid', 'default', 'path...   \n",
       "\n",
       "                                             ab_toks  \n",
       "0  ['bone', 'scintigraphi', 'wide', 'appli', 'det...  \n",
       "1  ['cystic', 'fibrosi', 'common', 'autosom', 're...  \n",
       "2  ['alzheim', 'diseas', 'neurodegen', 'syndrom',...  \n",
       "3  ['purposexeroderma', 'pigmentosum', 'group', '...  \n",
       "4  ['class', 'mhc', 'molecul', 'display', 'peptid...  "
      ]
     },
     "execution_count": 4,
     "metadata": {},
     "output_type": "execute_result"
    }
   ],
   "source": [
    "df0 = pd.read_sql('SELECT * from PLOS_ALL_tok LIMIT 10', conn)\n",
    "df0.head()"
   ]
  },
  {
   "cell_type": "code",
   "execution_count": 6,
   "metadata": {},
   "outputs": [
    {
     "data": {
      "text/html": [
       "<div>\n",
       "<style scoped>\n",
       "    .dataframe tbody tr th:only-of-type {\n",
       "        vertical-align: middle;\n",
       "    }\n",
       "\n",
       "    .dataframe tbody tr th {\n",
       "        vertical-align: top;\n",
       "    }\n",
       "\n",
       "    .dataframe thead th {\n",
       "        text-align: right;\n",
       "    }\n",
       "</style>\n",
       "<table border=\"1\" class=\"dataframe\">\n",
       "  <thead>\n",
       "    <tr style=\"text-align: right;\">\n",
       "      <th></th>\n",
       "      <th>level_0</th>\n",
       "      <th>index</th>\n",
       "      <th>doi</th>\n",
       "      <th>pmid</th>\n",
       "      <th>journal</th>\n",
       "      <th>publisher_id</th>\n",
       "      <th>publisher_name</th>\n",
       "      <th>authors</th>\n",
       "      <th>editors</th>\n",
       "      <th>subjects</th>\n",
       "      <th>title</th>\n",
       "      <th>alt_title</th>\n",
       "      <th>date_pub</th>\n",
       "      <th>date_rec</th>\n",
       "      <th>abstract</th>\n",
       "      <th>body</th>\n",
       "    </tr>\n",
       "  </thead>\n",
       "  <tbody>\n",
       "    <tr>\n",
       "      <th>0</th>\n",
       "      <td>0</td>\n",
       "      <td>0</td>\n",
       "      <td>10.1371/journal.pone.0143437</td>\n",
       "      <td>26599401</td>\n",
       "      <td>PLoS ONE</td>\n",
       "      <td>plos</td>\n",
       "      <td>Public Library of Science</td>\n",
       "      <td>['Changyin Wang', 'Ying Shen', 'Shaobo Zhu']</td>\n",
       "      <td>['Harriet Wikman']</td>\n",
       "      <td>['Research Article']</td>\n",
       "      <td>Distribution Features of Skeletal Metastases: ...</td>\n",
       "      <td>Distribution Features of Skeletal Metastases</td>\n",
       "      <td>2015-11-23</td>\n",
       "      <td>2015-6-24</td>\n",
       "      <td>Bone scintigraphies are widely applied for det...</td>\n",
       "      <td>Pulmonary and prostate cancers are the most co...</td>\n",
       "    </tr>\n",
       "    <tr>\n",
       "      <th>1</th>\n",
       "      <td>1</td>\n",
       "      <td>1</td>\n",
       "      <td>10.1371/journal.pone.0096769</td>\n",
       "      <td>24796691</td>\n",
       "      <td>PLoS ONE</td>\n",
       "      <td>plos</td>\n",
       "      <td>Public Library of Science</td>\n",
       "      <td>['Bruna Mendes Lourenço', 'Kauê Machado Costa'...</td>\n",
       "      <td>['Donald A. Robin']</td>\n",
       "      <td>['Research Article', 'Biology and Life Science...</td>\n",
       "      <td>Voice Disorder in Cystic Fibrosis Patients</td>\n",
       "      <td>Voice Disorder in Cystic Fibrosis</td>\n",
       "      <td>2014-5-5</td>\n",
       "      <td>2013-10-10</td>\n",
       "      <td>Cystic fibrosis   common autosomal recessive d...</td>\n",
       "      <td>Voice disorders, or dysphonias, can be caused ...</td>\n",
       "    </tr>\n",
       "    <tr>\n",
       "      <th>2</th>\n",
       "      <td>2</td>\n",
       "      <td>2</td>\n",
       "      <td>10.1371/journal.pone.0177044</td>\n",
       "      <td>28472200</td>\n",
       "      <td>PLoS ONE</td>\n",
       "      <td>plos</td>\n",
       "      <td>Public Library of Science</td>\n",
       "      <td>['Miriam L. Haaksma', 'Lara R. Vilela', 'Aless...</td>\n",
       "      <td>['Stephen D. Ginsberg']</td>\n",
       "      <td>['Research Article', 'Medicine and Health Scie...</td>\n",
       "      <td>Comorbidity and progression of late onset Alzh...</td>\n",
       "      <td>Comorbidity and progression of late onset Alzh...</td>\n",
       "      <td>2017-5-4</td>\n",
       "      <td>2017-2-2</td>\n",
       "      <td>Alzheimer’ disease   neurodegenerative syndrom...</td>\n",
       "      <td>1. Dementia is typically defined as a clinical...</td>\n",
       "    </tr>\n",
       "    <tr>\n",
       "      <th>3</th>\n",
       "      <td>3</td>\n",
       "      <td>3</td>\n",
       "      <td>10.1371/journal.pone.0033200</td>\n",
       "      <td>22479369</td>\n",
       "      <td>PLoS ONE</td>\n",
       "      <td>plos</td>\n",
       "      <td>Public Library of Science</td>\n",
       "      <td>['Wenting Wu', 'Huan Li', 'Huibo Wang', 'Xueyi...</td>\n",
       "      <td>['Alfons Navarro']</td>\n",
       "      <td>['Research Article', 'Biology', 'Genetics', 'H...</td>\n",
       "      <td>Effect of Polymorphisms in</td>\n",
       "      <td>None</td>\n",
       "      <td>2012-3-29</td>\n",
       "      <td>2011-11-9</td>\n",
       "      <td>PurposeXeroderma pigmentosum group  (XPD) code...</td>\n",
       "      <td>Non-small cell lung cancer (NSCLC) accounts fo...</td>\n",
       "    </tr>\n",
       "    <tr>\n",
       "      <th>4</th>\n",
       "      <td>4</td>\n",
       "      <td>4</td>\n",
       "      <td>10.1371/journal.pone.0001814</td>\n",
       "      <td>18350151</td>\n",
       "      <td>PLoS ONE</td>\n",
       "      <td>plos</td>\n",
       "      <td>Public Library of Science</td>\n",
       "      <td>['Shashank Gupta', 'Sabine Höpner', 'Bernd Rup...</td>\n",
       "      <td>['Mauricio Martins Rodrigues']</td>\n",
       "      <td>['Research Article', 'Immunology/Antigen Proce...</td>\n",
       "      <td>Anchor Side Chains of Short Peptide Fragments ...</td>\n",
       "      <td>Ligand-Exchange Catalysts</td>\n",
       "      <td>2008-3-19</td>\n",
       "      <td>2008-1-10</td>\n",
       "      <td>Class  MHC molecules display peptides  the cel...</td>\n",
       "      <td>The endosomal route is considered to be the de...</td>\n",
       "    </tr>\n",
       "  </tbody>\n",
       "</table>\n",
       "</div>"
      ],
      "text/plain": [
       "   level_0  index                           doi      pmid   journal  \\\n",
       "0        0      0  10.1371/journal.pone.0143437  26599401  PLoS ONE   \n",
       "1        1      1  10.1371/journal.pone.0096769  24796691  PLoS ONE   \n",
       "2        2      2  10.1371/journal.pone.0177044  28472200  PLoS ONE   \n",
       "3        3      3  10.1371/journal.pone.0033200  22479369  PLoS ONE   \n",
       "4        4      4  10.1371/journal.pone.0001814  18350151  PLoS ONE   \n",
       "\n",
       "  publisher_id             publisher_name  \\\n",
       "0         plos  Public Library of Science   \n",
       "1         plos  Public Library of Science   \n",
       "2         plos  Public Library of Science   \n",
       "3         plos  Public Library of Science   \n",
       "4         plos  Public Library of Science   \n",
       "\n",
       "                                             authors  \\\n",
       "0       ['Changyin Wang', 'Ying Shen', 'Shaobo Zhu']   \n",
       "1  ['Bruna Mendes Lourenço', 'Kauê Machado Costa'...   \n",
       "2  ['Miriam L. Haaksma', 'Lara R. Vilela', 'Aless...   \n",
       "3  ['Wenting Wu', 'Huan Li', 'Huibo Wang', 'Xueyi...   \n",
       "4  ['Shashank Gupta', 'Sabine Höpner', 'Bernd Rup...   \n",
       "\n",
       "                          editors  \\\n",
       "0              ['Harriet Wikman']   \n",
       "1             ['Donald A. Robin']   \n",
       "2         ['Stephen D. Ginsberg']   \n",
       "3              ['Alfons Navarro']   \n",
       "4  ['Mauricio Martins Rodrigues']   \n",
       "\n",
       "                                            subjects  \\\n",
       "0                               ['Research Article']   \n",
       "1  ['Research Article', 'Biology and Life Science...   \n",
       "2  ['Research Article', 'Medicine and Health Scie...   \n",
       "3  ['Research Article', 'Biology', 'Genetics', 'H...   \n",
       "4  ['Research Article', 'Immunology/Antigen Proce...   \n",
       "\n",
       "                                               title  \\\n",
       "0  Distribution Features of Skeletal Metastases: ...   \n",
       "1         Voice Disorder in Cystic Fibrosis Patients   \n",
       "2  Comorbidity and progression of late onset Alzh...   \n",
       "3                        Effect of Polymorphisms in    \n",
       "4  Anchor Side Chains of Short Peptide Fragments ...   \n",
       "\n",
       "                                           alt_title    date_pub    date_rec  \\\n",
       "0       Distribution Features of Skeletal Metastases  2015-11-23   2015-6-24   \n",
       "1                  Voice Disorder in Cystic Fibrosis    2014-5-5  2013-10-10   \n",
       "2  Comorbidity and progression of late onset Alzh...    2017-5-4    2017-2-2   \n",
       "3                                               None   2012-3-29   2011-11-9   \n",
       "4                          Ligand-Exchange Catalysts   2008-3-19   2008-1-10   \n",
       "\n",
       "                                            abstract  \\\n",
       "0  Bone scintigraphies are widely applied for det...   \n",
       "1  Cystic fibrosis   common autosomal recessive d...   \n",
       "2  Alzheimer’ disease   neurodegenerative syndrom...   \n",
       "3  PurposeXeroderma pigmentosum group  (XPD) code...   \n",
       "4  Class  MHC molecules display peptides  the cel...   \n",
       "\n",
       "                                                body  \n",
       "0  Pulmonary and prostate cancers are the most co...  \n",
       "1  Voice disorders, or dysphonias, can be caused ...  \n",
       "2  1. Dementia is typically defined as a clinical...  \n",
       "3  Non-small cell lung cancer (NSCLC) accounts fo...  \n",
       "4  The endosomal route is considered to be the de...  "
      ]
     },
     "execution_count": 6,
     "metadata": {},
     "output_type": "execute_result"
    }
   ],
   "source": [
    "df = pd.read_sql('SELECT * from PLOS_ALL LIMIT 10', conn)\n",
    "df.head()"
   ]
  },
  {
   "cell_type": "code",
   "execution_count": 7,
   "metadata": {},
   "outputs": [],
   "source": [
    "docs = [doc for doc in TaggedLineDocument('volume2/processed_body_docs.txt')]"
   ]
  },
  {
   "cell_type": "code",
   "execution_count": null,
   "metadata": {},
   "outputs": [],
   "source": [
    "docs[200000]"
   ]
  },
  {
   "cell_type": "code",
   "execution_count": null,
   "metadata": {},
   "outputs": [],
   "source": []
  },
  {
   "cell_type": "code",
   "execution_count": null,
   "metadata": {},
   "outputs": [],
   "source": []
  },
  {
   "cell_type": "code",
   "execution_count": null,
   "metadata": {},
   "outputs": [],
   "source": []
  },
  {
   "cell_type": "code",
   "execution_count": null,
   "metadata": {},
   "outputs": [],
   "source": []
  },
  {
   "cell_type": "code",
   "execution_count": 4,
   "metadata": {},
   "outputs": [],
   "source": [
    "df = pd.read_pickle('volume/bodtokens_0.pkl')"
   ]
  },
  {
   "cell_type": "code",
   "execution_count": 5,
   "metadata": {},
   "outputs": [
    {
     "data": {
      "text/html": [
       "<div>\n",
       "<style scoped>\n",
       "    .dataframe tbody tr th:only-of-type {\n",
       "        vertical-align: middle;\n",
       "    }\n",
       "\n",
       "    .dataframe tbody tr th {\n",
       "        vertical-align: top;\n",
       "    }\n",
       "\n",
       "    .dataframe thead th {\n",
       "        text-align: right;\n",
       "    }\n",
       "</style>\n",
       "<table border=\"1\" class=\"dataframe\">\n",
       "  <thead>\n",
       "    <tr style=\"text-align: right;\">\n",
       "      <th></th>\n",
       "      <th>doi</th>\n",
       "      <th>bod_toks</th>\n",
       "    </tr>\n",
       "  </thead>\n",
       "  <tbody>\n",
       "    <tr>\n",
       "      <th>0</th>\n",
       "      <td>10.1371/journal.pone.0143437</td>\n",
       "      <td>[pulmonari, prostat, cancer, common, malign, t...</td>\n",
       "    </tr>\n",
       "    <tr>\n",
       "      <th>1</th>\n",
       "      <td>10.1371/journal.pone.0096769</td>\n",
       "      <td>[voic, disord, dysphonia, can, caus, neurolog,...</td>\n",
       "    </tr>\n",
       "    <tr>\n",
       "      <th>2</th>\n",
       "      <td>10.1371/journal.pone.0177044</td>\n",
       "      <td>[dementia, typic, defin, clinic, syndrom, cogn...</td>\n",
       "    </tr>\n",
       "    <tr>\n",
       "      <th>3</th>\n",
       "      <td>10.1371/journal.pone.0033200</td>\n",
       "      <td>[non, small, cell, lung, cancer, nsclc, accoun...</td>\n",
       "    </tr>\n",
       "    <tr>\n",
       "      <th>4</th>\n",
       "      <td>10.1371/journal.pone.0001814</td>\n",
       "      <td>[endosom, rout, consid, default, pathway, load...</td>\n",
       "    </tr>\n",
       "  </tbody>\n",
       "</table>\n",
       "</div>"
      ],
      "text/plain": [
       "                            doi  \\\n",
       "0  10.1371/journal.pone.0143437   \n",
       "1  10.1371/journal.pone.0096769   \n",
       "2  10.1371/journal.pone.0177044   \n",
       "3  10.1371/journal.pone.0033200   \n",
       "4  10.1371/journal.pone.0001814   \n",
       "\n",
       "                                            bod_toks  \n",
       "0  [pulmonari, prostat, cancer, common, malign, t...  \n",
       "1  [voic, disord, dysphonia, can, caus, neurolog,...  \n",
       "2  [dementia, typic, defin, clinic, syndrom, cogn...  \n",
       "3  [non, small, cell, lung, cancer, nsclc, accoun...  \n",
       "4  [endosom, rout, consid, default, pathway, load...  "
      ]
     },
     "execution_count": 5,
     "metadata": {},
     "output_type": "execute_result"
    }
   ],
   "source": [
    "df.head()"
   ]
  },
  {
   "cell_type": "code",
   "execution_count": null,
   "metadata": {},
   "outputs": [],
   "source": []
  },
  {
   "cell_type": "code",
   "execution_count": 16,
   "metadata": {},
   "outputs": [
    {
     "data": {
      "text/html": [
       "<div>\n",
       "<style scoped>\n",
       "    .dataframe tbody tr th:only-of-type {\n",
       "        vertical-align: middle;\n",
       "    }\n",
       "\n",
       "    .dataframe tbody tr th {\n",
       "        vertical-align: top;\n",
       "    }\n",
       "\n",
       "    .dataframe thead th {\n",
       "        text-align: right;\n",
       "    }\n",
       "</style>\n",
       "<table border=\"1\" class=\"dataframe\">\n",
       "  <thead>\n",
       "    <tr style=\"text-align: right;\">\n",
       "      <th></th>\n",
       "      <th>level_0</th>\n",
       "      <th>index</th>\n",
       "      <th>doi</th>\n",
       "      <th>bod_toks</th>\n",
       "    </tr>\n",
       "  </thead>\n",
       "  <tbody>\n",
       "    <tr>\n",
       "      <th>0</th>\n",
       "      <td>0</td>\n",
       "      <td>0</td>\n",
       "      <td>10.1371/journal.pone.0143437</td>\n",
       "      <td>['pulmonari', 'prostat', 'cancer', 'common', '...</td>\n",
       "    </tr>\n",
       "    <tr>\n",
       "      <th>1</th>\n",
       "      <td>1</td>\n",
       "      <td>1</td>\n",
       "      <td>10.1371/journal.pone.0096769</td>\n",
       "      <td>['voic', 'disord', 'dysphonia', 'can', 'caus',...</td>\n",
       "    </tr>\n",
       "    <tr>\n",
       "      <th>2</th>\n",
       "      <td>2</td>\n",
       "      <td>2</td>\n",
       "      <td>10.1371/journal.pone.0177044</td>\n",
       "      <td>['dementia', 'typic', 'defin', 'clinic', 'synd...</td>\n",
       "    </tr>\n",
       "    <tr>\n",
       "      <th>3</th>\n",
       "      <td>3</td>\n",
       "      <td>3</td>\n",
       "      <td>10.1371/journal.pone.0033200</td>\n",
       "      <td>['non', 'small', 'cell', 'lung', 'cancer', 'ns...</td>\n",
       "    </tr>\n",
       "    <tr>\n",
       "      <th>4</th>\n",
       "      <td>4</td>\n",
       "      <td>4</td>\n",
       "      <td>10.1371/journal.pone.0001814</td>\n",
       "      <td>['endosom', 'rout', 'consid', 'default', 'path...</td>\n",
       "    </tr>\n",
       "  </tbody>\n",
       "</table>\n",
       "</div>"
      ],
      "text/plain": [
       "   level_0  index                           doi  \\\n",
       "0        0      0  10.1371/journal.pone.0143437   \n",
       "1        1      1  10.1371/journal.pone.0096769   \n",
       "2        2      2  10.1371/journal.pone.0177044   \n",
       "3        3      3  10.1371/journal.pone.0033200   \n",
       "4        4      4  10.1371/journal.pone.0001814   \n",
       "\n",
       "                                            bod_toks  \n",
       "0  ['pulmonari', 'prostat', 'cancer', 'common', '...  \n",
       "1  ['voic', 'disord', 'dysphonia', 'can', 'caus',...  \n",
       "2  ['dementia', 'typic', 'defin', 'clinic', 'synd...  \n",
       "3  ['non', 'small', 'cell', 'lung', 'cancer', 'ns...  \n",
       "4  ['endosom', 'rout', 'consid', 'default', 'path...  "
      ]
     },
     "execution_count": 16,
     "metadata": {},
     "output_type": "execute_result"
    }
   ],
   "source": [
    "df0 = pd.read_sql('SELECT * from PLOS_ALL_tok', conn)\n",
    "df0.head()"
   ]
  },
  {
   "cell_type": "code",
   "execution_count": null,
   "metadata": {},
   "outputs": [],
   "source": []
  },
  {
   "cell_type": "code",
   "execution_count": null,
   "metadata": {},
   "outputs": [],
   "source": []
  },
  {
   "cell_type": "code",
   "execution_count": null,
   "metadata": {},
   "outputs": [],
   "source": [
    "### TRAINING -- ONCE YOU READ IN FROM DB (STR)"
   ]
  },
  {
   "cell_type": "code",
   "execution_count": 16,
   "metadata": {},
   "outputs": [
    {
     "data": {
      "text/html": [
       "<div>\n",
       "<table border=\"1\" class=\"dataframe\">\n",
       "  <thead>\n",
       "    <tr style=\"text-align: right;\">\n",
       "      <th></th>\n",
       "      <th>level_0</th>\n",
       "      <th>index</th>\n",
       "      <th>doi</th>\n",
       "      <th>bod_toks</th>\n",
       "    </tr>\n",
       "  </thead>\n",
       "  <tbody>\n",
       "    <tr>\n",
       "      <th>0</th>\n",
       "      <td>0</td>\n",
       "      <td>0</td>\n",
       "      <td>10.1371/journal.pone.0143437</td>\n",
       "      <td>['pulmonari', 'prostat', 'cancer', 'common', '...</td>\n",
       "    </tr>\n",
       "    <tr>\n",
       "      <th>1</th>\n",
       "      <td>1</td>\n",
       "      <td>1</td>\n",
       "      <td>10.1371/journal.pone.0096769</td>\n",
       "      <td>['voic', 'disord', 'dysphonia', 'can', 'caus',...</td>\n",
       "    </tr>\n",
       "    <tr>\n",
       "      <th>2</th>\n",
       "      <td>2</td>\n",
       "      <td>2</td>\n",
       "      <td>10.1371/journal.pone.0177044</td>\n",
       "      <td>['dementia', 'typic', 'defin', 'clinic', 'synd...</td>\n",
       "    </tr>\n",
       "    <tr>\n",
       "      <th>3</th>\n",
       "      <td>3</td>\n",
       "      <td>3</td>\n",
       "      <td>10.1371/journal.pone.0033200</td>\n",
       "      <td>['non', 'small', 'cell', 'lung', 'cancer', 'ns...</td>\n",
       "    </tr>\n",
       "    <tr>\n",
       "      <th>4</th>\n",
       "      <td>4</td>\n",
       "      <td>4</td>\n",
       "      <td>10.1371/journal.pone.0001814</td>\n",
       "      <td>['endosom', 'rout', 'consid', 'default', 'path...</td>\n",
       "    </tr>\n",
       "  </tbody>\n",
       "</table>\n",
       "</div>"
      ],
      "text/plain": [
       "   level_0  index                           doi  \\\n",
       "0        0      0  10.1371/journal.pone.0143437   \n",
       "1        1      1  10.1371/journal.pone.0096769   \n",
       "2        2      2  10.1371/journal.pone.0177044   \n",
       "3        3      3  10.1371/journal.pone.0033200   \n",
       "4        4      4  10.1371/journal.pone.0001814   \n",
       "\n",
       "                                            bod_toks  \n",
       "0  ['pulmonari', 'prostat', 'cancer', 'common', '...  \n",
       "1  ['voic', 'disord', 'dysphonia', 'can', 'caus',...  \n",
       "2  ['dementia', 'typic', 'defin', 'clinic', 'synd...  \n",
       "3  ['non', 'small', 'cell', 'lung', 'cancer', 'ns...  \n",
       "4  ['endosom', 'rout', 'consid', 'default', 'path...  "
      ]
     },
     "execution_count": 16,
     "metadata": {},
     "output_type": "execute_result"
    }
   ],
   "source": [
    "tdf.head()"
   ]
  },
  {
   "cell_type": "code",
   "execution_count": 17,
   "metadata": {},
   "outputs": [],
   "source": [
    "bodtexts = tdf['bod_toks'].tolist()"
   ]
  },
  {
   "cell_type": "code",
   "execution_count": 32,
   "metadata": {},
   "outputs": [],
   "source": [
    "tok = bodtexts[1].split(', ')"
   ]
  },
  {
   "cell_type": "code",
   "execution_count": 40,
   "metadata": {},
   "outputs": [],
   "source": [
    "tnew = []\n",
    "for line in tok:\n",
    "    l = line.replace(\"'\",\"\")\n",
    "    l = l.strip('[]')\n",
    "    tnew.append(l)"
   ]
  },
  {
   "cell_type": "code",
   "execution_count": 18,
   "metadata": {},
   "outputs": [
    {
     "name": "stdout",
     "output_type": "stream",
     "text": [
      "0\n",
      "20000\n",
      "40000\n",
      "60000\n",
      "80000\n",
      "100000\n",
      "120000\n",
      "140000\n",
      "160000\n",
      "180000\n",
      "200000\n"
     ]
    }
   ],
   "source": [
    "bods = []\n",
    "\n",
    "for i in range(0,len(bodtexts)):\n",
    "    det = bodtexts[i].replace(',','')\n",
    "    det = det.replace(\"'\",\"\")\n",
    "    det = det.strip('[]')\n",
    "    bods.append(det)\n",
    "    if i % 20000 == 0:\n",
    "        print(i)"
   ]
  },
  {
   "cell_type": "code",
   "execution_count": null,
   "metadata": {},
   "outputs": [],
   "source": []
  },
  {
   "cell_type": "code",
   "execution_count": null,
   "metadata": {},
   "outputs": [],
   "source": [
    "bods[1]"
   ]
  },
  {
   "cell_type": "markdown",
   "metadata": {},
   "source": [
    "#### toklen"
   ]
  },
  {
   "cell_type": "code",
   "execution_count": null,
   "metadata": {},
   "outputs": [],
   "source": [
    "tok_len = []\n",
    "\n",
    "for i in range(0,len(bods)):\n",
    "    tok_len.append(len(bods[i].split()))\n",
    "    if i % 10000 == 0:\n",
    "        print(i)\n",
    "df = pd.DataFrame(tok_len)\n",
    "df.describe()"
   ]
  },
  {
   "cell_type": "code",
   "execution_count": 32,
   "metadata": {},
   "outputs": [],
   "source": [
    "df.columns = ['toklen']"
   ]
  },
  {
   "cell_type": "code",
   "execution_count": 34,
   "metadata": {},
   "outputs": [
    {
     "data": {
      "text/plain": [
       "toklen    449\n",
       "dtype: int64"
      ]
     },
     "execution_count": 34,
     "metadata": {},
     "output_type": "execute_result"
    }
   ],
   "source": [
    "df[df['toklen'] > 10000].count() "
   ]
  },
  {
   "cell_type": "code",
   "execution_count": 35,
   "metadata": {},
   "outputs": [
    {
     "data": {
      "text/html": [
       "<div>\n",
       "<table border=\"1\" class=\"dataframe\">\n",
       "  <thead>\n",
       "    <tr style=\"text-align: right;\">\n",
       "      <th></th>\n",
       "      <th>toklen</th>\n",
       "    </tr>\n",
       "  </thead>\n",
       "  <tbody>\n",
       "    <tr>\n",
       "      <th>count</th>\n",
       "      <td>449.000000</td>\n",
       "    </tr>\n",
       "    <tr>\n",
       "      <th>mean</th>\n",
       "      <td>11786.195991</td>\n",
       "    </tr>\n",
       "    <tr>\n",
       "      <th>std</th>\n",
       "      <td>2063.130425</td>\n",
       "    </tr>\n",
       "    <tr>\n",
       "      <th>min</th>\n",
       "      <td>10001.000000</td>\n",
       "    </tr>\n",
       "    <tr>\n",
       "      <th>25%</th>\n",
       "      <td>10523.000000</td>\n",
       "    </tr>\n",
       "    <tr>\n",
       "      <th>50%</th>\n",
       "      <td>11114.000000</td>\n",
       "    </tr>\n",
       "    <tr>\n",
       "      <th>75%</th>\n",
       "      <td>12338.000000</td>\n",
       "    </tr>\n",
       "    <tr>\n",
       "      <th>max</th>\n",
       "      <td>27798.000000</td>\n",
       "    </tr>\n",
       "  </tbody>\n",
       "</table>\n",
       "</div>"
      ],
      "text/plain": [
       "             toklen\n",
       "count    449.000000\n",
       "mean   11786.195991\n",
       "std     2063.130425\n",
       "min    10001.000000\n",
       "25%    10523.000000\n",
       "50%    11114.000000\n",
       "75%    12338.000000\n",
       "max    27798.000000"
      ]
     },
     "execution_count": 35,
     "metadata": {},
     "output_type": "execute_result"
    }
   ],
   "source": [
    "df[df['toklen'] > 10000].describe()"
   ]
  },
  {
   "cell_type": "code",
   "execution_count": 26,
   "metadata": {},
   "outputs": [],
   "source": [
    "frequency = defaultdict(int)\n",
    "for text in texts:\n",
    "    for token in text:\n",
    "        frequency[token] += 1\n",
    "texts = [[token for token in text if frequency[token] > 1]\n",
    "         for text in texts]\n",
    "dictionary = corpora.Dictionary(texts)\n",
    "corpus = [dictionary.doc2bow(text) for text in texts]"
   ]
  },
  {
   "cell_type": "code",
   "execution_count": 29,
   "metadata": {},
   "outputs": [],
   "source": [
    "corpora.MmCorpus.serialize('/volume/models/corpus.mm', corpus)\n",
    "dictionary.save('/volume/models/dictionary.dict')"
   ]
  },
  {
   "cell_type": "code",
   "execution_count": 30,
   "metadata": {},
   "outputs": [],
   "source": [
    "tfidf = models.TfidfModel(corpus, normalize=True)\n",
    "tfidf.save('/volume/model.tfidf')"
   ]
  },
  {
   "cell_type": "code",
   "execution_count": 31,
   "metadata": {},
   "outputs": [],
   "source": [
    "start_time = time.time()\n",
    "lsi = models.LsiModel(corpus, id2word=dictionary, num_topics=200)\n",
    "lsi.save('/volume/models/model.lsi')\n",
    "print(\"--- %s seconds ---\" % (time.time() - start_time))\n",
    "#corpus_lsi = lsi[corpus_tfidf]"
   ]
  },
  {
   "cell_type": "code",
   "execution_count": 32,
   "metadata": {},
   "outputs": [],
   "source": [
    "start_time = time.time()\n",
    "lda = models.LdaModel(corpus, id2word=dictionary, num_topics=200)\n",
    "lda.save('/volume/models/model.lda')\n",
    "print(\"--- %s seconds ---\" % (time.time() - start_time))\n",
    "#corpus_lda = lda[corpus_tfidf]"
   ]
  },
  {
   "cell_type": "code",
   "execution_count": null,
   "metadata": {},
   "outputs": [],
   "source": [
    "corpus_tfidf = tfidf[corpus]\n",
    "corpus_lsi = lsi[corpus_tfidf]\n",
    "corpus_lda = lda[corpus_tfidf]"
   ]
  },
  {
   "cell_type": "code",
   "execution_count": 10,
   "metadata": {},
   "outputs": [],
   "source": [
    "index = similarities.MatrixSimilarity(lsi[corpus])\n",
    "index.save('/volume/models/similarity.index')"
   ]
  },
  {
   "cell_type": "code",
   "execution_count": 9,
   "metadata": {},
   "outputs": [],
   "source": [
    "file = open('/volume/processed_body_docs.txt', 'w')\n",
    "\n",
    "for i in range(0,len(bods)):\n",
    "    detok_str = bods[i]\n",
    "    file.write(\"%s\\n\" % detok_str)"
   ]
  },
  {
   "cell_type": "code",
   "execution_count": 3,
   "metadata": {},
   "outputs": [],
   "source": [
    "documents = []\n",
    "with open('/volume/processed_body_docs.txt') as f:\n",
    "    for line in f:\n",
    "        documents.append(TaggedLineDocument(line))"
   ]
  },
  {
   "cell_type": "code",
   "execution_count": 9,
   "metadata": {},
   "outputs": [
    {
     "data": {
      "text/plain": [
       "gensim.models.doc2vec.TaggedLineDocument"
      ]
     },
     "execution_count": 9,
     "metadata": {},
     "output_type": "execute_result"
    }
   ],
   "source": [
    "type(documents[1])"
   ]
  },
  {
   "cell_type": "code",
   "execution_count": 5,
   "metadata": {},
   "outputs": [],
   "source": [
    "# detok for abstracts \n",
    "\n",
    "detokenizer = MosesDetokenizer()\n",
    "file = open('/volume/processed_docs.txt', 'w')\n",
    "\n",
    "for i in range(0,len(texts)):\n",
    "    detok_str = detokenizer.detokenize(texts[i], return_str=True)\n",
    "    file.write(\"%s\\n\" % detok_str)"
   ]
  },
  {
   "cell_type": "code",
   "execution_count": 26,
   "metadata": {},
   "outputs": [],
   "source": [
    "bods_sm = bods[0:10]"
   ]
  },
  {
   "cell_type": "code",
   "execution_count": 27,
   "metadata": {},
   "outputs": [
    {
     "data": {
      "text/plain": [
       "10"
      ]
     },
     "execution_count": 27,
     "metadata": {},
     "output_type": "execute_result"
    }
   ],
   "source": [
    "len(bods_sm)"
   ]
  },
  {
   "cell_type": "code",
   "execution_count": null,
   "metadata": {},
   "outputs": [],
   "source": [
    "#documents = [doc for doc in TaggedLineDocument('/volume/processed_docs.txt')]\n",
    "documents = [doc for doc in TaggedLineDocument(bods_sm)]\n"
   ]
  },
  {
   "cell_type": "code",
   "execution_count": null,
   "metadata": {},
   "outputs": [],
   "source": [
    "model = Doc2Vec(documents, size=200, window=5, min_count=5,workers=15, iter=10)\n",
    "\n",
    "np.save('models/body_features-w2v-200.npy',model.docvecs.doctag_syn0)\n",
    "model.save('models/body_features-w2v-200.doc2vec')"
   ]
  }
 ],
 "metadata": {
  "anaconda-cloud": {},
  "kernel_info": {
   "name": "python3"
  },
  "kernelspec": {
   "display_name": "Python 3",
   "language": "python",
   "name": "python3"
  },
  "language_info": {
   "codemirror_mode": {
    "name": "ipython",
    "version": 3
   },
   "file_extension": ".py",
   "mimetype": "text/x-python",
   "name": "python",
   "nbconvert_exporter": "python",
   "pygments_lexer": "ipython3",
   "version": "3.5.2"
  },
  "notify_time": "30",
  "nteract": {
   "version": "0.6.2"
  },
  "varInspector": {
   "cols": {
    "lenName": 16,
    "lenType": 16,
    "lenVar": 40
   },
   "kernels_config": {
    "python": {
     "delete_cmd_postfix": "",
     "delete_cmd_prefix": "del ",
     "library": "var_list.py",
     "varRefreshCmd": "print(var_dic_list())"
    },
    "r": {
     "delete_cmd_postfix": ") ",
     "delete_cmd_prefix": "rm(",
     "library": "var_list.r",
     "varRefreshCmd": "cat(var_dic_list()) "
    }
   },
   "position": {
    "height": "518px",
    "left": "775px",
    "right": "31px",
    "top": "120px",
    "width": "339px"
   },
   "types_to_exclude": [
    "module",
    "function",
    "builtin_function_or_method",
    "instance",
    "_Feature"
   ],
   "window_display": false
  }
 },
 "nbformat": 4,
 "nbformat_minor": 4
}
