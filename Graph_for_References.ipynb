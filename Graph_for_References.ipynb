{
 "cells": [
  {
   "cell_type": "code",
   "execution_count": 37,
   "metadata": {
    "collapsed": true
   },
   "outputs": [],
   "source": [
    "import os\n",
    "import itertools\n",
    "import numpy as np\n",
    "import pandas as pd\n",
    "import xml.etree.ElementTree as ET\n",
    "path = 'C:/Users/Pragati Shah/subset/'\n",
    "path1='C:/Users/Pragati Shah/Downloads/sample_10000/sample_10000/'"
   ]
  },
  {
   "cell_type": "code",
   "execution_count": 58,
   "metadata": {},
   "outputs": [],
   "source": [
    "ref_all=[]\n",
    "source_all=[]\n",
    "pmid_all=[]\n",
    "doi_all=[]\n",
    "for fn in os.listdir(path1):\n",
    "    tree = ET.parse(path1+fn)  \n",
    "    root = tree.getroot()    \n",
    "    ref_list=[]\n",
    "    source_list=[]\n",
    "    pmid=0\n",
    "    doi=0\n",
    "    for elem in tree.iter(tag='article-id'):\n",
    "        a=str(elem.attrib)\n",
    "        if (a.find('pmid')>-1):        \n",
    "            pmid=elem.text\n",
    "        if (a.find('doi')>-1):        \n",
    "            doi=elem.text\n",
    "    for a in root.iter('ref'):\n",
    "        for elem in a.iter('source'):\n",
    "            source_list.append(elem.text)\n",
    "        for elem in a.iter('pub-id'):\n",
    "            ref_list.append(elem.text)\n",
    "    \n",
    "    doi_list=np.repeat(doi,len(source_list))\n",
    "    pmid_list=np.repeat(pmid,len(source_list))\n",
    "    \n",
    "    pmid_all.extend(pmid_list)\n",
    "    doi_all.extend(doi_list)\n",
    "    ref_all.extend(ref_list)\n",
    "    source_all.extend(source_list)\n",
    "    \n",
    "    \n",
    "ref_source = pd.DataFrame(list(zip(doi_all,pmid_all,ref_all,source_all)),\n",
    "              columns=['Doi','Pmid','Ref_Pmid','Journal']) \n",
    "    "
   ]
  },
  {
   "cell_type": "code",
   "execution_count": 60,
   "metadata": {},
   "outputs": [
    {
     "data": {
      "text/html": [
       "<div>\n",
       "<style>\n",
       "    .dataframe thead tr:only-child th {\n",
       "        text-align: right;\n",
       "    }\n",
       "\n",
       "    .dataframe thead th {\n",
       "        text-align: left;\n",
       "    }\n",
       "\n",
       "    .dataframe tbody tr th {\n",
       "        vertical-align: top;\n",
       "    }\n",
       "</style>\n",
       "<table border=\"1\" class=\"dataframe\">\n",
       "  <thead>\n",
       "    <tr style=\"text-align: right;\">\n",
       "      <th></th>\n",
       "      <th>Doi</th>\n",
       "      <th>Pmid</th>\n",
       "      <th>Ref_Pmid</th>\n",
       "      <th>Journal</th>\n",
       "    </tr>\n",
       "  </thead>\n",
       "  <tbody>\n",
       "    <tr>\n",
       "      <th>0</th>\n",
       "      <td>10.1371/journal.pone.0000100</td>\n",
       "      <td>17183633</td>\n",
       "      <td>2118947</td>\n",
       "      <td>Journal of Neuroscience</td>\n",
       "    </tr>\n",
       "    <tr>\n",
       "      <th>1</th>\n",
       "      <td>10.1371/journal.pone.0000100</td>\n",
       "      <td>17183633</td>\n",
       "      <td>4959494</td>\n",
       "      <td>Science</td>\n",
       "    </tr>\n",
       "    <tr>\n",
       "      <th>2</th>\n",
       "      <td>10.1371/journal.pone.0000100</td>\n",
       "      <td>17183633</td>\n",
       "      <td>4977839</td>\n",
       "      <td>Journal of Neurophysiology</td>\n",
       "    </tr>\n",
       "    <tr>\n",
       "      <th>3</th>\n",
       "      <td>10.1371/journal.pone.0000100</td>\n",
       "      <td>17183633</td>\n",
       "      <td>10884334</td>\n",
       "      <td>Nature Neuroscience</td>\n",
       "    </tr>\n",
       "    <tr>\n",
       "      <th>4</th>\n",
       "      <td>10.1371/journal.pone.0000100</td>\n",
       "      <td>17183633</td>\n",
       "      <td>11588197</td>\n",
       "      <td>Journal of Neuroscience</td>\n",
       "    </tr>\n",
       "  </tbody>\n",
       "</table>\n",
       "</div>"
      ],
      "text/plain": [
       "                            Doi      Pmid  Ref_Pmid  \\\n",
       "0  10.1371/journal.pone.0000100  17183633   2118947   \n",
       "1  10.1371/journal.pone.0000100  17183633   4959494   \n",
       "2  10.1371/journal.pone.0000100  17183633   4977839   \n",
       "3  10.1371/journal.pone.0000100  17183633  10884334   \n",
       "4  10.1371/journal.pone.0000100  17183633  11588197   \n",
       "\n",
       "                      Journal  \n",
       "0     Journal of Neuroscience  \n",
       "1                     Science  \n",
       "2  Journal of Neurophysiology  \n",
       "3         Nature Neuroscience  \n",
       "4     Journal of Neuroscience  "
      ]
     },
     "execution_count": 60,
     "metadata": {},
     "output_type": "execute_result"
    }
   ],
   "source": [
    "ref_source.head()"
   ]
  },
  {
   "cell_type": "code",
   "execution_count": 64,
   "metadata": {},
   "outputs": [],
   "source": [
    "nodes=list(set(pmid_all+ref_all))"
   ]
  },
  {
   "cell_type": "code",
   "execution_count": 65,
   "metadata": {
    "collapsed": true
   },
   "outputs": [],
   "source": [
    "subset = ref_source[['Pmid', 'Ref_Pmid']]\n",
    "tuples = [tuple(x) for x in subset.values]"
   ]
  },
  {
   "cell_type": "code",
   "execution_count": 70,
   "metadata": {},
   "outputs": [
    {
     "data": {
      "text/plain": [
       "('17183633', '4977839')"
      ]
     },
     "execution_count": 70,
     "metadata": {},
     "output_type": "execute_result"
    }
   ],
   "source": [
    "tuples[2]"
   ]
  },
  {
   "cell_type": "code",
   "execution_count": 71,
   "metadata": {
    "collapsed": true
   },
   "outputs": [],
   "source": [
    "import networkx as nx\n",
    "G = nx.Graph()\n",
    "G=nx.Graph()\n",
    "G.add_nodes_from(nodes)\n",
    "G.add_edges_from(tuples)"
   ]
  },
  {
   "cell_type": "code",
   "execution_count": 80,
   "metadata": {},
   "outputs": [],
   "source": [
    "deg_sep=nx.shortest_path_length(G, '17183633','11588197')"
   ]
  },
  {
   "cell_type": "code",
   "execution_count": null,
   "metadata": {
    "collapsed": true
   },
   "outputs": [],
   "source": []
  }
 ],
 "metadata": {
  "kernelspec": {
   "display_name": "Python 3",
   "language": "python",
   "name": "python3"
  },
  "language_info": {
   "codemirror_mode": {
    "name": "ipython",
    "version": 3
   },
   "file_extension": ".py",
   "mimetype": "text/x-python",
   "name": "python",
   "nbconvert_exporter": "python",
   "pygments_lexer": "ipython3",
   "version": "3.6.3"
  }
 },
 "nbformat": 4,
 "nbformat_minor": 2
}
