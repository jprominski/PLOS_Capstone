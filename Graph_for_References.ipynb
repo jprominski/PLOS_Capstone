{
 "cells": [
  {
   "cell_type": "markdown",
   "metadata": {},
   "source": [
    "# Exploratory Citation Network Analysis using NetworkX"
   ]
  },
  {
   "cell_type": "markdown",
   "metadata": {},
   "source": [
    "### Importing all libraries and setting directory of XML files"
   ]
  },
  {
   "cell_type": "code",
   "execution_count": 209,
   "metadata": {
    "collapsed": true
   },
   "outputs": [],
   "source": [
    "import os\n",
    "import itertools\n",
    "import numpy as np\n",
    "import pandas as pd\n",
    "import xml.etree.ElementTree as ET\n",
    "path = 'C:/Users/Pragati Shah/subset/'\n",
    "path1='C:/Users/Pragati Shah/Downloads/sample_10000/sample_10000/'"
   ]
  },
  {
   "cell_type": "markdown",
   "metadata": {},
   "source": [
    "## Creating a DataFrame which has 3 attributes:\n",
    "1. Plos Article DOI \n",
    "2. Plos Article PMID\n",
    "3. Reference PMID\n",
    "\n",
    "This dataframe will be used later to find the pairwise edges in tuple form."
   ]
  },
  {
   "cell_type": "code",
   "execution_count": 214,
   "metadata": {},
   "outputs": [],
   "source": [
    "ref_all=[]\n",
    "pmid_all=[]\n",
    "doi_all=[]\n",
    "for fn in os.listdir(path1):\n",
    "    tree = ET.parse(path1+fn)  \n",
    "    root = tree.getroot()    \n",
    "    \n",
    "    ref_list=[]\n",
    "    pmid=0\n",
    "    doi=0\n",
    "    \n",
    "    for elem in tree.iter(tag='article-id'):\n",
    "        a=str(elem.attrib)\n",
    "        if (a.find('pmid')>-1):        \n",
    "            pmid=elem.text\n",
    "        if (a.find('doi')>-1):        \n",
    "            doi=elem.text\n",
    "    for a in root.iter('ref'):\n",
    "        for elem in a.iter('pub-id'):\n",
    "            ref_list.append(elem.text)\n",
    "            \n",
    "    doi_list=np.repeat(doi,len(ref_list))\n",
    "    pmid_list=np.repeat(pmid,len(ref_list))\n",
    "    \n",
    "    pmid_all.extend(pmid_list)\n",
    "    doi_all.extend(doi_list)\n",
    "    ref_all.extend(ref_list)\n",
    "    \n",
    "    \n",
    "ref_source = pd.DataFrame(list(zip(doi_all,pmid_all,ref_all)),\n",
    "              columns=['Doi','Pmid','Ref_Pmid']) \n",
    "    "
   ]
  },
  {
   "cell_type": "code",
   "execution_count": 215,
   "metadata": {},
   "outputs": [
    {
     "data": {
      "text/html": [
       "<div>\n",
       "<style>\n",
       "    .dataframe thead tr:only-child th {\n",
       "        text-align: right;\n",
       "    }\n",
       "\n",
       "    .dataframe thead th {\n",
       "        text-align: left;\n",
       "    }\n",
       "\n",
       "    .dataframe tbody tr th {\n",
       "        vertical-align: top;\n",
       "    }\n",
       "</style>\n",
       "<table border=\"1\" class=\"dataframe\">\n",
       "  <thead>\n",
       "    <tr style=\"text-align: right;\">\n",
       "      <th></th>\n",
       "      <th>Doi</th>\n",
       "      <th>Pmid</th>\n",
       "      <th>Ref_Pmid</th>\n",
       "    </tr>\n",
       "  </thead>\n",
       "  <tbody>\n",
       "    <tr>\n",
       "      <th>0</th>\n",
       "      <td>10.1371/journal.pone.0000100</td>\n",
       "      <td>17183633</td>\n",
       "      <td>2118947</td>\n",
       "    </tr>\n",
       "    <tr>\n",
       "      <th>1</th>\n",
       "      <td>10.1371/journal.pone.0000100</td>\n",
       "      <td>17183633</td>\n",
       "      <td>4959494</td>\n",
       "    </tr>\n",
       "    <tr>\n",
       "      <th>2</th>\n",
       "      <td>10.1371/journal.pone.0000100</td>\n",
       "      <td>17183633</td>\n",
       "      <td>4977839</td>\n",
       "    </tr>\n",
       "    <tr>\n",
       "      <th>3</th>\n",
       "      <td>10.1371/journal.pone.0000100</td>\n",
       "      <td>17183633</td>\n",
       "      <td>10884334</td>\n",
       "    </tr>\n",
       "    <tr>\n",
       "      <th>4</th>\n",
       "      <td>10.1371/journal.pone.0000100</td>\n",
       "      <td>17183633</td>\n",
       "      <td>11588197</td>\n",
       "    </tr>\n",
       "  </tbody>\n",
       "</table>\n",
       "</div>"
      ],
      "text/plain": [
       "                            Doi      Pmid  Ref_Pmid\n",
       "0  10.1371/journal.pone.0000100  17183633   2118947\n",
       "1  10.1371/journal.pone.0000100  17183633   4959494\n",
       "2  10.1371/journal.pone.0000100  17183633   4977839\n",
       "3  10.1371/journal.pone.0000100  17183633  10884334\n",
       "4  10.1371/journal.pone.0000100  17183633  11588197"
      ]
     },
     "execution_count": 215,
     "metadata": {},
     "output_type": "execute_result"
    }
   ],
   "source": [
    "ref_source.head()"
   ]
  },
  {
   "cell_type": "markdown",
   "metadata": {},
   "source": [
    "## Creating a reference dataframe of both PLoS articles and citations containing:\n",
    "1. PMID\n",
    "2. Journal Name\n",
    "3. Article Name \n",
    "\n",
    "This can be used for enrichment purposes in the future through a simple join."
   ]
  },
  {
   "cell_type": "code",
   "execution_count": 223,
   "metadata": {},
   "outputs": [],
   "source": [
    "node_pmid=[]\n",
    "node_journal=[]\n",
    "node_title=[]\n",
    "\n",
    "\n",
    "for fn in os.listdir(path1):\n",
    "    tree = ET.parse(path1+fn)  \n",
    "    root = tree.getroot()  \n",
    "    \n",
    "    for elem in tree.iter(tag='article-id'):\n",
    "        a=str(elem.attrib)\n",
    "        if (a.find('pmid')>-1):        \n",
    "            node_pmid.append(elem.text)\n",
    "\n",
    "    \n",
    "    for a in root.iter('article-meta'):\n",
    "        for elem in a.iter('article-title'):\n",
    "            node_title.append(elem.text)\n",
    "\n",
    "    for elem in tree.iter(tag='journal-title'):\n",
    "        node_journal.append(elem.text)\n",
    "    \n",
    "    for a in root.iter('ref'):\n",
    "        for elem in a.iter('source'):\n",
    "            node_journal.append(elem.text)\n",
    "        for elem in a.iter('pub-id'):\n",
    "            node_pmid.append(elem.text)\n",
    "        for elem in a.iter('article-title'):\n",
    "            node_title.append(elem.text)\n",
    "    \n",
    "    \n",
    "nodeDF = pd.DataFrame(list(zip(node_pmid,node_journal, node_title)),\n",
    "              columns=['PMID','Journal','Title']) \n",
    "        "
   ]
  },
  {
   "cell_type": "code",
   "execution_count": 224,
   "metadata": {},
   "outputs": [
    {
     "data": {
      "text/html": [
       "<div>\n",
       "<style>\n",
       "    .dataframe thead tr:only-child th {\n",
       "        text-align: right;\n",
       "    }\n",
       "\n",
       "    .dataframe thead th {\n",
       "        text-align: left;\n",
       "    }\n",
       "\n",
       "    .dataframe tbody tr th {\n",
       "        vertical-align: top;\n",
       "    }\n",
       "</style>\n",
       "<table border=\"1\" class=\"dataframe\">\n",
       "  <thead>\n",
       "    <tr style=\"text-align: right;\">\n",
       "      <th></th>\n",
       "      <th>PMID</th>\n",
       "      <th>Journal</th>\n",
       "      <th>Title</th>\n",
       "    </tr>\n",
       "  </thead>\n",
       "  <tbody>\n",
       "    <tr>\n",
       "      <th>0</th>\n",
       "      <td>17183633</td>\n",
       "      <td>PLoS ONE</td>\n",
       "      <td>Factors Affecting Frequency Discrimination of ...</td>\n",
       "    </tr>\n",
       "    <tr>\n",
       "      <th>1</th>\n",
       "      <td>2118947</td>\n",
       "      <td>Journal of Neuroscience</td>\n",
       "      <td>Frequency discrimination in the sense of flutt...</td>\n",
       "    </tr>\n",
       "    <tr>\n",
       "      <th>2</th>\n",
       "      <td>4959494</td>\n",
       "      <td>Science</td>\n",
       "      <td>Neural basis of the sense of flutter-vibration.</td>\n",
       "    </tr>\n",
       "    <tr>\n",
       "      <th>3</th>\n",
       "      <td>4977839</td>\n",
       "      <td>Journal of Neurophysiology</td>\n",
       "      <td>Cortical neuronal mechanisms in flutter-vibrat...</td>\n",
       "    </tr>\n",
       "    <tr>\n",
       "      <th>4</th>\n",
       "      <td>10884334</td>\n",
       "      <td>Nature Neuroscience</td>\n",
       "      <td>Neuronal correlates of decision-making in seco...</td>\n",
       "    </tr>\n",
       "  </tbody>\n",
       "</table>\n",
       "</div>"
      ],
      "text/plain": [
       "       PMID                     Journal  \\\n",
       "0  17183633                    PLoS ONE   \n",
       "1   2118947     Journal of Neuroscience   \n",
       "2   4959494                     Science   \n",
       "3   4977839  Journal of Neurophysiology   \n",
       "4  10884334         Nature Neuroscience   \n",
       "\n",
       "                                               Title  \n",
       "0  Factors Affecting Frequency Discrimination of ...  \n",
       "1  Frequency discrimination in the sense of flutt...  \n",
       "2    Neural basis of the sense of flutter-vibration.  \n",
       "3  Cortical neuronal mechanisms in flutter-vibrat...  \n",
       "4  Neuronal correlates of decision-making in seco...  "
      ]
     },
     "execution_count": 224,
     "metadata": {},
     "output_type": "execute_result"
    }
   ],
   "source": [
    "nodeDF.head()"
   ]
  },
  {
   "cell_type": "markdown",
   "metadata": {},
   "source": [
    "## Creating list for nodes and list of pairwise tuples for edges."
   ]
  },
  {
   "cell_type": "code",
   "execution_count": 195,
   "metadata": {},
   "outputs": [],
   "source": [
    "nodes=list(set(pmid_all+ref_all))"
   ]
  },
  {
   "cell_type": "code",
   "execution_count": 196,
   "metadata": {
    "collapsed": true
   },
   "outputs": [],
   "source": [
    "subset = ref_source[['Pmid', 'Ref_Pmid']]\n",
    "tuples = [tuple(x) for x in subset.values]"
   ]
  },
  {
   "cell_type": "code",
   "execution_count": 197,
   "metadata": {},
   "outputs": [
    {
     "data": {
      "text/plain": [
       "('17183633', '4977839')"
      ]
     },
     "execution_count": 197,
     "metadata": {},
     "output_type": "execute_result"
    }
   ],
   "source": [
    "tuples[2]"
   ]
  },
  {
   "cell_type": "markdown",
   "metadata": {},
   "source": [
    "## Generating a network graph using library NetworkX"
   ]
  },
  {
   "cell_type": "code",
   "execution_count": 198,
   "metadata": {
    "collapsed": true
   },
   "outputs": [],
   "source": [
    "import networkx as nx\n",
    "G = nx.Graph()\n",
    "G=nx.Graph()\n",
    "G.add_nodes_from(nodes)\n",
    "G.add_edges_from(tuples)"
   ]
  },
  {
   "cell_type": "markdown",
   "metadata": {},
   "source": [
    "## Demonstration of how easily degrees of seperation between two nodes can be calculated once the network graph is built"
   ]
  },
  {
   "cell_type": "code",
   "execution_count": 199,
   "metadata": {},
   "outputs": [],
   "source": [
    "deg_sep=nx.shortest_path_length(G, '17183633','11588197')"
   ]
  },
  {
   "cell_type": "code",
   "execution_count": 200,
   "metadata": {},
   "outputs": [
    {
     "name": "stdout",
     "output_type": "stream",
     "text": [
      "1\n"
     ]
    }
   ],
   "source": [
    "print(deg_sep)"
   ]
  },
  {
   "cell_type": "markdown",
   "metadata": {},
   "source": [
    "## Calculating other properties like centrality. \n",
    "Centrality is used to identify the most important nodes in a graph. As we can calculate the centrality of all nodes using NetworkX easily, this can be used as a parameter in the final product, perhaps for ranking recommendations. "
   ]
  },
  {
   "cell_type": "code",
   "execution_count": 217,
   "metadata": {},
   "outputs": [],
   "source": [
    "dict_centrality=nx.degree_centrality(G)"
   ]
  },
  {
   "cell_type": "code",
   "execution_count": 222,
   "metadata": {},
   "outputs": [
    {
     "data": {
      "text/html": [
       "<div>\n",
       "<style>\n",
       "    .dataframe thead tr:only-child th {\n",
       "        text-align: right;\n",
       "    }\n",
       "\n",
       "    .dataframe thead th {\n",
       "        text-align: left;\n",
       "    }\n",
       "\n",
       "    .dataframe tbody tr th {\n",
       "        vertical-align: top;\n",
       "    }\n",
       "</style>\n",
       "<table border=\"1\" class=\"dataframe\">\n",
       "  <thead>\n",
       "    <tr style=\"text-align: right;\">\n",
       "      <th></th>\n",
       "      <th>Centrality</th>\n",
       "      <th>PMID</th>\n",
       "    </tr>\n",
       "  </thead>\n",
       "  <tbody>\n",
       "    <tr>\n",
       "      <th>0</th>\n",
       "      <td>0.000004</td>\n",
       "      <td>11226308</td>\n",
       "    </tr>\n",
       "    <tr>\n",
       "      <th>1</th>\n",
       "      <td>0.000004</td>\n",
       "      <td>12894406</td>\n",
       "    </tr>\n",
       "    <tr>\n",
       "      <th>2</th>\n",
       "      <td>0.000007</td>\n",
       "      <td>2024485</td>\n",
       "    </tr>\n",
       "    <tr>\n",
       "      <th>3</th>\n",
       "      <td>0.000004</td>\n",
       "      <td>15027895</td>\n",
       "    </tr>\n",
       "    <tr>\n",
       "      <th>4</th>\n",
       "      <td>0.000004</td>\n",
       "      <td>778319</td>\n",
       "    </tr>\n",
       "  </tbody>\n",
       "</table>\n",
       "</div>"
      ],
      "text/plain": [
       "   Centrality      PMID\n",
       "0    0.000004  11226308\n",
       "1    0.000004  12894406\n",
       "2    0.000007   2024485\n",
       "3    0.000004  15027895\n",
       "4    0.000004    778319"
      ]
     },
     "execution_count": 222,
     "metadata": {},
     "output_type": "execute_result"
    }
   ],
   "source": [
    "import pandas as pd\n",
    "df=pd.DataFrame.from_dict(dict_centrality,orient='index')\n",
    "df.columns=['Centrality']\n",
    "df['PMID'] = df.index\n",
    "df=df.reset_index(drop=True)\n",
    "df.head()"
   ]
  },
  {
   "cell_type": "markdown",
   "metadata": {},
   "source": [
    "## Joining centrality dataframe with previously defined reference matrix on common PMID"
   ]
  },
  {
   "cell_type": "code",
   "execution_count": 227,
   "metadata": {},
   "outputs": [
    {
     "data": {
      "text/html": [
       "<div>\n",
       "<style>\n",
       "    .dataframe thead tr:only-child th {\n",
       "        text-align: right;\n",
       "    }\n",
       "\n",
       "    .dataframe thead th {\n",
       "        text-align: left;\n",
       "    }\n",
       "\n",
       "    .dataframe tbody tr th {\n",
       "        vertical-align: top;\n",
       "    }\n",
       "</style>\n",
       "<table border=\"1\" class=\"dataframe\">\n",
       "  <thead>\n",
       "    <tr style=\"text-align: right;\">\n",
       "      <th></th>\n",
       "      <th>Centrality</th>\n",
       "      <th>PMID</th>\n",
       "      <th>Journal</th>\n",
       "      <th>Title</th>\n",
       "    </tr>\n",
       "  </thead>\n",
       "  <tbody>\n",
       "    <tr>\n",
       "      <th>0</th>\n",
       "      <td>0.000004</td>\n",
       "      <td>11226308</td>\n",
       "      <td>Functional and neural mechanisms of interval t...</td>\n",
       "      <td>Increased expression of the pro-apoptotic Bcl2...</td>\n",
       "    </tr>\n",
       "    <tr>\n",
       "      <th>1</th>\n",
       "      <td>0.000004</td>\n",
       "      <td>12894406</td>\n",
       "      <td>Mech Dev</td>\n",
       "      <td>The</td>\n",
       "    </tr>\n",
       "    <tr>\n",
       "      <th>2</th>\n",
       "      <td>0.000007</td>\n",
       "      <td>2024485</td>\n",
       "      <td>Onderstepoort J Veter Res</td>\n",
       "      <td>Thickness distribution of actin bundles in vitro.</td>\n",
       "    </tr>\n",
       "    <tr>\n",
       "      <th>3</th>\n",
       "      <td>0.000007</td>\n",
       "      <td>2024485</td>\n",
       "      <td>Journal of Physical Chemistry B</td>\n",
       "      <td>Innate and adaptive immune responses of the ce...</td>\n",
       "    </tr>\n",
       "    <tr>\n",
       "      <th>4</th>\n",
       "      <td>0.000004</td>\n",
       "      <td>15027895</td>\n",
       "      <td>Nature</td>\n",
       "      <td>Immune control of tuberculosis by IFN-γ-induci...</td>\n",
       "    </tr>\n",
       "  </tbody>\n",
       "</table>\n",
       "</div>"
      ],
      "text/plain": [
       "   Centrality      PMID                                            Journal  \\\n",
       "0    0.000004  11226308  Functional and neural mechanisms of interval t...   \n",
       "1    0.000004  12894406                                           Mech Dev   \n",
       "2    0.000007   2024485                          Onderstepoort J Veter Res   \n",
       "3    0.000007   2024485                    Journal of Physical Chemistry B   \n",
       "4    0.000004  15027895                                             Nature   \n",
       "\n",
       "                                               Title  \n",
       "0  Increased expression of the pro-apoptotic Bcl2...  \n",
       "1                                               The   \n",
       "2  Thickness distribution of actin bundles in vitro.  \n",
       "3  Innate and adaptive immune responses of the ce...  \n",
       "4  Immune control of tuberculosis by IFN-γ-induci...  "
      ]
     },
     "execution_count": 227,
     "metadata": {},
     "output_type": "execute_result"
    }
   ],
   "source": [
    "centralityDF=df.merge(nodeDF, on='PMID',how='left')\n",
    "centralityDF.head()"
   ]
  },
  {
   "cell_type": "markdown",
   "metadata": {},
   "source": [
    "## Filtering out only PLOS journals and displaying top N."
   ]
  },
  {
   "cell_type": "code",
   "execution_count": 237,
   "metadata": {},
   "outputs": [],
   "source": [
    "centralityDF=centralityDF.dropna(axis=0, how='any')\n",
    "plosCentralityDF=centralityDF[centralityDF['Journal'].str.contains('PLoS|plos|PLOS')]"
   ]
  },
  {
   "cell_type": "code",
   "execution_count": 242,
   "metadata": {},
   "outputs": [
    {
     "data": {
      "text/plain": [
       "<matplotlib.axes._subplots.AxesSubplot at 0x29481fc6198>"
      ]
     },
     "execution_count": 242,
     "metadata": {},
     "output_type": "execute_result"
    },
    {
     "data": {
      "image/png": "[encoded data removed]",
      "text/plain": [
       "<matplotlib.figure.Figure at 0x2948b6636a0>"
      ]
     },
     "metadata": {},
     "output_type": "display_data"
    }
   ],
   "source": [
    "%matplotlib inline\n",
    "plosCentralityDF.sort_values('Centrality',ascending=False).head(n=50).plot(kind='bar')"
   ]
  },
  {
   "cell_type": "code",
   "execution_count": 244,
   "metadata": {},
   "outputs": [
    {
     "data": {
      "text/html": [
       "<div>\n",
       "<style>\n",
       "    .dataframe thead tr:only-child th {\n",
       "        text-align: right;\n",
       "    }\n",
       "\n",
       "    .dataframe thead th {\n",
       "        text-align: left;\n",
       "    }\n",
       "\n",
       "    .dataframe tbody tr th {\n",
       "        vertical-align: top;\n",
       "    }\n",
       "</style>\n",
       "<table border=\"1\" class=\"dataframe\">\n",
       "  <thead>\n",
       "    <tr style=\"text-align: right;\">\n",
       "      <th></th>\n",
       "      <th>Centrality</th>\n",
       "      <th>PMID</th>\n",
       "      <th>Journal</th>\n",
       "      <th>Title</th>\n",
       "    </tr>\n",
       "  </thead>\n",
       "  <tbody>\n",
       "    <tr>\n",
       "      <th>257747</th>\n",
       "      <td>0.000657</td>\n",
       "      <td>19194535</td>\n",
       "      <td>PLoS ONE</td>\n",
       "      <td>Publication bias: evidence of delayed publicat...</td>\n",
       "    </tr>\n",
       "    <tr>\n",
       "      <th>354506</th>\n",
       "      <td>0.000632</td>\n",
       "      <td>9254694</td>\n",
       "      <td>PLoS ONE</td>\n",
       "      <td>In vitro characterization of T cells from Myco...</td>\n",
       "    </tr>\n",
       "    <tr>\n",
       "      <th>354491</th>\n",
       "      <td>0.000632</td>\n",
       "      <td>9254694</td>\n",
       "      <td>PLoS ONE</td>\n",
       "      <td>Genomic Scale Mutant Hunt Identifies Cell Size...</td>\n",
       "    </tr>\n",
       "    <tr>\n",
       "      <th>354469</th>\n",
       "      <td>0.000632</td>\n",
       "      <td>9254694</td>\n",
       "      <td>PLoS ONE</td>\n",
       "      <td>Mannose 6-phosphate receptors in an ancient ve...</td>\n",
       "    </tr>\n",
       "    <tr>\n",
       "      <th>24472</th>\n",
       "      <td>0.000558</td>\n",
       "      <td>17330140</td>\n",
       "      <td>PLoS ONE</td>\n",
       "      <td>A general multivariate extension of Fisher's g...</td>\n",
       "    </tr>\n",
       "    <tr>\n",
       "      <th>10298</th>\n",
       "      <td>0.000470</td>\n",
       "      <td>17726530</td>\n",
       "      <td>PLoS ONE</td>\n",
       "      <td>Mechanism of IFN-γ-induced endocytosis of tigh...</td>\n",
       "    </tr>\n",
       "    <tr>\n",
       "      <th>161939</th>\n",
       "      <td>0.000434</td>\n",
       "      <td>7984417</td>\n",
       "      <td>PLoS ONE</td>\n",
       "      <td>Transcriptional regulation of the cyclin D1 pr...</td>\n",
       "    </tr>\n",
       "    <tr>\n",
       "      <th>344307</th>\n",
       "      <td>0.000410</td>\n",
       "      <td>18714376</td>\n",
       "      <td>PLoS ONE</td>\n",
       "      <td>Streptococcus suis: an emerging human pathogen.</td>\n",
       "    </tr>\n",
       "    <tr>\n",
       "      <th>95171</th>\n",
       "      <td>0.000402</td>\n",
       "      <td>11846609</td>\n",
       "      <td>PLoS Biol</td>\n",
       "      <td>Prevalence of Panton Valentine Leukocidin gene...</td>\n",
       "    </tr>\n",
       "    <tr>\n",
       "      <th>95195</th>\n",
       "      <td>0.000402</td>\n",
       "      <td>11846609</td>\n",
       "      <td>PLoS ONE</td>\n",
       "      <td>Multidrug resistance pumps in bacteria: variat...</td>\n",
       "    </tr>\n",
       "    <tr>\n",
       "      <th>95210</th>\n",
       "      <td>0.000402</td>\n",
       "      <td>11846609</td>\n",
       "      <td>PLoS ONE</td>\n",
       "      <td>The Connectivity Map: using gene expression si...</td>\n",
       "    </tr>\n",
       "    <tr>\n",
       "      <th>95168</th>\n",
       "      <td>0.000402</td>\n",
       "      <td>11846609</td>\n",
       "      <td>PLoS ONE</td>\n",
       "      <td>Regulation of p27</td>\n",
       "    </tr>\n",
       "    <tr>\n",
       "      <th>264082</th>\n",
       "      <td>0.000392</td>\n",
       "      <td>18989367</td>\n",
       "      <td>PLoS Pathogens</td>\n",
       "      <td>Initiation of translation in prokaryotes and e...</td>\n",
       "    </tr>\n",
       "    <tr>\n",
       "      <th>92986</th>\n",
       "      <td>0.000364</td>\n",
       "      <td>2231712</td>\n",
       "      <td>PLoS ONE</td>\n",
       "      <td>Structural basis of the interaction between Ra...</td>\n",
       "    </tr>\n",
       "    <tr>\n",
       "      <th>93004</th>\n",
       "      <td>0.000364</td>\n",
       "      <td>2231712</td>\n",
       "      <td>PLoS ONE</td>\n",
       "      <td>Definition of the extended substrate specifici...</td>\n",
       "    </tr>\n",
       "    <tr>\n",
       "      <th>93016</th>\n",
       "      <td>0.000364</td>\n",
       "      <td>2231712</td>\n",
       "      <td>PLoS ONE</td>\n",
       "      <td>Identification of mouse palmitoyl-coenzyme A D...</td>\n",
       "    </tr>\n",
       "    <tr>\n",
       "      <th>51703</th>\n",
       "      <td>0.000360</td>\n",
       "      <td>18446202</td>\n",
       "      <td>PLoS ONE</td>\n",
       "      <td>Sensitivity of aquatic plants to the herbicide...</td>\n",
       "    </tr>\n",
       "    <tr>\n",
       "      <th>167386</th>\n",
       "      <td>0.000328</td>\n",
       "      <td>18725973</td>\n",
       "      <td>PLoS ONE</td>\n",
       "      <td>Internalized Listeria monocytogenes modulates ...</td>\n",
       "    </tr>\n",
       "    <tr>\n",
       "      <th>323429</th>\n",
       "      <td>0.000321</td>\n",
       "      <td>11309499</td>\n",
       "      <td>PLoS ONE</td>\n",
       "      <td>Ascorbate in pharmacologic concentrations sele...</td>\n",
       "    </tr>\n",
       "    <tr>\n",
       "      <th>323442</th>\n",
       "      <td>0.000321</td>\n",
       "      <td>11309499</td>\n",
       "      <td>PLoS ONE</td>\n",
       "      <td>Chromosomal speciation and molecular divergenc...</td>\n",
       "    </tr>\n",
       "  </tbody>\n",
       "</table>\n",
       "</div>"
      ],
      "text/plain": [
       "        Centrality      PMID         Journal  \\\n",
       "257747    0.000657  19194535        PLoS ONE   \n",
       "354506    0.000632   9254694        PLoS ONE   \n",
       "354491    0.000632   9254694        PLoS ONE   \n",
       "354469    0.000632   9254694        PLoS ONE   \n",
       "24472     0.000558  17330140        PLoS ONE   \n",
       "10298     0.000470  17726530        PLoS ONE   \n",
       "161939    0.000434   7984417        PLoS ONE   \n",
       "344307    0.000410  18714376        PLoS ONE   \n",
       "95171     0.000402  11846609       PLoS Biol   \n",
       "95195     0.000402  11846609        PLoS ONE   \n",
       "95210     0.000402  11846609        PLoS ONE   \n",
       "95168     0.000402  11846609        PLoS ONE   \n",
       "264082    0.000392  18989367  PLoS Pathogens   \n",
       "92986     0.000364   2231712        PLoS ONE   \n",
       "93004     0.000364   2231712        PLoS ONE   \n",
       "93016     0.000364   2231712        PLoS ONE   \n",
       "51703     0.000360  18446202        PLoS ONE   \n",
       "167386    0.000328  18725973        PLoS ONE   \n",
       "323429    0.000321  11309499        PLoS ONE   \n",
       "323442    0.000321  11309499        PLoS ONE   \n",
       "\n",
       "                                                    Title  \n",
       "257747  Publication bias: evidence of delayed publicat...  \n",
       "354506  In vitro characterization of T cells from Myco...  \n",
       "354491  Genomic Scale Mutant Hunt Identifies Cell Size...  \n",
       "354469  Mannose 6-phosphate receptors in an ancient ve...  \n",
       "24472   A general multivariate extension of Fisher's g...  \n",
       "10298   Mechanism of IFN-γ-induced endocytosis of tigh...  \n",
       "161939  Transcriptional regulation of the cyclin D1 pr...  \n",
       "344307    Streptococcus suis: an emerging human pathogen.  \n",
       "95171   Prevalence of Panton Valentine Leukocidin gene...  \n",
       "95195   Multidrug resistance pumps in bacteria: variat...  \n",
       "95210   The Connectivity Map: using gene expression si...  \n",
       "95168                                   Regulation of p27  \n",
       "264082  Initiation of translation in prokaryotes and e...  \n",
       "92986   Structural basis of the interaction between Ra...  \n",
       "93004   Definition of the extended substrate specifici...  \n",
       "93016   Identification of mouse palmitoyl-coenzyme A D...  \n",
       "51703   Sensitivity of aquatic plants to the herbicide...  \n",
       "167386  Internalized Listeria monocytogenes modulates ...  \n",
       "323429  Ascorbate in pharmacologic concentrations sele...  \n",
       "323442  Chromosomal speciation and molecular divergenc...  "
      ]
     },
     "execution_count": 244,
     "metadata": {},
     "output_type": "execute_result"
    }
   ],
   "source": [
    "plosCentralityDF.sort_values('Centrality',ascending=False).head(n=20)"
   ]
  }
 ],
 "metadata": {
  "kernelspec": {
   "display_name": "Python 3",
   "language": "python",
   "name": "python3"
  },
  "language_info": {
   "codemirror_mode": {
    "name": "ipython",
    "version": 3
   },
   "file_extension": ".py",
   "mimetype": "text/x-python",
   "name": "python",
   "nbconvert_exporter": "python",
   "pygments_lexer": "ipython3",
   "version": "3.6.3"
  }
 },
 "nbformat": 4,
 "nbformat_minor": 2
}
